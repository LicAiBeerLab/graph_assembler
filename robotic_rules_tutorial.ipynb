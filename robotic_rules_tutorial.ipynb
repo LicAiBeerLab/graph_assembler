{
 "cells": [
  {
   "cell_type": "markdown",
   "metadata": {},
   "source": [
    "In this tutorial we will build rules for fully actuated grippers"
   ]
  },
  {
   "cell_type": "code",
   "execution_count": 9,
   "metadata": {},
   "outputs": [],
   "source": [
    "import numpy as np\n",
    "import pychrono as chrono\n",
    "\n",
    "from rostok.block_builder_api.block_blueprints import (PrimitiveBodyBlueprint,\n",
    "                                                       RevolveJointBlueprint,\n",
    "                                                       TransformBlueprint)\n",
    "from rostok.block_builder_api.block_parameters import JointInputType\n",
    "from rostok.block_builder_api.easy_body_shapes import Box\n",
    "from rostok.block_builder_chrono.blocks_utils import FrameTransform\n",
    "from rostok.graph_grammar import rule_vocabulary\n",
    "from rostok.graph_grammar.node import ROOT\n",
    "from rostok.graph_grammar.node_vocabulary import NodeVocabulary\n",
    "from rostok.utils.dataset_materials.material_dataclass_manipulating import (\n",
    "    DefaultChronoMaterialNSC, DefaultChronoMaterialSMC)"
   ]
  },
  {
   "cell_type": "markdown",
   "metadata": {},
   "source": [
    "At first we create auxiliary functions."
   ]
  },
  {
   "cell_type": "code",
   "execution_count": 10,
   "metadata": {},
   "outputs": [],
   "source": [
    "def get_density_box(mass: float, box: Box):\n",
    "    volume = box.height_z * box.length_y * box.width_x\n",
    "    return mass / volume\n",
    "\n",
    "def rotation_y(alpha):\n",
    "    quat_Y_ang_alpha = chrono.Q_from_AngY(np.deg2rad(alpha))\n",
    "    return [quat_Y_ang_alpha.e0, quat_Y_ang_alpha.e1, quat_Y_ang_alpha.e2, quat_Y_ang_alpha.e3]\n",
    "\n",
    "def rotation_z(alpha):\n",
    "    quat_Z_ang_alpha = chrono.Q_from_AngZ(np.deg2rad(alpha))\n",
    "    return [quat_Z_ang_alpha.e0, quat_Z_ang_alpha.e1, quat_Z_ang_alpha.e2, quat_Z_ang_alpha.e3]"
   ]
  },
  {
   "cell_type": "markdown",
   "metadata": {},
   "source": [
    "Create `NodeVocabulary` and all non-terminal nodes. Here non-terminal nodes are abstract blocks as Transforms, links and joints. Also there are special nodes that represents the points that can be used to grow the graph. "
   ]
  },
  {
   "cell_type": "code",
   "execution_count": 11,
   "metadata": {},
   "outputs": [],
   "source": [
    "# Nodes\n",
    "node_vocab = NodeVocabulary()\n",
    "node_vocab.add_node(ROOT)\n",
    "node_vocab.create_node(label=\"F\") # base node for a finger\n",
    "node_vocab.create_node(label=\"RF\") # base node for a reversed finger\n",
    "\n",
    "\n",
    "node_vocab.create_node(label=\"FG\") # node that represents a point of finger grow\n",
    "node_vocab.create_node(label=\"L\") # abstract link\n",
    "\n",
    "node_vocab.create_node(label=\"TP\") # abstract positive transform node without particular value\n",
    "node_vocab.create_node(label=\"TN\") # abstract negative transform node without particular value\n",
    "node_vocab.create_node(label=\"RT\") # reverse of a finger"
   ]
  },
  {
   "cell_type": "markdown",
   "metadata": {},
   "source": [
    "Next step is to create descriptions for all physical blocks.  \n",
    "At first we create description for bodies"
   ]
  },
  {
   "cell_type": "code",
   "execution_count": 12,
   "metadata": {},
   "outputs": [],
   "source": [
    "def_mat = DefaultChronoMaterialNSC()\n",
    "# blueprint for the palm\n",
    "super_flat = PrimitiveBodyBlueprint(\n",
    "    Box(0.3, 0.01, 0.30), material=def_mat, color=[255, 0, 0])\n",
    "# blueprint for the base\n",
    "base = PrimitiveBodyBlueprint(Box(0.03, 0.01, 0.03),\n",
    "                                material=def_mat,\n",
    "                                color=[0, 120, 255],\n",
    "                                density=10000)\n",
    "\n",
    "# sets effective density for the links, the real links are considered to be extendable.\n",
    "link_mass = (28 + 1.62 + 2.77) * 1e-3\n",
    "length_link = [0.05, 0.06, 0.075]\n",
    "# create link blueprints using mass and length parameters\n",
    "link = list(\n",
    "    map(\n",
    "        lambda x: PrimitiveBodyBlueprint(Box(0.035, x, 0.027),\n",
    "                                            material=def_mat,\n",
    "                                            color=[0, 120, 255],\n",
    "                                            density=get_density_box(link_mass, Box(\n",
    "                                                0.035, x, 0.027))), length_link))"
   ]
  },
  {
   "cell_type": "markdown",
   "metadata": {},
   "source": [
    "And create the corresponding terminal nodes."
   ]
  },
  {
   "cell_type": "code",
   "execution_count": 13,
   "metadata": {},
   "outputs": [],
   "source": [
    "node_vocab.create_node(label=\"FT\", is_terminal=True, block_blueprint=super_flat) # palm\n",
    "node_vocab.create_node(label=\"B\", is_terminal=True, block_blueprint=base)\n",
    "node_vocab.create_node(label=\"L1\", is_terminal=True,\n",
    "                        block_blueprint=link[0])\n",
    "node_vocab.create_node(label=\"L2\", is_terminal=True,\n",
    "                        block_blueprint=link[1])\n",
    "node_vocab.create_node(label=\"L3\", is_terminal=True,\n",
    "                        block_blueprint=link[2])"
   ]
  },
  {
   "cell_type": "markdown",
   "metadata": {},
   "source": [
    "Second set of physical descriptors are transformations"
   ]
  },
  {
   "cell_type": "code",
   "execution_count": 14,
   "metadata": {},
   "outputs": [],
   "source": [
    "x_translation_values = [0.07, 0.107, 0.144]\n",
    "X_TRANSLATIONS = list(\n",
    "    map(lambda x: FrameTransform([x, 0, 0], [1, 0, 0, 0]), x_translation_values))\n",
    "\n",
    "# rotation to 180 degrees around vertical axis\n",
    "REVERSE_Y = FrameTransform([0, 0, 0], [0, 0, 1, 0])\n",
    "\n",
    "# create transform blueprints from the values\n",
    "x_translation_transform = list(\n",
    "    map(lambda x: TransformBlueprint(x), X_TRANSLATIONS))\n",
    "\n",
    "\n",
    "reverse_transform = TransformBlueprint(REVERSE_Y)\n"
   ]
  },
  {
   "cell_type": "markdown",
   "metadata": {},
   "source": [
    "Create terminal nodes for transformations"
   ]
  },
  {
   "cell_type": "code",
   "execution_count": 15,
   "metadata": {},
   "outputs": [],
   "source": [
    "node_vocab.create_node(label=\"RE\", is_terminal=True,\n",
    "                        block_blueprint=reverse_transform)\n",
    "\n",
    "node_vocab.create_node(label=\"RT1\",\n",
    "                        is_terminal=True,\n",
    "                        block_blueprint=x_translation_transform[0])\n",
    "node_vocab.create_node(label=\"RT2\",\n",
    "                        is_terminal=True,\n",
    "                        block_blueprint=x_translation_transform[1])\n",
    "node_vocab.create_node(label=\"RT3\",\n",
    "                        is_terminal=True,\n",
    "                        block_blueprint=x_translation_transform[2])"
   ]
  },
  {
   "cell_type": "markdown",
   "metadata": {},
   "source": [
    "And finally describe the joint parameters. We don't need non-terminal nodes for joints because we only use one type of nodes.  "
   ]
  },
  {
   "cell_type": "code",
   "execution_count": 16,
   "metadata": {},
   "outputs": [],
   "source": [
    "mass_joint = (10 / 3 + 0.51 * 2 + 0.64 + 1.3) * 1e-3  # 0.012\n",
    "joint_radius_base = 0.015\n",
    "joint_radius = 0.015\n",
    "joint_length = 0.025\n",
    "density_joint = (mass_joint / (0.03 * 3.14 * joint_radius**2))\n",
    "\n",
    "revolve = RevolveJointBlueprint(JointInputType.TORQUE, material=def_mat, radius=joint_radius_base,\n",
    "                                length=joint_length, density=density_joint, stiffness=0.0, damping=0)\n",
    "revolve_base = RevolveJointBlueprint(JointInputType.TORQUE, material=def_mat, radius=joint_radius_base,\n",
    "                                        length=joint_length, density=density_joint, stiffness=0.0, damping=0)"
   ]
  },
  {
   "cell_type": "code",
   "execution_count": 17,
   "metadata": {},
   "outputs": [],
   "source": [
    "node_vocab.create_node(label=\"J\", is_terminal=True, block_blueprint=revolve)\n",
    "node_vocab.create_node(label=\"JB\", is_terminal=True, block_blueprint=revolve_base)"
   ]
  },
  {
   "cell_type": "markdown",
   "metadata": {},
   "source": [
    "Now we have all required nodes and can start build rules"
   ]
  },
  {
   "cell_type": "code",
   "execution_count": 18,
   "metadata": {},
   "outputs": [],
   "source": [
    "rule_vocab = rule_vocabulary.RuleVocabulary(node_vocab)\n",
    "rule_vocab.create_rule(\"Init\", [\"ROOT\"], [\"FT\", \"F\", \"RF\"], 0, 0,\n",
    "                        [(0, 1), (0, 2)])\n",
    "\n",
    "rule_vocab.create_rule(\"AddFinger\", [\"F\"], [\"RT\", \"B\", \"JB\", \"L\", \"FG\"], 0, 0, [(0, 1), (1, 2),\n",
    "                                                                                (2, 3), (3, 4)])\n",
    "rule_vocab.create_rule(\"RemoveFinger\", [\"F\"], [], 0, 0, [])\n",
    "\n",
    "rule_vocab.create_rule(\"AddFinger_R\", [\"RF\"], [\"RE\", \"RT\", \"B\", \"JB\", \"L\", \"FG\"], 0, 0,\n",
    "                        [(0, 1), (1, 2), (2, 3), (3, 4), (4, 5)])\n",
    "rule_vocab.create_rule(\"RemoveFinger_R\", [\"RF\"], [], 0, 0, [])\n",
    "\n",
    "rule_vocab.create_rule(\"Terminal_Radial_Translate1\",\n",
    "                        [\"RT\"], [\"RT1\"], 0, 0, [])\n",
    "rule_vocab.create_rule(\"Terminal_Radial_Translate2\",\n",
    "                        [\"RT\"], [\"RT2\"], 0, 0, [])\n",
    "rule_vocab.create_rule(\"Terminal_Radial_Translate3\",\n",
    "                        [\"RT\"], [\"RT3\"], 0, 0, [])\n",
    "\n",
    "rule_vocab.create_rule(\"Phalanx\", [\"FG\"], [\n",
    "                        \"J\", \"L\", \"FG\"], 0, 0, [(0, 1), (1, 2)])\n",
    "\n",
    "rule_vocab.create_rule(\"Terminal_Link1\", [\"L\"], [\"L1\"], 0, 0, [])\n",
    "rule_vocab.create_rule(\"Terminal_Link2\", [\"L\"], [\"L2\"], 0, 0, [])\n",
    "rule_vocab.create_rule(\"Terminal_Link3\", [\"L\"], [\"L3\"], 0, 0, [])\n",
    "rule_vocab.create_rule(\"Remove_FG\", [\"FG\"], [], 0, 0, [])"
   ]
  },
  {
   "cell_type": "code",
   "execution_count": 23,
   "metadata": {},
   "outputs": [
    {
     "data": {
      "image/png": "[encoded data removed]",
      "text/plain": [
       "<Figure size 640x480 with 1 Axes>"
      ]
     },
     "metadata": {},
     "output_type": "display_data"
    }
   ],
   "source": [
    "from rostok.graph_grammar.node import GraphGrammar\n",
    "from rostok.graph_grammar.graph_utils import plot_graph\n",
    "graph = GraphGrammar()\n",
    "rules = [\"Init\",\n",
    "    \"AddFinger\", \"Terminal_Radial_Translate3\",  \"Phalanx\", \"Phalanx\", \"Remove_FG\",\n",
    "    \"Terminal_Link3\", \"Terminal_Link2\", \"Terminal_Link1\",\n",
    "    \"AddFinger_R\", \"Terminal_Radial_Translate1\",  \"Remove_FG\", \"Terminal_Link2\",\n",
    "\n",
    "]\n",
    "\n",
    "for rule in rules:\n",
    "    graph.apply_rule(rule_vocab.get_rule(rule))\n",
    "\n",
    "plot_graph(graph)\n",
    "\n"
   ]
  },
  {
   "cell_type": "code",
   "execution_count": null,
   "metadata": {},
   "outputs": [],
   "source": [
    "\n",
    "\n",
    "\n"
   ]
  }
 ],
 "metadata": {
  "kernelspec": {
   "display_name": "rostok",
   "language": "python",
   "name": "python3"
  },
  "language_info": {
   "codemirror_mode": {
    "name": "ipython",
    "version": 3
   },
   "file_extension": ".py",
   "mimetype": "text/x-python",
   "name": "python",
   "nbconvert_exporter": "python",
   "pygments_lexer": "ipython3",
   "version": "3.10.8"
  }
 },
 "nbformat": 4,
 "nbformat_minor": 2
}
