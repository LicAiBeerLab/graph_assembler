{
 "cells": [
  {
   "cell_type": "markdown",
   "metadata": {},
   "source": [
    "In this tutorial we will build rules for fully actuated grippers"
   ]
  },
  {
   "cell_type": "code",
   "execution_count": 13,
   "metadata": {},
   "outputs": [],
   "source": [
    "import numpy as np\n",
    "import pychrono as chrono\n",
    "\n",
    "from rostok.block_builder_api.block_blueprints import (PrimitiveBodyBlueprint,\n",
    "                                                       RevolveJointBlueprint,\n",
    "                                                       TransformBlueprint)\n",
    "from rostok.block_builder_api.block_parameters import JointInputType\n",
    "from rostok.block_builder_api.easy_body_shapes import Box\n",
    "from rostok.block_builder_chrono.blocks_utils import FrameTransform\n",
    "from rostok.graph_grammar import rule_vocabulary\n",
    "from rostok.graph_grammar.node import ROOT\n",
    "from rostok.graph_grammar.node_vocabulary import NodeVocabulary\n",
    "from rostok.utils.dataset_materials.material_dataclass_manipulating import (\n",
    "    DefaultChronoMaterialNSC, DefaultChronoMaterialSMC)"
   ]
  },
  {
   "cell_type": "markdown",
   "metadata": {},
   "source": [
    "At first we create auxiliary functions."
   ]
  },
  {
   "cell_type": "code",
   "execution_count": 14,
   "metadata": {},
   "outputs": [],
   "source": [
    "def get_density_box(mass: float, box: Box):\n",
    "    volume = box.height_z * box.length_y * box.width_x\n",
    "    return mass / volume\n",
    "\n",
    "def rotation_y(alpha):\n",
    "    quat_Y_ang_alpha = chrono.Q_from_AngY(np.deg2rad(alpha))\n",
    "    return [quat_Y_ang_alpha.e0, quat_Y_ang_alpha.e1, quat_Y_ang_alpha.e2, quat_Y_ang_alpha.e3]\n",
    "\n",
    "def rotation_z(alpha):\n",
    "    quat_Z_ang_alpha = chrono.Q_from_AngZ(np.deg2rad(alpha))\n",
    "    return [quat_Z_ang_alpha.e0, quat_Z_ang_alpha.e1, quat_Z_ang_alpha.e2, quat_Z_ang_alpha.e3]"
   ]
  },
  {
   "cell_type": "markdown",
   "metadata": {},
   "source": [
    "Create `NodeVocabulary` and all non-terminal nodes. Here non-terminal nodes are abstract blocks as Transforms, links and joints. Also there are special nodes that represents the points that can be used to grow the graph. "
   ]
  },
  {
   "cell_type": "code",
   "execution_count": 15,
   "metadata": {},
   "outputs": [],
   "source": [
    "# Nodes\n",
    "node_vocab = NodeVocabulary()\n",
    "node_vocab.add_node(ROOT)\n",
    "node_vocab.create_node(label=\"F\") # base node for a finger\n",
    "node_vocab.create_node(label=\"RF\") # base node for a reversed finger\n",
    "\n",
    "\n",
    "node_vocab.create_node(label=\"FG\") # node that represents a point of finger grow\n",
    "node_vocab.create_node(label=\"L\") # abstract link\n",
    "\n",
    "node_vocab.create_node(label=\"TP\") # abstract positive transform node without particular value\n",
    "node_vocab.create_node(label=\"TN\") # abstract negative transform node without particular value\n",
    "node_vocab.create_node(label=\"RT\") # reverse of a finger"
   ]
  },
  {
   "cell_type": "markdown",
   "metadata": {},
   "source": [
    "Next step is to create descriptions for all physical blocks.  \n",
    "At first we create description for bodies"
   ]
  },
  {
   "cell_type": "code",
   "execution_count": 16,
   "metadata": {},
   "outputs": [],
   "source": [
    "def_mat = DefaultChronoMaterialNSC()\n",
    "# blueprint for the palm\n",
    "super_flat = PrimitiveBodyBlueprint(\n",
    "    Box(0.3, 0.01, 0.30), material=def_mat, color=[255, 0, 0])\n",
    "# blueprint for the base\n",
    "base = PrimitiveBodyBlueprint(Box(0.03, 0.01, 0.03),\n",
    "                                material=def_mat,\n",
    "                                color=[0, 120, 255],\n",
    "                                density=10000)\n",
    "\n",
    "# sets effective density for the links, the real links are considered to be extendable.\n",
    "link_mass = (28 + 1.62 + 2.77) * 1e-3\n",
    "length_link = [0.05, 0.06, 0.075]\n",
    "# create link blueprints using mass and length parameters\n",
    "link = list(\n",
    "    map(\n",
    "        lambda x: PrimitiveBodyBlueprint(Box(0.035, x, 0.027),\n",
    "                                            material=def_mat,\n",
    "                                            color=[0, 120, 255],\n",
    "                                            density=get_density_box(link_mass, Box(\n",
    "                                                0.035, x, 0.027))), length_link))"
   ]
  },
  {
   "cell_type": "markdown",
   "metadata": {},
   "source": [
    "And create the corresponding terminal nodes."
   ]
  },
  {
   "cell_type": "code",
   "execution_count": 17,
   "metadata": {},
   "outputs": [],
   "source": [
    "node_vocab.create_node(label=\"FT\", is_terminal=True, block_blueprint=super_flat) # palm\n",
    "node_vocab.create_node(label=\"B\", is_terminal=True, block_blueprint=base)\n",
    "node_vocab.create_node(label=\"L1\", is_terminal=True,\n",
    "                        block_blueprint=link[0])\n",
    "node_vocab.create_node(label=\"L2\", is_terminal=True,\n",
    "                        block_blueprint=link[1])\n",
    "node_vocab.create_node(label=\"L3\", is_terminal=True,\n",
    "                        block_blueprint=link[2])"
   ]
  },
  {
   "cell_type": "markdown",
   "metadata": {},
   "source": [
    "Second set of physical descriptors are transformations"
   ]
  },
  {
   "cell_type": "code",
   "execution_count": 18,
   "metadata": {},
   "outputs": [],
   "source": [
    "x_translation_values = [0.07, 0.107, 0.144]\n",
    "X_TRANSLATIONS = list(\n",
    "    map(lambda x: FrameTransform([x, 0, 0], [1, 0, 0, 0]), x_translation_values))\n",
    "\n",
    "# rotation to 180 degrees around vertical axis\n",
    "REVERSE_Y = FrameTransform([0, 0, 0], [0, 0, 1, 0])\n",
    "\n",
    "# create transform blueprints from the values\n",
    "x_translation_transform = list(\n",
    "    map(lambda x: TransformBlueprint(x), X_TRANSLATIONS))\n",
    "\n",
    "\n",
    "reverse_transform = TransformBlueprint(REVERSE_Y)\n"
   ]
  },
  {
   "cell_type": "markdown",
   "metadata": {},
   "source": [
    "Create terminal nodes for transformations"
   ]
  },
  {
   "cell_type": "code",
   "execution_count": 19,
   "metadata": {},
   "outputs": [],
   "source": [
    "node_vocab.create_node(label=\"RE\", is_terminal=True,\n",
    "                        block_blueprint=reverse_transform)\n",
    "\n",
    "node_vocab.create_node(label=\"RT1\",\n",
    "                        is_terminal=True,\n",
    "                        block_blueprint=x_translation_transform[0])\n",
    "node_vocab.create_node(label=\"RT2\",\n",
    "                        is_terminal=True,\n",
    "                        block_blueprint=x_translation_transform[1])\n",
    "node_vocab.create_node(label=\"RT3\",\n",
    "                        is_terminal=True,\n",
    "                        block_blueprint=x_translation_transform[2])"
   ]
  },
  {
   "cell_type": "markdown",
   "metadata": {},
   "source": [
    "And finally describe the joint parameters. We don't need non-terminal nodes for joints because we only use one type of nodes.  "
   ]
  },
  {
   "cell_type": "code",
   "execution_count": 20,
   "metadata": {},
   "outputs": [],
   "source": [
    "mass_joint = (10 / 3 + 0.51 * 2 + 0.64 + 1.3) * 1e-3  # 0.012\n",
    "joint_radius_base = 0.015\n",
    "joint_radius = 0.015\n",
    "joint_length = 0.025\n",
    "density_joint = (mass_joint / (0.03 * 3.14 * joint_radius**2))\n",
    "\n",
    "revolve = RevolveJointBlueprint(JointInputType.TORQUE, material=def_mat, radius=joint_radius_base,\n",
    "                                length=joint_length, density=density_joint, stiffness=0.0, damping=0)\n",
    "revolve_base = RevolveJointBlueprint(JointInputType.TORQUE, material=def_mat, radius=joint_radius_base,\n",
    "                                        length=joint_length, density=density_joint, stiffness=0.0, damping=0)"
   ]
  },
  {
   "cell_type": "code",
   "execution_count": 21,
   "metadata": {},
   "outputs": [],
   "source": [
    "node_vocab.create_node(label=\"J\", is_terminal=True, block_blueprint=revolve)\n",
    "node_vocab.create_node(label=\"JB\", is_terminal=True, block_blueprint=revolve_base)"
   ]
  },
  {
   "cell_type": "markdown",
   "metadata": {},
   "source": [
    "Now we have all required nodes and can start build rules"
   ]
  },
  {
   "cell_type": "code",
   "execution_count": 22,
   "metadata": {},
   "outputs": [],
   "source": [
    "rule_vocab = rule_vocabulary.RuleVocabulary(node_vocab)\n",
    "rule_vocab.create_rule(\"Init\", [\"ROOT\"], [\"FT\", \"F\", \"RF\"], 0, 0,\n",
    "                        [(0, 1), (0, 2)])\n",
    "\n",
    "rule_vocab.create_rule(\"AddFinger\", [\"F\"], [\"RT\", \"B\", \"JB\", \"L\", \"FG\"], 0, 0, [(0, 1), (1, 2),\n",
    "                                                                                (2, 3), (3, 4)])\n",
    "rule_vocab.create_rule(\"RemoveFinger\", [\"F\"], [], 0, 0, [])\n",
    "\n",
    "rule_vocab.create_rule(\"AddFinger_R\", [\"RF\"], [\"RE\", \"RT\", \"B\", \"JB\", \"L\", \"FG\"], 0, 0,\n",
    "                        [(0, 1), (1, 2), (2, 3), (3, 4), (4, 5)])\n",
    "rule_vocab.create_rule(\"RemoveFinger_R\", [\"RF\"], [], 0, 0, [])\n",
    "\n",
    "rule_vocab.create_rule(\"Terminal_Radial_Translate1\",\n",
    "                        [\"RT\"], [\"RT1\"], 0, 0, [])\n",
    "rule_vocab.create_rule(\"Terminal_Radial_Translate2\",\n",
    "                        [\"RT\"], [\"RT2\"], 0, 0, [])\n",
    "rule_vocab.create_rule(\"Terminal_Radial_Translate3\",\n",
    "                        [\"RT\"], [\"RT3\"], 0, 0, [])\n",
    "\n",
    "rule_vocab.create_rule(\"Phalanx\", [\"FG\"], [\n",
    "                        \"J\", \"L\", \"FG\"], 0, 0, [(0, 1), (1, 2)])\n",
    "\n",
    "rule_vocab.create_rule(\"Terminal_Link1\", [\"L\"], [\"L1\"], 0, 0, [])\n",
    "rule_vocab.create_rule(\"Terminal_Link2\", [\"L\"], [\"L2\"], 0, 0, [])\n",
    "rule_vocab.create_rule(\"Terminal_Link3\", [\"L\"], [\"L3\"], 0, 0, [])\n",
    "rule_vocab.create_rule(\"Remove_FG\", [\"FG\"], [], 0, 0, [])"
   ]
  },
  {
   "cell_type": "code",
   "execution_count": 23,
   "metadata": {},
   "outputs": [
    {
     "data": {
      "image/png": "[encoded data removed]",
      "text/plain": [
       "<Figure size 640x480 with 1 Axes>"
      ]
     },
     "metadata": {},
     "output_type": "display_data"
    }
   ],
   "source": [
    "from rostok.graph_grammar.node import GraphGrammar\n",
    "from rostok.graph_grammar.graph_utils import plot_graph\n",
    "graph = GraphGrammar()\n",
    "rules = [\"Init\",\n",
    "    \"AddFinger\", \"Terminal_Radial_Translate3\",  \"Phalanx\", \"Phalanx\", \"Remove_FG\",\n",
    "    \"Terminal_Link3\", \"Terminal_Link2\", \"Terminal_Link1\",\n",
    "    \"AddFinger_R\", \"Terminal_Radial_Translate1\",  \"Remove_FG\", \"Terminal_Link2\",\n",
    "\n",
    "]\n",
    "\n",
    "for rule in rules:\n",
    "    graph.apply_rule(rule_vocab.get_rule(rule))\n",
    "\n",
    "plot_graph(graph)\n",
    "\n"
   ]
  },
  {
   "cell_type": "code",
   "execution_count": 24,
   "metadata": {},
   "outputs": [
    {
     "data": {
      "text/plain": [
       "[[22], [6, 10, 13]]"
      ]
     },
     "execution_count": 24,
     "metadata": {},
     "output_type": "execute_result"
    }
   ],
   "source": [
    "\n",
    "from rostok.simulation_chrono.simulation_scenario import GraspScenario\n",
    "from rostok.graph_grammar.node_block_typing import get_joint_matrix_from_graph, get_joint_vector_from_graph\n",
    "\n",
    "\n",
    "get_joint_matrix_from_graph(graph)\n"
   ]
  },
  {
   "cell_type": "code",
   "execution_count": 25,
   "metadata": {},
   "outputs": [
    {
     "name": "stdout",
     "output_type": "stream",
     "text": [
      "Irrlicht Engine version 1.8.5\n",
      "Linux 6.5.0-45-generic #45~22.04.1-Ubuntu SMP PREEMPT_DYNAMIC Mon Jul 15 16:40:02 UTC 2 x86_64\n",
      "Using plain X visual\n",
      "This driver is not available in Linux. Try OpenGL or Software renderer.\n",
      "Irrlicht Engine version 1.8.5\n",
      "Linux 6.5.0-45-generic #45~22.04.1-Ubuntu SMP PREEMPT_DYNAMIC Mon Jul 15 16:40:02 UTC 2 x86_64\n",
      "Using renderer: OpenGL 4.6\n",
      "Mesa Intel(R) UHD Graphics 630 (CFL GT2): Intel\n",
      "OpenGL driver version is 1.2 or better.\n",
      "GLSL version: 4.6\n",
      "Loaded texture: /home/be2r-lab-210134/Python/anaconda3/envs/rostok/share/chrono/data/fonts/arial80.bmp\n",
      "Loaded texture: /home/be2r-lab-210134/Python/anaconda3/envs/rostok/share/chrono/data/skybox/sky_lf.jpg\n",
      "Loaded texture: /home/be2r-lab-210134/Python/anaconda3/envs/rostok/share/chrono/data/skybox/sky_up.jpg\n",
      "Loaded texture: /home/be2r-lab-210134/Python/anaconda3/envs/rostok/share/chrono/data/skybox/sky_dn.jpg\n"
     ]
    },
    {
     "name": "stderr",
     "output_type": "stream",
     "text": [
      "Cannot use default video driver - fall back to OpenGL\n"
     ]
    },
    {
     "data": {
      "text/plain": [
       "SimulationResult(time=1.0000000000000007, time_vector=[0, 0.001, 0.002, 0.003, 0.004, 0.005, 0.006, 0.007, 0.008, 0.009000000000000001, 0.010000000000000002, 0.011000000000000003, 0.012000000000000004, 0.013000000000000005, 0.014000000000000005, 0.015000000000000006, 0.016000000000000007, 0.017000000000000008, 0.01800000000000001, 0.01900000000000001, 0.02000000000000001, 0.02100000000000001, 0.022000000000000013, 0.023000000000000013, 0.024000000000000014, 0.025000000000000015, 0.026000000000000016, 0.027000000000000017, 0.028000000000000018, 0.02900000000000002, 0.03000000000000002, 0.03100000000000002, 0.03200000000000002, 0.03300000000000002, 0.03400000000000002, 0.035000000000000024, 0.036000000000000025, 0.037000000000000026, 0.03800000000000003, 0.03900000000000003, 0.04000000000000003, 0.04100000000000003, 0.04200000000000003, 0.04300000000000003, 0.04400000000000003, 0.04500000000000003, 0.046000000000000034, 0.047000000000000035, 0.048000000000000036, 0.04900000000000004, 0.05000000000000004, 0.05100000000000004, 0.05200000000000004, 0.05300000000000004, 0.05400000000000004, 0.05500000000000004, 0.05600000000000004, 0.057000000000000044, 0.058000000000000045, 0.059000000000000045, 0.060000000000000046, 0.06100000000000005, 0.06200000000000005, 0.06300000000000004, 0.06400000000000004, 0.06500000000000004, 0.06600000000000004, 0.06700000000000005, 0.06800000000000005, 0.06900000000000005, 0.07000000000000005, 0.07100000000000005, 0.07200000000000005, 0.07300000000000005, 0.07400000000000005, 0.07500000000000005, 0.07600000000000005, 0.07700000000000005, 0.07800000000000006, 0.07900000000000006, 0.08000000000000006, 0.08100000000000006, 0.08200000000000006, 0.08300000000000006, 0.08400000000000006, 0.08500000000000006, 0.08600000000000006, 0.08700000000000006, 0.08800000000000006, 0.08900000000000007, 0.09000000000000007, 0.09100000000000007, 0.09200000000000007, 0.09300000000000007, 0.09400000000000007, 0.09500000000000007, 0.09600000000000007, 0.09700000000000007, 0.09800000000000007, 0.09900000000000007, 0.10000000000000007, 0.10100000000000008, 0.10200000000000008, 0.10300000000000008, 0.10400000000000008, 0.10500000000000008, 0.10600000000000008, 0.10700000000000008, 0.10800000000000008, 0.10900000000000008, 0.11000000000000008, 0.11100000000000008, 0.11200000000000009, 0.11300000000000009, 0.11400000000000009, 0.11500000000000009, 0.11600000000000009, 0.11700000000000009, 0.11800000000000009, 0.11900000000000009, 0.12000000000000009, 0.1210000000000001, 0.1220000000000001, 0.1230000000000001, 0.1240000000000001, 0.12500000000000008, 0.12600000000000008, 0.12700000000000009, 0.12800000000000009, 0.1290000000000001, 0.1300000000000001, 0.1310000000000001, 0.1320000000000001, 0.1330000000000001, 0.1340000000000001, 0.1350000000000001, 0.1360000000000001, 0.1370000000000001, 0.1380000000000001, 0.1390000000000001, 0.1400000000000001, 0.1410000000000001, 0.1420000000000001, 0.1430000000000001, 0.1440000000000001, 0.1450000000000001, 0.1460000000000001, 0.1470000000000001, 0.1480000000000001, 0.1490000000000001, 0.1500000000000001, 0.1510000000000001, 0.1520000000000001, 0.1530000000000001, 0.1540000000000001, 0.1550000000000001, 0.1560000000000001, 0.1570000000000001, 0.1580000000000001, 0.1590000000000001, 0.16000000000000011, 0.16100000000000012, 0.16200000000000012, 0.16300000000000012, 0.16400000000000012, 0.16500000000000012, 0.16600000000000012, 0.16700000000000012, 0.16800000000000012, 0.16900000000000012, 0.17000000000000012, 0.17100000000000012, 0.17200000000000013, 0.17300000000000013, 0.17400000000000013, 0.17500000000000013, 0.17600000000000013, 0.17700000000000013, 0.17800000000000013, 0.17900000000000013, 0.18000000000000013, 0.18100000000000013, 0.18200000000000013, 0.18300000000000013, 0.18400000000000014, 0.18500000000000014, 0.18600000000000014, 0.18700000000000014, 0.18800000000000014, 0.18900000000000014, 0.19000000000000014, 0.19100000000000014, 0.19200000000000014, 0.19300000000000014, 0.19400000000000014, 0.19500000000000015, 0.19600000000000015, 0.19700000000000015, 0.19800000000000015, 0.19900000000000015, 0.20000000000000015, 0.20100000000000015, 0.20200000000000015, 0.20300000000000015, 0.20400000000000015, 0.20500000000000015, 0.20600000000000016, 0.20700000000000016, 0.20800000000000016, 0.20900000000000016, 0.21000000000000016, 0.21100000000000016, 0.21200000000000016, 0.21300000000000016, 0.21400000000000016, 0.21500000000000016, 0.21600000000000016, 0.21700000000000016, 0.21800000000000017, 0.21900000000000017, 0.22000000000000017, 0.22100000000000017, 0.22200000000000017, 0.22300000000000017, 0.22400000000000017, 0.22500000000000017, 0.22600000000000017, 0.22700000000000017, 0.22800000000000017, 0.22900000000000018, 0.23000000000000018, 0.23100000000000018, 0.23200000000000018, 0.23300000000000018, 0.23400000000000018, 0.23500000000000018, 0.23600000000000018, 0.23700000000000018, 0.23800000000000018, 0.23900000000000018, 0.24000000000000019, 0.2410000000000002, 0.2420000000000002, 0.2430000000000002, 0.2440000000000002, 0.2450000000000002, 0.2460000000000002, 0.2470000000000002, 0.2480000000000002, 0.2490000000000002, 0.25000000000000017, 0.25100000000000017, 0.25200000000000017, 0.25300000000000017, 0.25400000000000017, 0.25500000000000017, 0.25600000000000017, 0.2570000000000002, 0.2580000000000002, 0.2590000000000002, 0.2600000000000002, 0.2610000000000002, 0.2620000000000002, 0.2630000000000002, 0.2640000000000002, 0.2650000000000002, 0.2660000000000002, 0.2670000000000002, 0.2680000000000002, 0.2690000000000002, 0.2700000000000002, 0.2710000000000002, 0.2720000000000002, 0.2730000000000002, 0.2740000000000002, 0.2750000000000002, 0.2760000000000002, 0.2770000000000002, 0.2780000000000002, 0.2790000000000002, 0.2800000000000002, 0.2810000000000002, 0.2820000000000002, 0.2830000000000002, 0.2840000000000002, 0.2850000000000002, 0.2860000000000002, 0.2870000000000002, 0.2880000000000002, 0.2890000000000002, 0.2900000000000002, 0.2910000000000002, 0.2920000000000002, 0.2930000000000002, 0.2940000000000002, 0.2950000000000002, 0.2960000000000002, 0.2970000000000002, 0.2980000000000002, 0.2990000000000002, 0.3000000000000002, 0.3010000000000002, 0.3020000000000002, 0.3030000000000002, 0.3040000000000002, 0.3050000000000002, 0.3060000000000002, 0.3070000000000002, 0.3080000000000002, 0.3090000000000002, 0.3100000000000002, 0.3110000000000002, 0.3120000000000002, 0.3130000000000002, 0.3140000000000002, 0.3150000000000002, 0.3160000000000002, 0.3170000000000002, 0.3180000000000002, 0.31900000000000023, 0.32000000000000023, 0.32100000000000023, 0.32200000000000023, 0.32300000000000023, 0.32400000000000023, 0.32500000000000023, 0.32600000000000023, 0.32700000000000023, 0.32800000000000024, 0.32900000000000024, 0.33000000000000024, 0.33100000000000024, 0.33200000000000024, 0.33300000000000024, 0.33400000000000024, 0.33500000000000024, 0.33600000000000024, 0.33700000000000024, 0.33800000000000024, 0.33900000000000025, 0.34000000000000025, 0.34100000000000025, 0.34200000000000025, 0.34300000000000025, 0.34400000000000025, 0.34500000000000025, 0.34600000000000025, 0.34700000000000025, 0.34800000000000025, 0.34900000000000025, 0.35000000000000026, 0.35100000000000026, 0.35200000000000026, 0.35300000000000026, 0.35400000000000026, 0.35500000000000026, 0.35600000000000026, 0.35700000000000026, 0.35800000000000026, 0.35900000000000026, 0.36000000000000026, 0.36100000000000027, 0.36200000000000027, 0.36300000000000027, 0.36400000000000027, 0.36500000000000027, 0.36600000000000027, 0.36700000000000027, 0.36800000000000027, 0.36900000000000027, 0.3700000000000003, 0.3710000000000003, 0.3720000000000003, 0.3730000000000003, 0.3740000000000003, 0.3750000000000003, 0.3760000000000003, 0.3770000000000003, 0.3780000000000003, 0.3790000000000003, 0.3800000000000003, 0.3810000000000003, 0.3820000000000003, 0.3830000000000003, 0.3840000000000003, 0.3850000000000003, 0.3860000000000003, 0.3870000000000003, 0.3880000000000003, 0.3890000000000003, 0.3900000000000003, 0.3910000000000003, 0.3920000000000003, 0.3930000000000003, 0.3940000000000003, 0.3950000000000003, 0.3960000000000003, 0.3970000000000003, 0.3980000000000003, 0.3990000000000003, 0.4000000000000003, 0.4010000000000003, 0.4020000000000003, 0.4030000000000003, 0.4040000000000003, 0.4050000000000003, 0.4060000000000003, 0.4070000000000003, 0.4080000000000003, 0.4090000000000003, 0.4100000000000003, 0.4110000000000003, 0.4120000000000003, 0.4130000000000003, 0.4140000000000003, 0.4150000000000003, 0.4160000000000003, 0.4170000000000003, 0.4180000000000003, 0.4190000000000003, 0.4200000000000003, 0.4210000000000003, 0.4220000000000003, 0.4230000000000003, 0.4240000000000003, 0.4250000000000003, 0.4260000000000003, 0.4270000000000003, 0.4280000000000003, 0.4290000000000003, 0.4300000000000003, 0.4310000000000003, 0.43200000000000033, 0.43300000000000033, 0.43400000000000033, 0.43500000000000033, 0.43600000000000033, 0.43700000000000033, 0.43800000000000033, 0.43900000000000033, 0.44000000000000034, 0.44100000000000034, 0.44200000000000034, 0.44300000000000034, 0.44400000000000034, 0.44500000000000034, 0.44600000000000034, 0.44700000000000034, 0.44800000000000034, 0.44900000000000034, 0.45000000000000034, 0.45100000000000035, 0.45200000000000035, 0.45300000000000035, 0.45400000000000035, 0.45500000000000035, 0.45600000000000035, 0.45700000000000035, 0.45800000000000035, 0.45900000000000035, 0.46000000000000035, 0.46100000000000035, 0.46200000000000035, 0.46300000000000036, 0.46400000000000036, 0.46500000000000036, 0.46600000000000036, 0.46700000000000036, 0.46800000000000036, 0.46900000000000036, 0.47000000000000036, 0.47100000000000036, 0.47200000000000036, 0.47300000000000036, 0.47400000000000037, 0.47500000000000037, 0.47600000000000037, 0.47700000000000037, 0.47800000000000037, 0.47900000000000037, 0.48000000000000037, 0.48100000000000037, 0.4820000000000004, 0.4830000000000004, 0.4840000000000004, 0.4850000000000004, 0.4860000000000004, 0.4870000000000004, 0.4880000000000004, 0.4890000000000004, 0.4900000000000004, 0.4910000000000004, 0.4920000000000004, 0.4930000000000004, 0.4940000000000004, 0.4950000000000004, 0.4960000000000004, 0.4970000000000004, 0.4980000000000004, 0.4990000000000004, 0.5000000000000003, 0.5010000000000003, 0.5020000000000003, 0.5030000000000003, 0.5040000000000003, 0.5050000000000003, 0.5060000000000003, 0.5070000000000003, 0.5080000000000003, 0.5090000000000003, 0.5100000000000003, 0.5110000000000003, 0.5120000000000003, 0.5130000000000003, 0.5140000000000003, 0.5150000000000003, 0.5160000000000003, 0.5170000000000003, 0.5180000000000003, 0.5190000000000003, 0.5200000000000004, 0.5210000000000004, 0.5220000000000004, 0.5230000000000004, 0.5240000000000004, 0.5250000000000004, 0.5260000000000004, 0.5270000000000004, 0.5280000000000004, 0.5290000000000004, 0.5300000000000004, 0.5310000000000004, 0.5320000000000004, 0.5330000000000004, 0.5340000000000004, 0.5350000000000004, 0.5360000000000004, 0.5370000000000004, 0.5380000000000004, 0.5390000000000004, 0.5400000000000004, 0.5410000000000004, 0.5420000000000004, 0.5430000000000004, 0.5440000000000004, 0.5450000000000004, 0.5460000000000004, 0.5470000000000004, 0.5480000000000004, 0.5490000000000004, 0.5500000000000004, 0.5510000000000004, 0.5520000000000004, 0.5530000000000004, 0.5540000000000004, 0.5550000000000004, 0.5560000000000004, 0.5570000000000004, 0.5580000000000004, 0.5590000000000004, 0.5600000000000004, 0.5610000000000004, 0.5620000000000004, 0.5630000000000004, 0.5640000000000004, 0.5650000000000004, 0.5660000000000004, 0.5670000000000004, 0.5680000000000004, 0.5690000000000004, 0.5700000000000004, 0.5710000000000004, 0.5720000000000004, 0.5730000000000004, 0.5740000000000004, 0.5750000000000004, 0.5760000000000004, 0.5770000000000004, 0.5780000000000004, 0.5790000000000004, 0.5800000000000004, 0.5810000000000004, 0.5820000000000004, 0.5830000000000004, 0.5840000000000004, 0.5850000000000004, 0.5860000000000004, 0.5870000000000004, 0.5880000000000004, 0.5890000000000004, 0.5900000000000004, 0.5910000000000004, 0.5920000000000004, 0.5930000000000004, 0.5940000000000004, 0.5950000000000004, 0.5960000000000004, 0.5970000000000004, 0.5980000000000004, 0.5990000000000004, 0.6000000000000004, 0.6010000000000004, 0.6020000000000004, 0.6030000000000004, 0.6040000000000004, 0.6050000000000004, 0.6060000000000004, 0.6070000000000004, 0.6080000000000004, 0.6090000000000004, 0.6100000000000004, 0.6110000000000004, 0.6120000000000004, 0.6130000000000004, 0.6140000000000004, 0.6150000000000004, 0.6160000000000004, 0.6170000000000004, 0.6180000000000004, 0.6190000000000004, 0.6200000000000004, 0.6210000000000004, 0.6220000000000004, 0.6230000000000004, 0.6240000000000004, 0.6250000000000004, 0.6260000000000004, 0.6270000000000004, 0.6280000000000004, 0.6290000000000004, 0.6300000000000004, 0.6310000000000004, 0.6320000000000005, 0.6330000000000005, 0.6340000000000005, 0.6350000000000005, 0.6360000000000005, 0.6370000000000005, 0.6380000000000005, 0.6390000000000005, 0.6400000000000005, 0.6410000000000005, 0.6420000000000005, 0.6430000000000005, 0.6440000000000005, 0.6450000000000005, 0.6460000000000005, 0.6470000000000005, 0.6480000000000005, 0.6490000000000005, 0.6500000000000005, 0.6510000000000005, 0.6520000000000005, 0.6530000000000005, 0.6540000000000005, 0.6550000000000005, 0.6560000000000005, 0.6570000000000005, 0.6580000000000005, 0.6590000000000005, 0.6600000000000005, 0.6610000000000005, 0.6620000000000005, 0.6630000000000005, 0.6640000000000005, 0.6650000000000005, 0.6660000000000005, 0.6670000000000005, 0.6680000000000005, 0.6690000000000005, 0.6700000000000005, 0.6710000000000005, 0.6720000000000005, 0.6730000000000005, 0.6740000000000005, 0.6750000000000005, 0.6760000000000005, 0.6770000000000005, 0.6780000000000005, 0.6790000000000005, 0.6800000000000005, 0.6810000000000005, 0.6820000000000005, 0.6830000000000005, 0.6840000000000005, 0.6850000000000005, 0.6860000000000005, 0.6870000000000005, 0.6880000000000005, 0.6890000000000005, 0.6900000000000005, 0.6910000000000005, 0.6920000000000005, 0.6930000000000005, 0.6940000000000005, 0.6950000000000005, 0.6960000000000005, 0.6970000000000005, 0.6980000000000005, 0.6990000000000005, 0.7000000000000005, 0.7010000000000005, 0.7020000000000005, 0.7030000000000005, 0.7040000000000005, 0.7050000000000005, 0.7060000000000005, 0.7070000000000005, 0.7080000000000005, 0.7090000000000005, 0.7100000000000005, 0.7110000000000005, 0.7120000000000005, 0.7130000000000005, 0.7140000000000005, 0.7150000000000005, 0.7160000000000005, 0.7170000000000005, 0.7180000000000005, 0.7190000000000005, 0.7200000000000005, 0.7210000000000005, 0.7220000000000005, 0.7230000000000005, 0.7240000000000005, 0.7250000000000005, 0.7260000000000005, 0.7270000000000005, 0.7280000000000005, 0.7290000000000005, 0.7300000000000005, 0.7310000000000005, 0.7320000000000005, 0.7330000000000005, 0.7340000000000005, 0.7350000000000005, 0.7360000000000005, 0.7370000000000005, 0.7380000000000005, 0.7390000000000005, 0.7400000000000005, 0.7410000000000005, 0.7420000000000005, 0.7430000000000005, 0.7440000000000005, 0.7450000000000006, 0.7460000000000006, 0.7470000000000006, 0.7480000000000006, 0.7490000000000006, 0.7500000000000006, 0.7510000000000006, 0.7520000000000006, 0.7530000000000006, 0.7540000000000006, 0.7550000000000006, 0.7560000000000006, 0.7570000000000006, 0.7580000000000006, 0.7590000000000006, 0.7600000000000006, 0.7610000000000006, 0.7620000000000006, 0.7630000000000006, 0.7640000000000006, 0.7650000000000006, 0.7660000000000006, 0.7670000000000006, 0.7680000000000006, 0.7690000000000006, 0.7700000000000006, 0.7710000000000006, 0.7720000000000006, 0.7730000000000006, 0.7740000000000006, 0.7750000000000006, 0.7760000000000006, 0.7770000000000006, 0.7780000000000006, 0.7790000000000006, 0.7800000000000006, 0.7810000000000006, 0.7820000000000006, 0.7830000000000006, 0.7840000000000006, 0.7850000000000006, 0.7860000000000006, 0.7870000000000006, 0.7880000000000006, 0.7890000000000006, 0.7900000000000006, 0.7910000000000006, 0.7920000000000006, 0.7930000000000006, 0.7940000000000006, 0.7950000000000006, 0.7960000000000006, 0.7970000000000006, 0.7980000000000006, 0.7990000000000006, 0.8000000000000006, 0.8010000000000006, 0.8020000000000006, 0.8030000000000006, 0.8040000000000006, 0.8050000000000006, 0.8060000000000006, 0.8070000000000006, 0.8080000000000006, 0.8090000000000006, 0.8100000000000006, 0.8110000000000006, 0.8120000000000006, 0.8130000000000006, 0.8140000000000006, 0.8150000000000006, 0.8160000000000006, 0.8170000000000006, 0.8180000000000006, 0.8190000000000006, 0.8200000000000006, 0.8210000000000006, 0.8220000000000006, 0.8230000000000006, 0.8240000000000006, 0.8250000000000006, 0.8260000000000006, 0.8270000000000006, 0.8280000000000006, 0.8290000000000006, 0.8300000000000006, 0.8310000000000006, 0.8320000000000006, 0.8330000000000006, 0.8340000000000006, 0.8350000000000006, 0.8360000000000006, 0.8370000000000006, 0.8380000000000006, 0.8390000000000006, 0.8400000000000006, 0.8410000000000006, 0.8420000000000006, 0.8430000000000006, 0.8440000000000006, 0.8450000000000006, 0.8460000000000006, 0.8470000000000006, 0.8480000000000006, 0.8490000000000006, 0.8500000000000006, 0.8510000000000006, 0.8520000000000006, 0.8530000000000006, 0.8540000000000006, 0.8550000000000006, 0.8560000000000006, 0.8570000000000007, 0.8580000000000007, 0.8590000000000007, 0.8600000000000007, 0.8610000000000007, 0.8620000000000007, 0.8630000000000007, 0.8640000000000007, 0.8650000000000007, 0.8660000000000007, 0.8670000000000007, 0.8680000000000007, 0.8690000000000007, 0.8700000000000007, 0.8710000000000007, 0.8720000000000007, 0.8730000000000007, 0.8740000000000007, 0.8750000000000007, 0.8760000000000007, 0.8770000000000007, 0.8780000000000007, 0.8790000000000007, 0.8800000000000007, 0.8810000000000007, 0.8820000000000007, 0.8830000000000007, 0.8840000000000007, 0.8850000000000007, 0.8860000000000007, 0.8870000000000007, 0.8880000000000007, 0.8890000000000007, 0.8900000000000007, 0.8910000000000007, 0.8920000000000007, 0.8930000000000007, 0.8940000000000007, 0.8950000000000007, 0.8960000000000007, 0.8970000000000007, 0.8980000000000007, 0.8990000000000007, 0.9000000000000007, 0.9010000000000007, 0.9020000000000007, 0.9030000000000007, 0.9040000000000007, 0.9050000000000007, 0.9060000000000007, 0.9070000000000007, 0.9080000000000007, 0.9090000000000007, 0.9100000000000007, 0.9110000000000007, 0.9120000000000007, 0.9130000000000007, 0.9140000000000007, 0.9150000000000007, 0.9160000000000007, 0.9170000000000007, 0.9180000000000007, 0.9190000000000007, 0.9200000000000007, 0.9210000000000007, 0.9220000000000007, 0.9230000000000007, 0.9240000000000007, 0.9250000000000007, 0.9260000000000007, 0.9270000000000007, 0.9280000000000007, 0.9290000000000007, 0.9300000000000007, 0.9310000000000007, 0.9320000000000007, 0.9330000000000007, 0.9340000000000007, 0.9350000000000007, 0.9360000000000007, 0.9370000000000007, 0.9380000000000007, 0.9390000000000007, 0.9400000000000007, 0.9410000000000007, 0.9420000000000007, 0.9430000000000007, 0.9440000000000007, 0.9450000000000007, 0.9460000000000007, 0.9470000000000007, 0.9480000000000007, 0.9490000000000007, 0.9500000000000007, 0.9510000000000007, 0.9520000000000007, 0.9530000000000007, 0.9540000000000007, 0.9550000000000007, 0.9560000000000007, 0.9570000000000007, 0.9580000000000007, 0.9590000000000007, 0.9600000000000007, 0.9610000000000007, 0.9620000000000007, 0.9630000000000007, 0.9640000000000007, 0.9650000000000007, 0.9660000000000007, 0.9670000000000007, 0.9680000000000007, 0.9690000000000007, 0.9700000000000008, 0.9710000000000008, 0.9720000000000008, 0.9730000000000008, 0.9740000000000008, 0.9750000000000008, 0.9760000000000008, 0.9770000000000008, 0.9780000000000008, 0.9790000000000008, 0.9800000000000008, 0.9810000000000008, 0.9820000000000008, 0.9830000000000008, 0.9840000000000008, 0.9850000000000008, 0.9860000000000008, 0.9870000000000008, 0.9880000000000008, 0.9890000000000008, 0.9900000000000008, 0.9910000000000008, 0.9920000000000008, 0.9930000000000008, 0.9940000000000008, 0.9950000000000008, 0.9960000000000008, 0.9970000000000008, 0.9980000000000008, 0.9990000000000008, 1.0000000000000007], robot_final_ds=<rostok.virtual_experiment.sensors.DataStorage object at 0x74c8d8a6a650>, environment_final_ds=<rostok.virtual_experiment.sensors.DataStorage object at 0x74c8d8a6a680>, event_container=[])"
      ]
     },
     "execution_count": 25,
     "metadata": {},
     "output_type": "execute_result"
    }
   ],
   "source": [
    "from rostok.simulation_chrono.simulation import (ChronoSystems, EnvCreator, SingleRobotSimulation,\n",
    "                                                 ChronoVisManager)\n",
    "from rostok.control_chrono.controller import (ConstController, SinControllerChrono)\n",
    "env_creator = EnvCreator([])\n",
    "system = ChronoSystems.chrono_NSC_system(gravity_list=[0, 0, 0])\n",
    "vis_manager = ChronoVisManager(delay=False)\n",
    "\n",
    "control = {\"initial_value\": [2,1,1,1]}\n",
    "\n",
    "simulation = SingleRobotSimulation(system, env_creator, vis_manager)\n",
    "\n",
    "simulation.add_design(graph, control,\n",
    "                                ConstController)\n",
    "        \n",
    "# setup parameters for the data store\n",
    "\n",
    "n_steps = 1000\n",
    "\n",
    "\n",
    "robot_data_dict = {}\n",
    "simulation.add_robot_data_type_dict(robot_data_dict)\n",
    "simulation.simulate(n_steps, 1e-3, 10000, [], vis_manager)\n",
    "\n",
    "#scenario.run_simulation(graph, control, starting_positions=[[0,0,-7,7], [0,0,-5,5], [0, 30, -60, -30, 60], [0, 30, -60, -30, 60]], vis = True, delay=True)\n"
   ]
  }
 ],
 "metadata": {
  "kernelspec": {
   "display_name": "rostok",
   "language": "python",
   "name": "python3"
  },
  "language_info": {
   "codemirror_mode": {
    "name": "ipython",
    "version": 3
   },
   "file_extension": ".py",
   "mimetype": "text/x-python",
   "name": "python",
   "nbconvert_exporter": "python",
   "pygments_lexer": "ipython3",
   "version": "3.10.8"
  }
 },
 "nbformat": 4,
 "nbformat_minor": 2
}
