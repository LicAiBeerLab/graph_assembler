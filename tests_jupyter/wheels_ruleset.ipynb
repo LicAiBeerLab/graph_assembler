{
 "cells": [
  {
   "cell_type": "code",
   "execution_count": 22,
   "metadata": {},
   "outputs": [],
   "source": [
    "import numpy as np\n",
    "import pychrono as chrono\n",
    "\n",
    "from rostok.block_builder_api.block_blueprints import (PrimitiveBodyBlueprint,\n",
    "                                                       RevolveJointBlueprint,\n",
    "                                                       TransformBlueprint)\n",
    "from rostok.block_builder_api.block_parameters import JointInputType\n",
    "from rostok.block_builder_api.easy_body_shapes import Box, Cylinder, Ellipsoid\n",
    "from rostok.block_builder_chrono.blocks_utils import FrameTransform\n",
    "from rostok.graph_grammar import rule_vocabulary\n",
    "from rostok.graph_grammar.node import ROOT\n",
    "from rostok.graph_grammar.node_vocabulary import NodeVocabulary\n",
    "from rostok.utils.dataset_materials.material_dataclass_manipulating import (\n",
    "    DefaultChronoMaterialNSC, DefaultChronoMaterialSMC)\n",
    "from rostok.graph_grammar.node import GraphGrammar\n",
    "from rostok.graph_grammar.graph_utils import plot_graph"
   ]
  },
  {
   "cell_type": "code",
   "execution_count": 23,
   "metadata": {},
   "outputs": [],
   "source": [
    "def get_density_box(mass: float, box: Box):\n",
    "    volume = box.height_z * box.length_y * box.width_x\n",
    "    return mass / volume\n",
    "\n",
    "def rotation_x(alpha):\n",
    "    quat_X_ang_alpha = chrono.Q_from_AngX(np.deg2rad(alpha))\n",
    "    return [quat_X_ang_alpha.e0, quat_X_ang_alpha.e1, quat_X_ang_alpha.e2, quat_X_ang_alpha.e3]\n",
    "\n",
    "def rotation_y(alpha):\n",
    "    quat_Y_ang_alpha = chrono.Q_from_AngY(np.deg2rad(alpha))\n",
    "    return [quat_Y_ang_alpha.e0, quat_Y_ang_alpha.e1, quat_Y_ang_alpha.e2, quat_Y_ang_alpha.e3]\n",
    "\n",
    "def rotation_z(alpha):\n",
    "    quat_Z_ang_alpha = chrono.Q_from_AngZ(np.deg2rad(alpha))\n",
    "    return [quat_Z_ang_alpha.e0, quat_Z_ang_alpha.e1, quat_Z_ang_alpha.e2, quat_Z_ang_alpha.e3]\n",
    "\n",
    "def_mat = DefaultChronoMaterialNSC()"
   ]
  },
  {
   "cell_type": "code",
   "execution_count": 24,
   "metadata": {},
   "outputs": [],
   "source": [
    "node_vocab = NodeVocabulary()\n",
    "node_vocab.add_node(ROOT)\n",
    "node_vocab.create_node(label=\"MB\")\n",
    "node_vocab.create_node(label=\"L\")\n",
    "node_vocab.create_node(label=\"W\")\n",
    "node_vocab.create_node(label=\"J\")\n",
    "node_vocab.create_node(label=\"R\")\n",
    "node_vocab.create_node(label=\"G\")\n",
    "\n",
    "node_vocab.create_node(label=\"XT\")\n",
    "node_vocab.create_node(label=\"ZT\")\n"
   ]
  },
  {
   "cell_type": "code",
   "execution_count": 25,
   "metadata": {},
   "outputs": [],
   "source": [
    "from copy import deepcopy\n",
    "# blueprint for the palm\n",
    "main_body = []\n",
    "\n",
    "for i in range(10):\n",
    "    main_body.append(PrimitiveBodyBlueprint(\n",
    "        Box(0.5, 0.1, 0.3), material=def_mat, color=[255, 0, 0], density=100+i*100,is_collide=False))\n",
    "    \n",
    "wheel_def_mat = deepcopy(def_mat)\n",
    "wheel_def_mat.Friction = 0.5\n",
    "wheel_def_mat.RollingFriction=0.0001\n",
    "wheel_def_mat.SpinningFriction=0.0001\n",
    "wheel_body_cyl = PrimitiveBodyBlueprint(\n",
    "    Cylinder(0.03, 0.02), material=wheel_def_mat, color=[0, 120, 255], density=500)\n",
    "\n",
    "wheel_body_ell = PrimitiveBodyBlueprint(\n",
    "    Ellipsoid(0.06,0.06, 0.04), material=def_mat, color=[0, 120, 255], density=500)\n",
    "\n",
    "# blueprint for the base\n",
    "base = PrimitiveBodyBlueprint(Box(0.02, 0.03, 0.02),\n",
    "                                material=def_mat,\n",
    "                                color=[120, 120, 0],\n",
    "                                density=500)\n",
    "\n",
    "# sets effective density for the links, the real links are considered to be extendable.\n",
    "\n",
    "length_link = np.linspace(0.05, 0.1, 5)\n",
    "# create link blueprints using mass and length parameters\n",
    "link = list(map(lambda x: PrimitiveBodyBlueprint(Box(0.02, x, 0.02),\n",
    "                                            material=def_mat,\n",
    "                                            color=[0, 120, 255],\n",
    "                                            density=500), length_link))\n",
    "\n",
    "dummy_link = PrimitiveBodyBlueprint(\n",
    "    Box(0.01, 0.001, 0.01), material=def_mat, density=1000000)"
   ]
  },
  {
   "cell_type": "code",
   "execution_count": 26,
   "metadata": {},
   "outputs": [
    {
     "data": {
      "text/plain": [
       "282600000.0"
      ]
     },
     "execution_count": 26,
     "metadata": {},
     "output_type": "execute_result"
    }
   ],
   "source": [
    "0.3**2*3.14*0.2*500/(0.01**3*0.1)\n"
   ]
  },
  {
   "cell_type": "code",
   "execution_count": 27,
   "metadata": {},
   "outputs": [],
   "source": [
    "for i, bp in enumerate(main_body):\n",
    "    node_vocab.create_node(label=f\"MB{i}\", is_terminal=True, block_blueprint=bp)\n",
    "\n",
    "for i, bp in enumerate(link):\n",
    "    node_vocab.create_node(label=f\"L{i}\", is_terminal=True, block_blueprint=bp)\n",
    "\n",
    "node_vocab.create_node(label=\"B\", is_terminal=True,block_blueprint=base)\n",
    "node_vocab.create_node(label=\"WC\", is_terminal=True,block_blueprint=wheel_body_cyl)\n",
    "node_vocab.create_node(label=\"WE\", is_terminal=True,block_blueprint=wheel_body_ell)\n",
    "\n",
    "node_vocab.create_node(label=\"DB\", is_terminal=True,\n",
    "                        block_blueprint=dummy_link)"
   ]
  },
  {
   "cell_type": "code",
   "execution_count": 28,
   "metadata": {},
   "outputs": [],
   "source": [
    "x_translation_values = np.linspace(0.0,0.25,5)\n",
    "X_TRANSLATIONS_POSITIVE = list(\n",
    "    map(lambda x: FrameTransform([x, 0, 0], [1, 0, 0, 0]), x_translation_values))\n",
    "X_TRANSLATIONS_NEGATIVE=list(\n",
    "    map(lambda x: FrameTransform([-x, 0, 0], [1, 0, 0, 0]), x_translation_values))\n",
    "    # create transform blueprints from the values\n",
    "x_translation_positive = list(\n",
    "    map(lambda x: TransformBlueprint(x), X_TRANSLATIONS_POSITIVE))\n",
    "x_translation_negative = list(\n",
    "    map(lambda x: TransformBlueprint(x), X_TRANSLATIONS_NEGATIVE))\n",
    "\n",
    "z_translation_values = np.linspace(0.0,0.15,5)\n",
    "Z_TRANSLATIONS_POSITIVE = list(\n",
    "    map(lambda x: FrameTransform([0, 0, x], [1, 0, 0, 0]), z_translation_values))\n",
    "Z_TRANSLATIONS_NEGATIVE = list(\n",
    "    map(lambda x: FrameTransform([0, 0, -x], [1, 0, 0, 0]), z_translation_values))\n",
    "\n",
    "z_translation_positive = list(\n",
    "    map(lambda x: TransformBlueprint(x), Z_TRANSLATIONS_POSITIVE))\n",
    "z_translation_negative = list(\n",
    "    map(lambda x: TransformBlueprint(x), Z_TRANSLATIONS_NEGATIVE))"
   ]
  },
  {
   "cell_type": "code",
   "execution_count": 29,
   "metadata": {},
   "outputs": [],
   "source": [
    "for i, bp in enumerate(x_translation_positive):\n",
    "    node_vocab.create_node(label=f\"XTP{i}\", is_terminal=True, block_blueprint=bp)\n",
    "\n",
    "for i, bp in enumerate(x_translation_negative):\n",
    "    node_vocab.create_node(label=f\"XTN{i}\", is_terminal=True, block_blueprint=bp)\n",
    "\n",
    "for i, bp in enumerate(z_translation_positive):\n",
    "    node_vocab.create_node(label=f\"ZTP{i}\", is_terminal=True, block_blueprint=bp)\n",
    "\n",
    "for i, bp in enumerate(z_translation_negative):\n",
    "    node_vocab.create_node(label=f\"ZTN{i}\", is_terminal=True, block_blueprint=bp)"
   ]
  },
  {
   "cell_type": "code",
   "execution_count": 30,
   "metadata": {},
   "outputs": [],
   "source": [
    "TURN_X = FrameTransform([0, 0, 0], rotation_x(90))\n",
    "turn_x_bp = TransformBlueprint(TURN_X)\n",
    "\n",
    "TURN_Y = FrameTransform([0, 0, 0], rotation_y(90))\n",
    "turn_y_bp = TransformBlueprint(TURN_Y)\n",
    "\n",
    "TURN_Z = FrameTransform([0, 0, 0], rotation_z(90))\n",
    "turn_z_bp = TransformBlueprint(TURN_Z)"
   ]
  },
  {
   "cell_type": "code",
   "execution_count": 31,
   "metadata": {},
   "outputs": [],
   "source": [
    "node_vocab.create_node(label='XR',is_terminal=True, block_blueprint=turn_x_bp)\n",
    "node_vocab.create_node(label='YR',is_terminal=True, block_blueprint=turn_y_bp)\n",
    "node_vocab.create_node(label='ZR',is_terminal=True, block_blueprint=turn_z_bp)"
   ]
  },
  {
   "cell_type": "code",
   "execution_count": 32,
   "metadata": {},
   "outputs": [],
   "source": [
    "stiffness = np.linspace(0.1,10,100)\n",
    "\n",
    "no_control_joint = list(\n",
    "    map(lambda x: RevolveJointBlueprint(JointInputType.UNCONTROL,\n",
    "                                            stiffness=x,\n",
    "                                            damping=0.005,\n",
    "                                            equilibrium_position=0), stiffness))\n",
    "motor_bp = RevolveJointBlueprint(JointInputType.TORQUE,  stiffness=0, damping=0.002)\n",
    "neutral_bp = RevolveJointBlueprint(JointInputType.UNCONTROL,  stiffness=0, damping=0.002)"
   ]
  },
  {
   "cell_type": "code",
   "execution_count": 33,
   "metadata": {},
   "outputs": [],
   "source": [
    "node_vocab.create_node(label=\"RM\", is_terminal=True, block_blueprint=motor_bp)\n",
    "node_vocab.create_node(label=\"LM\", is_terminal=True, block_blueprint=motor_bp)\n",
    "node_vocab.create_node(label=\"NM\", is_terminal=True, block_blueprint=neutral_bp)\n",
    "\n",
    "for i, bp in enumerate(no_control_joint):\n",
    "    node_vocab.create_node(label=f\"J{i}\", is_terminal=True, block_blueprint=bp)"
   ]
  },
  {
   "cell_type": "code",
   "execution_count": 34,
   "metadata": {},
   "outputs": [],
   "source": [
    "rule_vocab = rule_vocabulary.RuleVocabulary(node_vocab)\n",
    "# structural rules\n",
    "rule_vocab.create_rule(\"Init\", [\"ROOT\"], [\"MB\"], 0, 0,[])\n",
    "rule_vocab.create_rule(\"Add_Leg_Base\",[\"MB\"],[\"MB\",\"XT\",\"ZT\",\"B\",\"G\"],0,0,[(0,1),(1,2),(2,3),(3,4)])\n",
    "\n",
    "rule_vocab.create_rule(\"Extension\",[\"G\"],[\"J\",\"L\", \"G\"], 0,2,[(0, 1), (1, 2)])\n",
    "rule_vocab.create_rule(\"R_Wheel\",[\"G\"], [\"J\",\"DB\",\"RM\",\"W\"],0,0,[(0,1),(1,2),(2,3)])\n",
    "rule_vocab.create_rule(\"L_Wheel\",[\"G\"], [\"J\",\"DB\",\"LM\",\"W\"],0,0,[(0,1),(1,2),(2,3)])\n",
    "rule_vocab.create_rule(\"Wheel\",[\"G\"], [\"J\",\"DB\",\"NM\",\"W\"],0,0,[(0,1),(1,2),(2,3)])\n",
    "rule_vocab.create_rule(\"Rotation\",[\"G\"],[\"R\",\"G\"],0,0,[(0,1)])"
   ]
  },
  {
   "cell_type": "code",
   "execution_count": 35,
   "metadata": {},
   "outputs": [],
   "source": [
    "for i in range(len(main_body)):\n",
    "    rule_vocab.create_rule(f'Terminal_Main_Body{i}',[\"MB\"],[f\"MB{i}\"],0,0,[])\n",
    "\n",
    "for i in range(len(link)):\n",
    "    rule_vocab.create_rule(f'Terminal_Link{i}',[\"L\"],[f\"L{i}\"],0,0,[])\n",
    "\n",
    "for i in range(len(no_control_joint)):\n",
    "    rule_vocab.create_rule(f'Terminal_Joint{i}',[\"J\"],[f\"J{i}\"],0,0,[])\n",
    "\n",
    "for i in range(len(x_translation_positive)):\n",
    "    rule_vocab.create_rule(f'Positive_Translation_X{i}',[\"XT\"],[f\"XTP{i}\"],0,0,[])\n",
    "for i in range(len(x_translation_negative)):\n",
    "    rule_vocab.create_rule(f'Negative_Translation_X{i}',[\"XT\"],[f\"XTN{i}\"],0,0,[])\n",
    "for i in range(len(z_translation_positive)):\n",
    "    rule_vocab.create_rule(f'Positive_Translation_Z{i}',[\"ZT\"],[f\"ZTP{i}\"],0,0,[])\n",
    "for i in range(len(z_translation_negative)):\n",
    "    rule_vocab.create_rule(f'Negative_Translation_Z{i}',[\"ZT\"],[f\"ZTN{i}\"],0,0,[])\n",
    "\n",
    "rule_vocab.create_rule(f'Rotation_X',[\"R\"],[\"XR\"],0,0,[])\n",
    "rule_vocab.create_rule(f'Rotation_Y',[\"R\"],[\"YR\"],0,0,[])\n",
    "rule_vocab.create_rule(f'Rotation_Z',[\"R\"],[\"ZR\"],0,0,[])\n",
    "\n",
    "rule_vocab.create_rule(\"Cyl_Wheel\",[\"W\"],[\"WC\"],0,0,[])\n",
    "rule_vocab.create_rule(\"Ell_Wheel\",[\"W\"],[\"WE\"],0,0,[])\n",
    "\n"
   ]
  },
  {
   "cell_type": "code",
   "execution_count": 36,
   "metadata": {},
   "outputs": [
    {
     "data": {
      "image/png": "[encoded data removed]",
      "text/plain": [
       "<Figure size 640x480 with 1 Axes>"
      ]
     },
     "metadata": {},
     "output_type": "display_data"
    }
   ],
   "source": [
    "i=9\n",
    "graph = GraphGrammar()\n",
    "rules = [\"Init\",\n",
    "    \"Add_Leg_Base\",\"Positive_Translation_X4\",\"Positive_Translation_Z3\",\"Rotation\",\n",
    "    'Rotation_Y', \"Extension\",\"Extension\",f'Terminal_Joint{i}',f'Terminal_Joint{i}', \"Rotation\",\"R_Wheel\", \"Cyl_Wheel\",\n",
    "    \"Terminal_Link3\",\"Terminal_Link3\", 'Terminal_Joint50','Rotation_Y',\n",
    "\n",
    "    \"Add_Leg_Base\",\"Positive_Translation_X4\",\"Negative_Translation_Z3\",\"Rotation\",\n",
    "    'Rotation_Y', \"Extension\",\"Extension\",f'Terminal_Joint{i}',f'Terminal_Joint{i}',\"Rotation\",\"L_Wheel\", \"Cyl_Wheel\",\n",
    "    \"Terminal_Link3\",\"Terminal_Link3\", 'Terminal_Joint50','Rotation_Y',\n",
    "\n",
    "    \"Add_Leg_Base\",\"Negative_Translation_X4\",\"Positive_Translation_Z3\",\"Rotation\",\n",
    "    'Rotation_Y', \"Extension\",\"Extension\",\"Rotation\",f'Terminal_Joint{i}', f'Terminal_Joint{i}',\"R_Wheel\", \"Cyl_Wheel\",\n",
    "    \"Terminal_Link3\",\"Terminal_Link3\", 'Terminal_Joint50','Rotation_Y',\n",
    "\n",
    "    \"Add_Leg_Base\",\"Negative_Translation_X4\",\"Negative_Translation_Z3\",\"Rotation\",\n",
    "    'Rotation_Y', \"Extension\",\"Extension\",f'Terminal_Joint{i}',f'Terminal_Joint{i}', \"Rotation\",\"L_Wheel\", \"Cyl_Wheel\",\n",
    "    \"Terminal_Link3\",\"Terminal_Link3\",'Terminal_Joint50','Rotation_Y',\n",
    "\n",
    "    'Terminal_Main_Body3'\n",
    "    \n",
    "]\n",
    "\n",
    "for rule in rules:\n",
    "    graph.apply_rule(rule_vocab.get_rule(rule))\n",
    "\n",
    "\n",
    "plot_graph(graph)"
   ]
  },
  {
   "cell_type": "code",
   "execution_count": 37,
   "metadata": {},
   "outputs": [],
   "source": [
    "from rostok.simulation_chrono.simulation_scenario import SuspensionCarScenario\n",
    "from rostok.criterion.simulation_flags import EventBodyTooLowBuilder, EventContactInInitialPositionBuilder\n",
    "from rostok.control_chrono.controller import SimpleKeyBoardController\n",
    "\n",
    "parameters = {}\n",
    "parameters[\"forward\"] = 1\n",
    "parameters[\"reverse\"]= 1\n",
    "parameters[\"forward_rotate\"] = 0.5\n",
    "parameters[\"reverse_rotate\"] = 0.3"
   ]
  },
  {
   "cell_type": "code",
   "execution_count": 16,
   "metadata": {},
   "outputs": [
    {
     "name": "stdout",
     "output_type": "stream",
     "text": [
      "0.2\n"
     ]
    }
   ],
   "source": [
    "height = 0\n",
    "for i in np.linspace(0.1,1,100):\n",
    "    scenario = SuspensionCarScenario(0.0001, 0.01,initial_vertical_pos=i, controller_cls=SimpleKeyBoardController)\n",
    "    scenario.add_event_builder(event_builder=EventBodyTooLowBuilder(0.15))\n",
    "    scenario.add_event_builder(event_builder=EventContactInInitialPositionBuilder())\n",
    "    result = scenario.run_simulation(graph, parameters, starting_positions=[[-30,30,0,0], [30,-30,0,0], [-30,30,0,0], [30,-30,0,0]], vis = True, delay=False)\n",
    "    if len(list(result.robot_final_ds.get_data(\"COG\").items())[0][1]) > 10:\n",
    "        height = i\n",
    "        break\n",
    "\n",
    "print(height)\n"
   ]
  },
  {
   "cell_type": "code",
   "execution_count": 38,
   "metadata": {},
   "outputs": [],
   "source": [
    "height = 0.29"
   ]
  },
  {
   "cell_type": "code",
   "execution_count": 17,
   "metadata": {},
   "outputs": [
    {
     "data": {
      "text/plain": [
       "array([0.1       , 0.10909091, 0.11818182, 0.12727273, 0.13636364,\n",
       "       0.14545455, 0.15454545, 0.16363636, 0.17272727, 0.18181818,\n",
       "       0.19090909, 0.2       , 0.20909091, 0.21818182, 0.22727273,\n",
       "       0.23636364, 0.24545455, 0.25454545, 0.26363636, 0.27272727,\n",
       "       0.28181818, 0.29090909, 0.3       , 0.30909091, 0.31818182,\n",
       "       0.32727273, 0.33636364, 0.34545455, 0.35454545, 0.36363636,\n",
       "       0.37272727, 0.38181818, 0.39090909, 0.4       , 0.40909091,\n",
       "       0.41818182, 0.42727273, 0.43636364, 0.44545455, 0.45454545,\n",
       "       0.46363636, 0.47272727, 0.48181818, 0.49090909, 0.5       ,\n",
       "       0.50909091, 0.51818182, 0.52727273, 0.53636364, 0.54545455,\n",
       "       0.55454545, 0.56363636, 0.57272727, 0.58181818, 0.59090909,\n",
       "       0.6       , 0.60909091, 0.61818182, 0.62727273, 0.63636364,\n",
       "       0.64545455, 0.65454545, 0.66363636, 0.67272727, 0.68181818,\n",
       "       0.69090909, 0.7       , 0.70909091, 0.71818182, 0.72727273,\n",
       "       0.73636364, 0.74545455, 0.75454545, 0.76363636, 0.77272727,\n",
       "       0.78181818, 0.79090909, 0.8       , 0.80909091, 0.81818182,\n",
       "       0.82727273, 0.83636364, 0.84545455, 0.85454545, 0.86363636,\n",
       "       0.87272727, 0.88181818, 0.89090909, 0.9       , 0.90909091,\n",
       "       0.91818182, 0.92727273, 0.93636364, 0.94545455, 0.95454545,\n",
       "       0.96363636, 0.97272727, 0.98181818, 0.99090909, 1.        ])"
      ]
     },
     "execution_count": 17,
     "metadata": {},
     "output_type": "execute_result"
    }
   ],
   "source": [
    "np.linspace(0.1,1,100)"
   ]
  },
  {
   "cell_type": "code",
   "execution_count": 41,
   "metadata": {},
   "outputs": [
    {
     "name": "stdout",
     "output_type": "stream",
     "text": [
      "0\n",
      "10\n",
      "20\n",
      "30\n",
      "40\n"
     ]
    },
    {
     "ename": "KeyboardInterrupt",
     "evalue": "",
     "output_type": "error",
     "traceback": [
      "\u001b[1;31m---------------------------------------------------------------------------\u001b[0m",
      "\u001b[1;31mKeyboardInterrupt\u001b[0m                         Traceback (most recent call last)",
      "Cell \u001b[1;32mIn[41], line 33\u001b[0m\n\u001b[0;32m     31\u001b[0m scenario\u001b[38;5;241m.\u001b[39madd_event_builder(event_builder\u001b[38;5;241m=\u001b[39mEventBodyTooLowBuilder(\u001b[38;5;241m0.15\u001b[39m))\n\u001b[0;32m     32\u001b[0m scenario\u001b[38;5;241m.\u001b[39madd_event_builder(event_builder\u001b[38;5;241m=\u001b[39mEventContactInInitialPositionBuilder())\n\u001b[1;32m---> 33\u001b[0m result \u001b[38;5;241m=\u001b[39m \u001b[43mscenario\u001b[49m\u001b[38;5;241;43m.\u001b[39;49m\u001b[43mrun_simulation\u001b[49m\u001b[43m(\u001b[49m\u001b[43mgraph\u001b[49m\u001b[43m,\u001b[49m\u001b[43m \u001b[49m\u001b[43mparameters\u001b[49m\u001b[43m,\u001b[49m\u001b[43m \u001b[49m\u001b[43mstarting_positions\u001b[49m\u001b[38;5;241;43m=\u001b[39;49m\u001b[43m[\u001b[49m\u001b[43m[\u001b[49m\u001b[38;5;241;43m-\u001b[39;49m\u001b[38;5;241;43m30\u001b[39;49m\u001b[43m,\u001b[49m\u001b[38;5;241;43m30\u001b[39;49m\u001b[43m,\u001b[49m\u001b[38;5;241;43m0\u001b[39;49m\u001b[43m,\u001b[49m\u001b[38;5;241;43m0\u001b[39;49m\u001b[43m]\u001b[49m\u001b[43m,\u001b[49m\u001b[43m \u001b[49m\u001b[43m[\u001b[49m\u001b[38;5;241;43m30\u001b[39;49m\u001b[43m,\u001b[49m\u001b[38;5;241;43m-\u001b[39;49m\u001b[38;5;241;43m30\u001b[39;49m\u001b[43m,\u001b[49m\u001b[38;5;241;43m0\u001b[39;49m\u001b[43m,\u001b[49m\u001b[38;5;241;43m0\u001b[39;49m\u001b[43m]\u001b[49m\u001b[43m,\u001b[49m\u001b[43m \u001b[49m\u001b[43m[\u001b[49m\u001b[38;5;241;43m-\u001b[39;49m\u001b[38;5;241;43m30\u001b[39;49m\u001b[43m,\u001b[49m\u001b[38;5;241;43m30\u001b[39;49m\u001b[43m,\u001b[49m\u001b[38;5;241;43m0\u001b[39;49m\u001b[43m,\u001b[49m\u001b[38;5;241;43m0\u001b[39;49m\u001b[43m]\u001b[49m\u001b[43m,\u001b[49m\u001b[43m \u001b[49m\u001b[43m[\u001b[49m\u001b[38;5;241;43m30\u001b[39;49m\u001b[43m,\u001b[49m\u001b[38;5;241;43m-\u001b[39;49m\u001b[38;5;241;43m30\u001b[39;49m\u001b[43m,\u001b[49m\u001b[38;5;241;43m0\u001b[39;49m\u001b[43m,\u001b[49m\u001b[38;5;241;43m0\u001b[39;49m\u001b[43m]\u001b[49m\u001b[43m]\u001b[49m\u001b[43m,\u001b[49m\u001b[43m \u001b[49m\u001b[43mvis\u001b[49m\u001b[43m \u001b[49m\u001b[38;5;241;43m=\u001b[39;49m\u001b[43m \u001b[49m\u001b[38;5;28;43;01mFalse\u001b[39;49;00m\u001b[43m,\u001b[49m\u001b[43m \u001b[49m\u001b[43mdelay\u001b[49m\u001b[38;5;241;43m=\u001b[39;49m\u001b[38;5;28;43;01mFalse\u001b[39;49;00m\u001b[43m)\u001b[49m\n\u001b[0;32m     34\u001b[0m stiffness[i]\u001b[38;5;241m=\u001b[39m\u001b[38;5;28mlist\u001b[39m(result\u001b[38;5;241m.\u001b[39mrobot_final_ds\u001b[38;5;241m.\u001b[39mget_data(\u001b[38;5;124m\"\u001b[39m\u001b[38;5;124mCOG\u001b[39m\u001b[38;5;124m\"\u001b[39m)\u001b[38;5;241m.\u001b[39mitems())[\u001b[38;5;241m0\u001b[39m][\u001b[38;5;241m1\u001b[39m][\u001b[38;5;241m-\u001b[39m\u001b[38;5;241m1\u001b[39m][\u001b[38;5;241m1\u001b[39m]\n",
      "File \u001b[1;32md:\\work\\projects\\rostok\\rostok\\simulation_chrono\\simulation_scenario.py:302\u001b[0m, in \u001b[0;36mSuspensionCarScenario.run_simulation\u001b[1;34m(self, graph, controller_data, starting_positions, vis, delay)\u001b[0m\n\u001b[0;32m    297\u001b[0m robot_data_dict \u001b[38;5;241m=\u001b[39m {\n\u001b[0;32m    298\u001b[0m     \u001b[38;5;124m\"\u001b[39m\u001b[38;5;124mCOG\u001b[39m\u001b[38;5;124m\"\u001b[39m: (SensorCalls\u001b[38;5;241m.\u001b[39mBODY_TRAJECTORY, SensorObjectClassification\u001b[38;5;241m.\u001b[39mBODY,\n\u001b[0;32m    299\u001b[0m             SensorCalls\u001b[38;5;241m.\u001b[39mBODY_TRAJECTORY),\n\u001b[0;32m    300\u001b[0m }\n\u001b[0;32m    301\u001b[0m simulation\u001b[38;5;241m.\u001b[39madd_robot_data_type_dict(robot_data_dict)\n\u001b[1;32m--> 302\u001b[0m \u001b[38;5;28;01mreturn\u001b[39;00m \u001b[43msimulation\u001b[49m\u001b[38;5;241;43m.\u001b[39;49m\u001b[43msimulate\u001b[49m\u001b[43m(\u001b[49m\u001b[43mn_steps\u001b[49m\u001b[43m,\u001b[49m\u001b[43m \u001b[49m\u001b[38;5;28;43mself\u001b[39;49m\u001b[38;5;241;43m.\u001b[39;49m\u001b[43mstep_length\u001b[49m\u001b[43m,\u001b[49m\u001b[43m \u001b[49m\u001b[38;5;241;43m10000\u001b[39;49m\u001b[43m,\u001b[49m\u001b[43m \u001b[49m\u001b[43mevent_list\u001b[49m\u001b[43m,\u001b[49m\u001b[43m \u001b[49m\u001b[43mvis\u001b[49m\u001b[43m)\u001b[49m\n",
      "File \u001b[1;32md:\\work\\projects\\rostok\\rostok\\simulation_chrono\\simulation.py:320\u001b[0m, in \u001b[0;36mSingleRobotSimulation.simulate\u001b[1;34m(self, number_of_steps, step_length, fps, event_container, visualize)\u001b[0m\n\u001b[0;32m    318\u001b[0m \u001b[38;5;28;01mfor\u001b[39;00m i \u001b[38;5;129;01min\u001b[39;00m \u001b[38;5;28mrange\u001b[39m(number_of_steps):\n\u001b[0;32m    319\u001b[0m     current_time \u001b[38;5;241m=\u001b[39m \u001b[38;5;28mself\u001b[39m\u001b[38;5;241m.\u001b[39mchrono_system\u001b[38;5;241m.\u001b[39mGetChTime()\n\u001b[1;32m--> 320\u001b[0m     \u001b[38;5;28;43mself\u001b[39;49m\u001b[38;5;241;43m.\u001b[39;49m\u001b[43msimulate_step\u001b[49m\u001b[43m(\u001b[49m\u001b[43mstep_length\u001b[49m\u001b[43m,\u001b[49m\u001b[43m \u001b[49m\u001b[43mcurrent_time\u001b[49m\u001b[43m,\u001b[49m\u001b[43m \u001b[49m\u001b[43mi\u001b[49m\u001b[43m)\u001b[49m\n\u001b[0;32m    321\u001b[0m     \u001b[38;5;28mself\u001b[39m\u001b[38;5;241m.\u001b[39mresult\u001b[38;5;241m.\u001b[39mtime_vector\u001b[38;5;241m.\u001b[39mappend(\u001b[38;5;28mself\u001b[39m\u001b[38;5;241m.\u001b[39mchrono_system\u001b[38;5;241m.\u001b[39mGetChTime())\n\u001b[0;32m    322\u001b[0m     \u001b[38;5;28;01mif\u001b[39;00m visualize:\n",
      "File \u001b[1;32md:\\work\\projects\\rostok\\rostok\\simulation_chrono\\simulation.py:266\u001b[0m, in \u001b[0;36mSingleRobotSimulation.simulate_step\u001b[1;34m(self, step_length, current_time, step_n)\u001b[0m\n\u001b[0;32m    264\u001b[0m robot\u001b[38;5;241m.\u001b[39msensor\u001b[38;5;241m.\u001b[39mcontact_reporter\u001b[38;5;241m.\u001b[39mreset_contact_dict()\n\u001b[0;32m    265\u001b[0m robot\u001b[38;5;241m.\u001b[39msensor\u001b[38;5;241m.\u001b[39mupdate_current_contact_info(\u001b[38;5;28mself\u001b[39m\u001b[38;5;241m.\u001b[39mchrono_system)\n\u001b[1;32m--> 266\u001b[0m \u001b[43mrobot\u001b[49m\u001b[38;5;241;43m.\u001b[39;49m\u001b[43mdata_storage\u001b[49m\u001b[38;5;241;43m.\u001b[39;49m\u001b[43mupdate_storage\u001b[49m\u001b[43m(\u001b[49m\u001b[43mstep_n\u001b[49m\u001b[43m)\u001b[49m\n\u001b[0;32m    268\u001b[0m \u001b[38;5;66;03m#controller gets current states of the robot and environment and updates control functions\u001b[39;00m\n\u001b[0;32m    269\u001b[0m robot\u001b[38;5;241m.\u001b[39mcontroller\u001b[38;5;241m.\u001b[39mupdate_functions(current_time, robot\u001b[38;5;241m.\u001b[39msensor,\n\u001b[0;32m    270\u001b[0m                                   \u001b[38;5;28mself\u001b[39m\u001b[38;5;241m.\u001b[39menv_creator\u001b[38;5;241m.\u001b[39mdata_storage\u001b[38;5;241m.\u001b[39msensor)\n",
      "File \u001b[1;32md:\\work\\projects\\rostok\\rostok\\virtual_experiment\\sensors.py:257\u001b[0m, in \u001b[0;36mDataStorage.update_storage\u001b[1;34m(self, step_n)\u001b[0m\n\u001b[0;32m    255\u001b[0m \u001b[38;5;28;01mdef\u001b[39;00m \u001b[38;5;21mupdate_storage\u001b[39m(\u001b[38;5;28mself\u001b[39m, step_n):\n\u001b[0;32m    256\u001b[0m     \u001b[38;5;28;01mfor\u001b[39;00m key, sensor_callback \u001b[38;5;129;01min\u001b[39;00m \u001b[38;5;28mself\u001b[39m\u001b[38;5;241m.\u001b[39mcallback_dict\u001b[38;5;241m.\u001b[39mitems():\n\u001b[1;32m--> 257\u001b[0m         \u001b[38;5;28mself\u001b[39m\u001b[38;5;241m.\u001b[39madd_data(key, \u001b[43msensor_callback\u001b[49m\u001b[43m(\u001b[49m\u001b[38;5;28;43mself\u001b[39;49m\u001b[38;5;241;43m.\u001b[39;49m\u001b[43msensor\u001b[49m\u001b[43m)\u001b[49m, step_n)\n",
      "File \u001b[1;32md:\\work\\projects\\rostok\\rostok\\virtual_experiment\\sensors.py:114\u001b[0m, in \u001b[0;36mSensor.get_body_trajectory_point\u001b[1;34m(self)\u001b[0m\n\u001b[0;32m    108\u001b[0m \u001b[38;5;28;01mfor\u001b[39;00m idx, body \u001b[38;5;129;01min\u001b[39;00m \u001b[38;5;28mself\u001b[39m\u001b[38;5;241m.\u001b[39mbody_map_ordered\u001b[38;5;241m.\u001b[39mitems():\n\u001b[0;32m    109\u001b[0m     output[idx] \u001b[38;5;241m=\u001b[39m [\n\u001b[0;32m    110\u001b[0m         \u001b[38;5;28mround\u001b[39m(body\u001b[38;5;241m.\u001b[39mbody\u001b[38;5;241m.\u001b[39mGetPos()\u001b[38;5;241m.\u001b[39mx, \u001b[38;5;241m4\u001b[39m),\n\u001b[0;32m    111\u001b[0m         \u001b[38;5;28mround\u001b[39m(body\u001b[38;5;241m.\u001b[39mbody\u001b[38;5;241m.\u001b[39mGetPos()\u001b[38;5;241m.\u001b[39my, \u001b[38;5;241m4\u001b[39m),\n\u001b[0;32m    112\u001b[0m         \u001b[38;5;28mround\u001b[39m(body\u001b[38;5;241m.\u001b[39mbody\u001b[38;5;241m.\u001b[39mGetPos()\u001b[38;5;241m.\u001b[39mz, \u001b[38;5;241m4\u001b[39m)\n\u001b[0;32m    113\u001b[0m     ]\n\u001b[1;32m--> 114\u001b[0m     output[idx] \u001b[38;5;241m=\u001b[39m \u001b[43mnp\u001b[49m\u001b[38;5;241;43m.\u001b[39;49m\u001b[43mnan_to_num\u001b[49m\u001b[43m(\u001b[49m\u001b[43moutput\u001b[49m\u001b[43m[\u001b[49m\u001b[43midx\u001b[49m\u001b[43m]\u001b[49m\u001b[43m,\u001b[49m\u001b[43m \u001b[49m\u001b[43mnan\u001b[49m\u001b[38;5;241;43m=\u001b[39;49m\u001b[38;5;241;43m9999\u001b[39;49m\u001b[43m)\u001b[49m\u001b[38;5;241m.\u001b[39mtolist()\n\u001b[0;32m    115\u001b[0m \u001b[38;5;28;01mreturn\u001b[39;00m output\n",
      "File \u001b[1;32md:\\Anaconda\\envs\\rostok\\lib\\site-packages\\numpy\\lib\\type_check.py:497\u001b[0m, in \u001b[0;36mnan_to_num\u001b[1;34m(x, copy, nan, posinf, neginf)\u001b[0m\n\u001b[0;32m    403\u001b[0m \u001b[38;5;129m@array_function_dispatch\u001b[39m(_nan_to_num_dispatcher)\n\u001b[0;32m    404\u001b[0m \u001b[38;5;28;01mdef\u001b[39;00m \u001b[38;5;21mnan_to_num\u001b[39m(x, copy\u001b[38;5;241m=\u001b[39m\u001b[38;5;28;01mTrue\u001b[39;00m, nan\u001b[38;5;241m=\u001b[39m\u001b[38;5;241m0.0\u001b[39m, posinf\u001b[38;5;241m=\u001b[39m\u001b[38;5;28;01mNone\u001b[39;00m, neginf\u001b[38;5;241m=\u001b[39m\u001b[38;5;28;01mNone\u001b[39;00m):\n\u001b[0;32m    405\u001b[0m \u001b[38;5;250m    \u001b[39m\u001b[38;5;124;03m\"\"\"\u001b[39;00m\n\u001b[0;32m    406\u001b[0m \u001b[38;5;124;03m    Replace NaN with zero and infinity with large finite numbers (default\u001b[39;00m\n\u001b[0;32m    407\u001b[0m \u001b[38;5;124;03m    behaviour) or with the numbers defined by the user using the `nan`,\u001b[39;00m\n\u001b[1;32m   (...)\u001b[0m\n\u001b[0;32m    495\u001b[0m \u001b[38;5;124;03m    array([222222.+111111.j, 111111.     +0.j, 111111.+222222.j])\u001b[39;00m\n\u001b[0;32m    496\u001b[0m \u001b[38;5;124;03m    \"\"\"\u001b[39;00m\n\u001b[1;32m--> 497\u001b[0m     x \u001b[38;5;241m=\u001b[39m \u001b[43m_nx\u001b[49m\u001b[38;5;241;43m.\u001b[39;49m\u001b[43marray\u001b[49m\u001b[43m(\u001b[49m\u001b[43mx\u001b[49m\u001b[43m,\u001b[49m\u001b[43m \u001b[49m\u001b[43msubok\u001b[49m\u001b[38;5;241;43m=\u001b[39;49m\u001b[38;5;28;43;01mTrue\u001b[39;49;00m\u001b[43m,\u001b[49m\u001b[43m \u001b[49m\u001b[43mcopy\u001b[49m\u001b[38;5;241;43m=\u001b[39;49m\u001b[43mcopy\u001b[49m\u001b[43m)\u001b[49m\n\u001b[0;32m    498\u001b[0m     xtype \u001b[38;5;241m=\u001b[39m x\u001b[38;5;241m.\u001b[39mdtype\u001b[38;5;241m.\u001b[39mtype\n\u001b[0;32m    500\u001b[0m     isscalar \u001b[38;5;241m=\u001b[39m (x\u001b[38;5;241m.\u001b[39mndim \u001b[38;5;241m==\u001b[39m \u001b[38;5;241m0\u001b[39m)\n",
      "\u001b[1;31mKeyboardInterrupt\u001b[0m: "
     ]
    }
   ],
   "source": [
    "stiffness = np.zeros(100)\n",
    "for i in range(100):\n",
    "    if i%10 == 0:    \n",
    "        print(i)\n",
    "    graph = GraphGrammar()\n",
    "    rules = [\"Init\",\n",
    "    \"Add_Leg_Base\",\"Positive_Translation_X4\",\"Positive_Translation_Z3\",\"Rotation\",\n",
    "    'Rotation_Y', \"Extension\",\"Extension\",f'Terminal_Joint{i}',f'Terminal_Joint{i}', \"Rotation\",\"R_Wheel\", \"Cyl_Wheel\",\n",
    "    \"Terminal_Link3\",\"Terminal_Link3\", 'Terminal_Joint0','Rotation_Y',\n",
    "\n",
    "    \"Add_Leg_Base\",\"Positive_Translation_X4\",\"Negative_Translation_Z3\",\"Rotation\",\n",
    "    'Rotation_Y', \"Extension\",\"Extension\",f'Terminal_Joint{i}',f'Terminal_Joint{i}',\"Rotation\",\"L_Wheel\", \"Cyl_Wheel\",\n",
    "    \"Terminal_Link3\",\"Terminal_Link3\", 'Terminal_Joint0','Rotation_Y',\n",
    "\n",
    "    \"Add_Leg_Base\",\"Negative_Translation_X4\",\"Positive_Translation_Z3\",\"Rotation\",\n",
    "    'Rotation_Y', \"Extension\",\"Extension\",\"Rotation\",f'Terminal_Joint{i}', f'Terminal_Joint{i}',\"R_Wheel\", \"Cyl_Wheel\",\n",
    "    \"Terminal_Link3\",\"Terminal_Link3\", 'Terminal_Joint0','Rotation_Y',\n",
    "\n",
    "    \"Add_Leg_Base\",\"Negative_Translation_X4\",\"Negative_Translation_Z3\",\"Rotation\",\n",
    "    'Rotation_Y', \"Extension\",\"Extension\",f'Terminal_Joint{i}',f'Terminal_Joint{i}', \"Rotation\",\"L_Wheel\", \"Cyl_Wheel\",\n",
    "    \"Terminal_Link3\",\"Terminal_Link3\",'Terminal_Joint0','Rotation_Y',\n",
    "\n",
    "        'Terminal_Main_Body3'\n",
    "        \n",
    "    ]\n",
    "\n",
    "    for rule in rules:\n",
    "        graph.apply_rule(rule_vocab.get_rule(rule))\n",
    "\n",
    "    scenario = SuspensionCarScenario(0.0001, 0.5,initial_vertical_pos=height, controller_cls=SimpleKeyBoardController)\n",
    "    scenario.add_event_builder(event_builder=EventBodyTooLowBuilder(0.15))\n",
    "    scenario.add_event_builder(event_builder=EventContactInInitialPositionBuilder())\n",
    "    result = scenario.run_simulation(graph, parameters, starting_positions=[[-30,30,0,0], [30,-30,0,0], [-30,30,0,0], [30,-30,0,0]], vis = False, delay=False)\n",
    "    stiffness[i]=list(result.robot_final_ds.get_data(\"COG\").items())[0][1][-1][1]\n",
    "\n",
    "\n"
   ]
  },
  {
   "cell_type": "code",
   "execution_count": null,
   "metadata": {},
   "outputs": [
    {
     "data": {
      "text/plain": [
       "[<matplotlib.lines.Line2D at 0x27d7ac9b460>]"
      ]
     },
     "execution_count": 20,
     "metadata": {},
     "output_type": "execute_result"
    },
    {
     "data": {
      "image/png": "[encoded data removed]",
      "text/plain": [
       "<Figure size 640x480 with 1 Axes>"
      ]
     },
     "metadata": {},
     "output_type": "display_data"
    }
   ],
   "source": [
    "import matplotlib.pyplot as plt\n",
    "plt.plot(stiffness)\n"
   ]
  },
  {
   "cell_type": "code",
   "execution_count": 40,
   "metadata": {},
   "outputs": [
    {
     "name": "stdout",
     "output_type": "stream",
     "text": [
      "99\n"
     ]
    },
    {
     "ename": "RuntimeError",
     "evalue": "SWIG director method error. Error detected when calling 'TorqueFunctor.evaluate'",
     "output_type": "error",
     "traceback": [
      "\u001b[1;31m---------------------------------------------------------------------------\u001b[0m",
      "\u001b[1;31mRuntimeError\u001b[0m                              Traceback (most recent call last)",
      "Cell \u001b[1;32mIn[40], line 33\u001b[0m\n\u001b[0;32m     31\u001b[0m scenario\u001b[38;5;241m.\u001b[39madd_event_builder(event_builder\u001b[38;5;241m=\u001b[39mEventBodyTooLowBuilder(\u001b[38;5;241m0.15\u001b[39m))\n\u001b[0;32m     32\u001b[0m \u001b[38;5;66;03m#scenario.add_event_builder(event_builder=EventContactInInitialPositionBuilder())\u001b[39;00m\n\u001b[1;32m---> 33\u001b[0m result \u001b[38;5;241m=\u001b[39m \u001b[43mscenario\u001b[49m\u001b[38;5;241;43m.\u001b[39;49m\u001b[43mrun_simulation\u001b[49m\u001b[43m(\u001b[49m\u001b[43mgraph\u001b[49m\u001b[43m,\u001b[49m\u001b[43m \u001b[49m\u001b[43mparameters\u001b[49m\u001b[43m,\u001b[49m\u001b[43m \u001b[49m\u001b[43mstarting_positions\u001b[49m\u001b[38;5;241;43m=\u001b[39;49m\u001b[43m[\u001b[49m\u001b[43m[\u001b[49m\u001b[38;5;241;43m-\u001b[39;49m\u001b[38;5;241;43m30\u001b[39;49m\u001b[43m,\u001b[49m\u001b[38;5;241;43m30\u001b[39;49m\u001b[43m,\u001b[49m\u001b[38;5;241;43m0\u001b[39;49m\u001b[43m,\u001b[49m\u001b[38;5;241;43m0\u001b[39;49m\u001b[43m]\u001b[49m\u001b[43m,\u001b[49m\u001b[43m \u001b[49m\u001b[43m[\u001b[49m\u001b[38;5;241;43m30\u001b[39;49m\u001b[43m,\u001b[49m\u001b[38;5;241;43m-\u001b[39;49m\u001b[38;5;241;43m30\u001b[39;49m\u001b[43m,\u001b[49m\u001b[38;5;241;43m0\u001b[39;49m\u001b[43m,\u001b[49m\u001b[38;5;241;43m0\u001b[39;49m\u001b[43m]\u001b[49m\u001b[43m,\u001b[49m\u001b[43m \u001b[49m\u001b[43m[\u001b[49m\u001b[38;5;241;43m-\u001b[39;49m\u001b[38;5;241;43m30\u001b[39;49m\u001b[43m,\u001b[49m\u001b[38;5;241;43m30\u001b[39;49m\u001b[43m,\u001b[49m\u001b[38;5;241;43m0\u001b[39;49m\u001b[43m,\u001b[49m\u001b[38;5;241;43m0\u001b[39;49m\u001b[43m]\u001b[49m\u001b[43m,\u001b[49m\u001b[43m \u001b[49m\u001b[43m[\u001b[49m\u001b[38;5;241;43m30\u001b[39;49m\u001b[43m,\u001b[49m\u001b[38;5;241;43m-\u001b[39;49m\u001b[38;5;241;43m30\u001b[39;49m\u001b[43m,\u001b[49m\u001b[38;5;241;43m0\u001b[39;49m\u001b[43m,\u001b[49m\u001b[38;5;241;43m0\u001b[39;49m\u001b[43m]\u001b[49m\u001b[43m]\u001b[49m\u001b[43m,\u001b[49m\u001b[43m \u001b[49m\u001b[43mvis\u001b[49m\u001b[43m \u001b[49m\u001b[38;5;241;43m=\u001b[39;49m\u001b[43m \u001b[49m\u001b[38;5;28;43;01mTrue\u001b[39;49;00m\u001b[43m,\u001b[49m\u001b[43m \u001b[49m\u001b[43mdelay\u001b[49m\u001b[38;5;241;43m=\u001b[39;49m\u001b[38;5;28;43;01mTrue\u001b[39;49;00m\u001b[43m)\u001b[49m\n",
      "File \u001b[1;32md:\\work\\projects\\rostok\\rostok\\simulation_chrono\\simulation_scenario.py:302\u001b[0m, in \u001b[0;36mSuspensionCarScenario.run_simulation\u001b[1;34m(self, graph, controller_data, starting_positions, vis, delay)\u001b[0m\n\u001b[0;32m    297\u001b[0m robot_data_dict \u001b[38;5;241m=\u001b[39m {\n\u001b[0;32m    298\u001b[0m     \u001b[38;5;124m\"\u001b[39m\u001b[38;5;124mCOG\u001b[39m\u001b[38;5;124m\"\u001b[39m: (SensorCalls\u001b[38;5;241m.\u001b[39mBODY_TRAJECTORY, SensorObjectClassification\u001b[38;5;241m.\u001b[39mBODY,\n\u001b[0;32m    299\u001b[0m             SensorCalls\u001b[38;5;241m.\u001b[39mBODY_TRAJECTORY),\n\u001b[0;32m    300\u001b[0m }\n\u001b[0;32m    301\u001b[0m simulation\u001b[38;5;241m.\u001b[39madd_robot_data_type_dict(robot_data_dict)\n\u001b[1;32m--> 302\u001b[0m \u001b[38;5;28;01mreturn\u001b[39;00m \u001b[43msimulation\u001b[49m\u001b[38;5;241;43m.\u001b[39;49m\u001b[43msimulate\u001b[49m\u001b[43m(\u001b[49m\u001b[43mn_steps\u001b[49m\u001b[43m,\u001b[49m\u001b[43m \u001b[49m\u001b[38;5;28;43mself\u001b[39;49m\u001b[38;5;241;43m.\u001b[39;49m\u001b[43mstep_length\u001b[49m\u001b[43m,\u001b[49m\u001b[43m \u001b[49m\u001b[38;5;241;43m10000\u001b[39;49m\u001b[43m,\u001b[49m\u001b[43m \u001b[49m\u001b[43mevent_list\u001b[49m\u001b[43m,\u001b[49m\u001b[43m \u001b[49m\u001b[43mvis\u001b[49m\u001b[43m)\u001b[49m\n",
      "File \u001b[1;32md:\\work\\projects\\rostok\\rostok\\simulation_chrono\\simulation.py:320\u001b[0m, in \u001b[0;36mSingleRobotSimulation.simulate\u001b[1;34m(self, number_of_steps, step_length, fps, event_container, visualize)\u001b[0m\n\u001b[0;32m    318\u001b[0m \u001b[38;5;28;01mfor\u001b[39;00m i \u001b[38;5;129;01min\u001b[39;00m \u001b[38;5;28mrange\u001b[39m(number_of_steps):\n\u001b[0;32m    319\u001b[0m     current_time \u001b[38;5;241m=\u001b[39m \u001b[38;5;28mself\u001b[39m\u001b[38;5;241m.\u001b[39mchrono_system\u001b[38;5;241m.\u001b[39mGetChTime()\n\u001b[1;32m--> 320\u001b[0m     \u001b[38;5;28;43mself\u001b[39;49m\u001b[38;5;241;43m.\u001b[39;49m\u001b[43msimulate_step\u001b[49m\u001b[43m(\u001b[49m\u001b[43mstep_length\u001b[49m\u001b[43m,\u001b[49m\u001b[43m \u001b[49m\u001b[43mcurrent_time\u001b[49m\u001b[43m,\u001b[49m\u001b[43m \u001b[49m\u001b[43mi\u001b[49m\u001b[43m)\u001b[49m\n\u001b[0;32m    321\u001b[0m     \u001b[38;5;28mself\u001b[39m\u001b[38;5;241m.\u001b[39mresult\u001b[38;5;241m.\u001b[39mtime_vector\u001b[38;5;241m.\u001b[39mappend(\u001b[38;5;28mself\u001b[39m\u001b[38;5;241m.\u001b[39mchrono_system\u001b[38;5;241m.\u001b[39mGetChTime())\n\u001b[0;32m    322\u001b[0m     \u001b[38;5;28;01mif\u001b[39;00m visualize:\n",
      "File \u001b[1;32md:\\work\\projects\\rostok\\rostok\\simulation_chrono\\simulation.py:259\u001b[0m, in \u001b[0;36mSingleRobotSimulation.simulate_step\u001b[1;34m(self, step_length, current_time, step_n)\u001b[0m\n\u001b[0;32m    251\u001b[0m \u001b[38;5;250m\u001b[39m\u001b[38;5;124;03m\"\"\"Simulate one step and update sensors and data stores\u001b[39;00m\n\u001b[0;32m    252\u001b[0m \u001b[38;5;124;03m\u001b[39;00m\n\u001b[0;32m    253\u001b[0m \u001b[38;5;124;03m    Args:\u001b[39;00m\n\u001b[0;32m    254\u001b[0m \u001b[38;5;124;03m        step_length (float): the time of the step\u001b[39;00m\n\u001b[0;32m    255\u001b[0m \u001b[38;5;124;03m        current_time (float): current time of the simulation\u001b[39;00m\n\u001b[0;32m    256\u001b[0m \u001b[38;5;124;03m        step_n: number of the current step\"\"\"\u001b[39;00m\n\u001b[0;32m    258\u001b[0m \u001b[38;5;28mself\u001b[39m\u001b[38;5;241m.\u001b[39mchrono_system\u001b[38;5;241m.\u001b[39mUpdate()\n\u001b[1;32m--> 259\u001b[0m \u001b[38;5;28;43mself\u001b[39;49m\u001b[38;5;241;43m.\u001b[39;49m\u001b[43mchrono_system\u001b[49m\u001b[38;5;241;43m.\u001b[39;49m\u001b[43mDoStepDynamics\u001b[49m\u001b[43m(\u001b[49m\u001b[43mstep_length\u001b[49m\u001b[43m)\u001b[49m\n\u001b[0;32m    260\u001b[0m \u001b[38;5;28mself\u001b[39m\u001b[38;5;241m.\u001b[39mupdate_data(step_n)\n\u001b[0;32m    262\u001b[0m robot: RobotChrono \u001b[38;5;241m=\u001b[39m \u001b[38;5;28mself\u001b[39m\u001b[38;5;241m.\u001b[39mrobot\n",
      "File \u001b[1;32md:\\Anaconda\\envs\\rostok\\lib\\site-packages\\pychrono\\core.py:21183\u001b[0m, in \u001b[0;36mChSystem.DoStepDynamics\u001b[1;34m(self, step_size)\u001b[0m\n\u001b[0;32m  21181\u001b[0m \u001b[38;5;28;01mdef\u001b[39;00m \u001b[38;5;21mDoStepDynamics\u001b[39m(\u001b[38;5;28mself\u001b[39m, step_size):\n\u001b[0;32m  21182\u001b[0m \u001b[38;5;250m    \u001b[39m\u001b[38;5;124mr\u001b[39m\u001b[38;5;124;03m\"\"\"DoStepDynamics(ChSystem self, double step_size) -> int\"\"\"\u001b[39;00m\n\u001b[1;32m> 21183\u001b[0m     \u001b[38;5;28;01mreturn\u001b[39;00m \u001b[43m_core\u001b[49m\u001b[38;5;241;43m.\u001b[39;49m\u001b[43mChSystem_DoStepDynamics\u001b[49m\u001b[43m(\u001b[49m\u001b[38;5;28;43mself\u001b[39;49m\u001b[43m,\u001b[49m\u001b[43m \u001b[49m\u001b[43mstep_size\u001b[49m\u001b[43m)\u001b[49m\n",
      "\u001b[1;31mRuntimeError\u001b[0m: SWIG director method error. Error detected when calling 'TorqueFunctor.evaluate'"
     ]
    }
   ],
   "source": [
    "i = np.argmax(stiffness)\n",
    "print(i)\n",
    "i = 30\n",
    "graph = GraphGrammar()\n",
    "rules = [\"Init\",\n",
    "    \"Add_Leg_Base\",\"Positive_Translation_X4\",\"Positive_Translation_Z3\",\"Rotation\",\n",
    "    'Rotation_Y', \"Extension\",\"Extension\",f'Terminal_Joint{i}',f'Terminal_Joint{i}', \"Rotation\",\"R_Wheel\", \"Cyl_Wheel\",\n",
    "    \"Terminal_Link3\",\"Terminal_Link3\", 'Terminal_Joint0','Rotation_Y',\n",
    "\n",
    "    \"Add_Leg_Base\",\"Positive_Translation_X4\",\"Negative_Translation_Z3\",\"Rotation\",\n",
    "    'Rotation_Y', \"Extension\",\"Extension\",f'Terminal_Joint{i}',f'Terminal_Joint{i}',\"Rotation\",\"L_Wheel\", \"Cyl_Wheel\",\n",
    "    \"Terminal_Link3\",\"Terminal_Link3\", 'Terminal_Joint0','Rotation_Y',\n",
    "\n",
    "    \"Add_Leg_Base\",\"Negative_Translation_X4\",\"Positive_Translation_Z3\",\"Rotation\",\n",
    "    'Rotation_Y', \"Extension\",\"Extension\",\"Rotation\",f'Terminal_Joint{i}', f'Terminal_Joint{i}',\"R_Wheel\", \"Cyl_Wheel\",\n",
    "    \"Terminal_Link3\",\"Terminal_Link3\", 'Terminal_Joint0','Rotation_Y',\n",
    "\n",
    "    \"Add_Leg_Base\",\"Negative_Translation_X4\",\"Negative_Translation_Z3\",\"Rotation\",\n",
    "    'Rotation_Y', \"Extension\",\"Extension\",f'Terminal_Joint{i}',f'Terminal_Joint{i}', \"Rotation\",\"L_Wheel\", \"Cyl_Wheel\",\n",
    "    \"Terminal_Link3\",\"Terminal_Link3\",'Terminal_Joint0','Rotation_Y',\n",
    "\n",
    "    'Terminal_Main_Body3'\n",
    "    \n",
    "]\n",
    "\n",
    "for rule in rules:\n",
    "    graph.apply_rule(rule_vocab.get_rule(rule))\n",
    "\n",
    "\n",
    "scenario = SuspensionCarScenario(0.0001, 10,initial_vertical_pos=height, controller_cls=SimpleKeyBoardController)\n",
    "scenario.add_event_builder(event_builder=EventBodyTooLowBuilder(0.15))\n",
    "#scenario.add_event_builder(event_builder=EventContactInInitialPositionBuilder())\n",
    "result = scenario.run_simulation(graph, parameters, starting_positions=[[-30,30,0,0], [30,-30,0,0], [-30,30,0,0], [30,-30,0,0]], vis = True, delay=True)\n"
   ]
  },
  {
   "cell_type": "code",
   "execution_count": null,
   "metadata": {},
   "outputs": [
    {
     "data": {
      "text/plain": [
       "0.1722"
      ]
     },
     "execution_count": 76,
     "metadata": {},
     "output_type": "execute_result"
    }
   ],
   "source": [
    "list(result.robot_final_ds.get_data(\"COG\").items())[0][1][-1][1]"
   ]
  },
  {
   "cell_type": "code",
   "execution_count": 35,
   "metadata": {},
   "outputs": [],
   "source": [
    "from rostok.block_builder_api.block_blueprints import EnvironmentBodyBlueprint\n",
    "from rostok.control_chrono.controller import SimpleKeyBoardController\n",
    "from rostok.simulation_chrono.simulation_scenario import WalkingScenario\n",
    "import pychrono as chrono\n",
    "from rostok.utils.dataset_materials.material_dataclass_manipulating import DefaultChronoMaterialNSC\n",
    "#from wheels import get_stiff_wheels, get_wheels, get_stiff_wheels_ell, get_stiff_wheels_4\n",
    "from rostok.graph_grammar.graph_utils import plot_graph\n",
    "from rostok.block_builder_chrono.block_builder_chrono_api import \\\n",
    "    ChronoBlockCreatorInterface\n",
    "from rostok.block_builder_api.easy_body_shapes import Box\n",
    "\n",
    "def create_bump_track():\n",
    "    def_mat = DefaultChronoMaterialNSC()\n",
    "    floor = ChronoBlockCreatorInterface.create_environment_body(EnvironmentBodyBlueprint(Box(5, 0.05, 5), material=def_mat, color=[215, 255, 0]))\n",
    "    chrono_material = chrono.ChMaterialSurfaceNSC()\n",
    "    #chrono_material.SetFriction(0.67)\n",
    "    mesh = chrono.ChBodyEasyMesh(\"Bump.obj\", 8000, True, True, True, chrono_material, 0.002)\n",
    "    floor.body = mesh\n",
    "    floor.body.SetNameString(\"Floor\")\n",
    "    floor.body.SetPos(chrono.ChVectorD(1.5,-0.07,0))\n",
    "    floor.body.GetVisualShape(0).SetTexture(\"chess.png\", 0.03, 0.03)\n",
    "    floor.body.SetBodyFixed(True)\n",
    "    return floor\n",
    "\n",
    "def create_track():\n",
    "    def_mat = DefaultChronoMaterialNSC()\n",
    "    floor = ChronoBlockCreatorInterface.create_environment_body(EnvironmentBodyBlueprint(Box(5, 0.05, 5), material=def_mat, color=[215, 255, 0]))\n",
    "    chrono_material = chrono.ChMaterialSurfaceNSC()\n",
    "    #chrono_material.SetFriction(0.67)\n",
    "    mesh = chrono.ChBodyEasyMesh(\"TRACKMANIA.obj\", 8000, True, True, True, chrono_material, 0.002)\n",
    "    floor.body = mesh\n",
    "    floor.body.SetNameString(\"Floor\")\n",
    "    floor.body.SetPos(chrono.ChVectorD(6.6,-0.02,5.2))\n",
    "    floor.body.GetVisualShape(0).SetTexture(\"chess.png\", 0.03, 0.03)\n",
    "    floor.body.SetBodyFixed(True)\n",
    "    return floor\n",
    "\n",
    "\n",
    "floor = create_track()\n",
    "\n",
    "scenario = WalkingScenario(0.0001, 10000, SimpleKeyBoardController)\n",
    "scenario.set_floor(floor)\n",
    "#graph = get_stiff_wheels_4()\n",
    "\n",
    "parameters = {}\n",
    "parameters[\"forward\"] = 0.5\n",
    "parameters[\"reverse\"]= 0.5\n",
    "parameters[\"forward_rotate\"] = 0.5\n",
    "parameters[\"reverse_rotate\"] = 0.3\n",
    "\n",
    " \n",
    "\n",
    "scenario.run_simulation(graph, parameters, starting_positions=[[-45,60,0], [-45,60,0], [-45,60,0], [-45,60,0]], vis = True, delay=True, is_follow_camera = True)"
   ]
  }
 ],
 "metadata": {
  "kernelspec": {
   "display_name": "rostok",
   "language": "python",
   "name": "python3"
  },
  "language_info": {
   "codemirror_mode": {
    "name": "ipython",
    "version": 3
   },
   "file_extension": ".py",
   "mimetype": "text/x-python",
   "name": "python",
   "nbconvert_exporter": "python",
   "pygments_lexer": "ipython3",
   "version": "3.10.8"
  }
 },
 "nbformat": 4,
 "nbformat_minor": 2
}
