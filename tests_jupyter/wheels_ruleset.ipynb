{
 "cells": [
  {
   "cell_type": "code",
   "execution_count": 1,
   "metadata": {},
   "outputs": [],
   "source": [
    "import numpy as np\n",
    "import pychrono as chrono\n",
    "\n",
    "from rostok.block_builder_api.block_blueprints import (PrimitiveBodyBlueprint,\n",
    "                                                       RevolveJointBlueprint,\n",
    "                                                       TransformBlueprint)\n",
    "from rostok.block_builder_api.block_parameters import JointInputType\n",
    "from rostok.block_builder_api.easy_body_shapes import Box, Cylinder, Ellipsoid\n",
    "from rostok.block_builder_chrono.blocks_utils import FrameTransform\n",
    "from rostok.graph_grammar import rule_vocabulary\n",
    "from rostok.graph_grammar.node import ROOT\n",
    "from rostok.graph_grammar.node_vocabulary import NodeVocabulary\n",
    "from rostok.utils.dataset_materials.material_dataclass_manipulating import (\n",
    "    DefaultChronoMaterialNSC, DefaultChronoMaterialSMC)\n",
    "from rostok.graph_grammar.node import GraphGrammar\n",
    "from rostok.graph_grammar.graph_utils import plot_graph"
   ]
  },
  {
   "cell_type": "code",
   "execution_count": 2,
   "metadata": {},
   "outputs": [],
   "source": [
    "def get_density_box(mass: float, box: Box):\n",
    "    volume = box.height_z * box.length_y * box.width_x\n",
    "    return mass / volume\n",
    "\n",
    "def rotation_x(alpha):\n",
    "    quat_X_ang_alpha = chrono.Q_from_AngX(np.deg2rad(alpha))\n",
    "    return [quat_X_ang_alpha.e0, quat_X_ang_alpha.e1, quat_X_ang_alpha.e2, quat_X_ang_alpha.e3]\n",
    "\n",
    "def rotation_y(alpha):\n",
    "    quat_Y_ang_alpha = chrono.Q_from_AngY(np.deg2rad(alpha))\n",
    "    return [quat_Y_ang_alpha.e0, quat_Y_ang_alpha.e1, quat_Y_ang_alpha.e2, quat_Y_ang_alpha.e3]\n",
    "\n",
    "def rotation_z(alpha):\n",
    "    quat_Z_ang_alpha = chrono.Q_from_AngZ(np.deg2rad(alpha))\n",
    "    return [quat_Z_ang_alpha.e0, quat_Z_ang_alpha.e1, quat_Z_ang_alpha.e2, quat_Z_ang_alpha.e3]\n",
    "\n",
    "def_mat = DefaultChronoMaterialNSC()"
   ]
  },
  {
   "cell_type": "code",
   "execution_count": 3,
   "metadata": {},
   "outputs": [],
   "source": [
    "node_vocab = NodeVocabulary()\n",
    "node_vocab.add_node(ROOT)\n",
    "node_vocab.create_node(label=\"MB\")\n",
    "node_vocab.create_node(label=\"L\")\n",
    "node_vocab.create_node(label=\"W\")\n",
    "node_vocab.create_node(label=\"J\")\n",
    "node_vocab.create_node(label=\"R\")\n",
    "node_vocab.create_node(label=\"G\")\n",
    "\n",
    "node_vocab.create_node(label=\"XT\")\n",
    "node_vocab.create_node(label=\"ZT\")\n"
   ]
  },
  {
   "cell_type": "code",
   "execution_count": 4,
   "metadata": {},
   "outputs": [],
   "source": [
    "from copy import deepcopy\n",
    "# blueprint for the palm\n",
    "main_body = []\n",
    "\n",
    "for i in range(10):\n",
    "    main_body.append(PrimitiveBodyBlueprint(\n",
    "        Box(0.5, 0.1, 0.3), material=def_mat, color=[255, 0, 0], density=100+i*100,is_collide=False))\n",
    "    \n",
    "wheel_def_mat = deepcopy(def_mat)\n",
    "wheel_def_mat.Friction = 0.5\n",
    "wheel_def_mat.RollingFriction=0.0001\n",
    "wheel_def_mat.SpinningFriction=0.0001\n",
    "wheel_body_cyl = PrimitiveBodyBlueprint(\n",
    "    Cylinder(0.03, 0.06), material=wheel_def_mat, color=[0, 120, 255], density=1000)\n",
    "\n",
    "wheel_body_ell = PrimitiveBodyBlueprint(\n",
    "    Ellipsoid(0.06,0.06, 0.04), material=def_mat, color=[0, 120, 255], density=1000)\n",
    "\n",
    "# blueprint for the base\n",
    "base = PrimitiveBodyBlueprint(Box(0.02, 0.03, 0.02),\n",
    "                                material=def_mat,\n",
    "                                color=[120, 120, 0],\n",
    "                                density=1000)\n",
    "\n",
    "# sets effective density for the links, the real links are considered to be extendable.\n",
    "\n",
    "length_link = np.linspace(0.05, 0.1, 5)\n",
    "# create link blueprints using mass and length parameters\n",
    "link = list(map(lambda x: PrimitiveBodyBlueprint(Box(0.02, x, 0.02),\n",
    "                                            material=def_mat,\n",
    "                                            color=[0, 120, 255],\n",
    "                                            density=1000), length_link))\n",
    "\n",
    "dummy_link = PrimitiveBodyBlueprint(\n",
    "    Box(0.01, 0.001, 0.01), material=def_mat, density=1000000)"
   ]
  },
  {
   "cell_type": "code",
   "execution_count": 5,
   "metadata": {},
   "outputs": [
    {
     "data": {
      "text/plain": [
       "282600000.0"
      ]
     },
     "execution_count": 5,
     "metadata": {},
     "output_type": "execute_result"
    }
   ],
   "source": [
    "0.3**2*3.14*0.2*500/(0.01**3*0.1)\n"
   ]
  },
  {
   "cell_type": "code",
   "execution_count": 6,
   "metadata": {},
   "outputs": [],
   "source": [
    "for i, bp in enumerate(main_body):\n",
    "    node_vocab.create_node(label=f\"MB{i}\", is_terminal=True, block_blueprint=bp)\n",
    "\n",
    "for i, bp in enumerate(link):\n",
    "    node_vocab.create_node(label=f\"L{i}\", is_terminal=True, block_blueprint=bp)\n",
    "\n",
    "node_vocab.create_node(label=\"B\", is_terminal=True,block_blueprint=base)\n",
    "node_vocab.create_node(label=\"WC\", is_terminal=True,block_blueprint=wheel_body_cyl)\n",
    "node_vocab.create_node(label=\"WE\", is_terminal=True,block_blueprint=wheel_body_ell)\n",
    "\n",
    "node_vocab.create_node(label=\"DB\", is_terminal=True,\n",
    "                        block_blueprint=dummy_link)"
   ]
  },
  {
   "cell_type": "code",
   "execution_count": 7,
   "metadata": {},
   "outputs": [],
   "source": [
    "x_translation_values = np.linspace(0.0,0.25,5)\n",
    "X_TRANSLATIONS_POSITIVE = list(\n",
    "    map(lambda x: FrameTransform([x, 0, 0], [1, 0, 0, 0]), x_translation_values))\n",
    "X_TRANSLATIONS_NEGATIVE=list(\n",
    "    map(lambda x: FrameTransform([-x, 0, 0], [1, 0, 0, 0]), x_translation_values))\n",
    "    # create transform blueprints from the values\n",
    "x_translation_positive = list(\n",
    "    map(lambda x: TransformBlueprint(x), X_TRANSLATIONS_POSITIVE))\n",
    "x_translation_negative = list(\n",
    "    map(lambda x: TransformBlueprint(x), X_TRANSLATIONS_NEGATIVE))\n",
    "\n",
    "z_translation_values = np.linspace(0.0,0.15,5)\n",
    "Z_TRANSLATIONS_POSITIVE = list(\n",
    "    map(lambda x: FrameTransform([0, 0, x], [1, 0, 0, 0]), z_translation_values))\n",
    "Z_TRANSLATIONS_NEGATIVE = list(\n",
    "    map(lambda x: FrameTransform([0, 0, -x], [1, 0, 0, 0]), z_translation_values))\n",
    "\n",
    "z_translation_positive = list(\n",
    "    map(lambda x: TransformBlueprint(x), Z_TRANSLATIONS_POSITIVE))\n",
    "z_translation_negative = list(\n",
    "    map(lambda x: TransformBlueprint(x), Z_TRANSLATIONS_NEGATIVE))"
   ]
  },
  {
   "cell_type": "code",
   "execution_count": 8,
   "metadata": {},
   "outputs": [],
   "source": [
    "for i, bp in enumerate(x_translation_positive):\n",
    "    node_vocab.create_node(label=f\"XTP{i}\", is_terminal=True, block_blueprint=bp)\n",
    "\n",
    "for i, bp in enumerate(x_translation_negative):\n",
    "    node_vocab.create_node(label=f\"XTN{i}\", is_terminal=True, block_blueprint=bp)\n",
    "\n",
    "for i, bp in enumerate(z_translation_positive):\n",
    "    node_vocab.create_node(label=f\"ZTP{i}\", is_terminal=True, block_blueprint=bp)\n",
    "\n",
    "for i, bp in enumerate(z_translation_negative):\n",
    "    node_vocab.create_node(label=f\"ZTN{i}\", is_terminal=True, block_blueprint=bp)"
   ]
  },
  {
   "cell_type": "code",
   "execution_count": 9,
   "metadata": {},
   "outputs": [],
   "source": [
    "TURN_X = FrameTransform([0, 0, 0], rotation_x(90))\n",
    "turn_x_bp = TransformBlueprint(TURN_X)\n",
    "\n",
    "TURN_Y = FrameTransform([0, 0, 0], rotation_y(90))\n",
    "turn_y_bp = TransformBlueprint(TURN_Y)\n",
    "\n",
    "TURN_Z = FrameTransform([0, 0, 0], rotation_z(90))\n",
    "turn_z_bp = TransformBlueprint(TURN_Z)"
   ]
  },
  {
   "cell_type": "code",
   "execution_count": 10,
   "metadata": {},
   "outputs": [],
   "source": [
    "node_vocab.create_node(label='XR',is_terminal=True, block_blueprint=turn_x_bp)\n",
    "node_vocab.create_node(label='YR',is_terminal=True, block_blueprint=turn_y_bp)\n",
    "node_vocab.create_node(label='ZR',is_terminal=True, block_blueprint=turn_z_bp)"
   ]
  },
  {
   "cell_type": "code",
   "execution_count": 11,
   "metadata": {},
   "outputs": [],
   "source": [
    "stiffness = np.linspace(0.1,5,50)\n",
    "\n",
    "no_control_joint = list(\n",
    "    map(lambda x: RevolveJointBlueprint(JointInputType.UNCONTROL,\n",
    "                                            stiffness=x,\n",
    "                                            damping=0.005,\n",
    "                                            equilibrium_position=0), stiffness))\n",
    "motor_bp = RevolveJointBlueprint(JointInputType.TORQUE,  stiffness=0, damping=0.002)\n",
    "neutral_bp = RevolveJointBlueprint(JointInputType.UNCONTROL,  stiffness=0, damping=0.002)"
   ]
  },
  {
   "cell_type": "code",
   "execution_count": 12,
   "metadata": {},
   "outputs": [],
   "source": [
    "node_vocab.create_node(label=\"RM\", is_terminal=True, block_blueprint=motor_bp)\n",
    "node_vocab.create_node(label=\"LM\", is_terminal=True, block_blueprint=motor_bp)\n",
    "node_vocab.create_node(label=\"NM\", is_terminal=True, block_blueprint=neutral_bp)\n",
    "\n",
    "for i, bp in enumerate(no_control_joint):\n",
    "    node_vocab.create_node(label=f\"J{i}\", is_terminal=True, block_blueprint=bp)"
   ]
  },
  {
   "cell_type": "code",
   "execution_count": 13,
   "metadata": {},
   "outputs": [],
   "source": [
    "rule_vocab = rule_vocabulary.RuleVocabulary(node_vocab)\n",
    "# structural rules\n",
    "rule_vocab.create_rule(\"Init\", [\"ROOT\"], [\"MB\"], 0, 0,[])\n",
    "rule_vocab.create_rule(\"Add_Leg_Base\",[\"MB\"],[\"MB\",\"XT\",\"ZT\",\"B\",\"G\"],0,0,[(0,1),(1,2),(2,3),(3,4)])\n",
    "\n",
    "rule_vocab.create_rule(\"Add_Dummy\", [\"G\"], [\"J\",\"DB\", \"G\"],0,0,[(0, 1), (1, 2)])\n",
    "rule_vocab.create_rule(\"Extension\",[\"G\"],[\"J\",\"L\", \"G\"], 0,2,[(0, 1), (1, 2)])\n",
    "rule_vocab.create_rule(\"R_Wheel\",[\"G\"], [\"RM\",\"W\"],0,0,[(0,1)])\n",
    "rule_vocab.create_rule(\"L_Wheel\",[\"G\"], [\"LM\",\"W\"],0,0,[(0,1)])\n",
    "rule_vocab.create_rule(\"Wheel\",[\"G\"], [\"J\",\"DB\",\"NM\",\"W\"],0,0,[(0,1),(1,2),(2,3)])\n",
    "rule_vocab.create_rule(\"Rotation\",[\"G\"],[\"R\",\"G\"],0,0,[(0,1)])"
   ]
  },
  {
   "cell_type": "code",
   "execution_count": 14,
   "metadata": {},
   "outputs": [],
   "source": [
    "for i in range(len(main_body)):\n",
    "    rule_vocab.create_rule(f'Terminal_Main_Body{i}',[\"MB\"],[f\"MB{i}\"],0,0,[])\n",
    "\n",
    "for i in range(len(link)):\n",
    "    rule_vocab.create_rule(f'Terminal_Link{i}',[\"L\"],[f\"L{i}\"],0,0,[])\n",
    "\n",
    "for i in range(len(no_control_joint)):\n",
    "    rule_vocab.create_rule(f'Terminal_Joint{i}',[\"J\"],[f\"J{i}\"],0,0,[])\n",
    "\n",
    "for i in range(len(x_translation_positive)):\n",
    "    rule_vocab.create_rule(f'Positive_Translation_X{i}',[\"XT\"],[f\"XTP{i}\"],0,0,[])\n",
    "for i in range(len(x_translation_negative)):\n",
    "    rule_vocab.create_rule(f'Negative_Translation_X{i}',[\"XT\"],[f\"XTN{i}\"],0,0,[])\n",
    "for i in range(len(z_translation_positive)):\n",
    "    rule_vocab.create_rule(f'Positive_Translation_Z{i}',[\"ZT\"],[f\"ZTP{i}\"],0,0,[])\n",
    "for i in range(len(z_translation_negative)):\n",
    "    rule_vocab.create_rule(f'Negative_Translation_Z{i}',[\"ZT\"],[f\"ZTN{i}\"],0,0,[])\n",
    "\n",
    "rule_vocab.create_rule(f'Rotation_X',[\"R\"],[\"XR\"],0,0,[])\n",
    "rule_vocab.create_rule(f'Rotation_Y',[\"R\"],[\"YR\"],0,0,[])\n",
    "rule_vocab.create_rule(f'Rotation_Z',[\"R\"],[\"ZR\"],0,0,[])\n",
    "\n",
    "rule_vocab.create_rule(\"Cyl_Wheel\",[\"W\"],[\"WC\"],0,0,[])\n",
    "rule_vocab.create_rule(\"Ell_Wheel\",[\"W\"],[\"WE\"],0,0,[])"
   ]
  },
  {
   "cell_type": "code",
   "execution_count": 15,
   "metadata": {},
   "outputs": [
    {
     "data": {
      "image/png": "[encoded data removed]",
      "text/plain": [
       "<Figure size 640x480 with 1 Axes>"
      ]
     },
     "metadata": {},
     "output_type": "display_data"
    }
   ],
   "source": [
    "i=9\n",
    "graph = GraphGrammar()\n",
    "rules = [\"Init\",\n",
    "    \"Add_Leg_Base\",\"Positive_Translation_X4\",\"Positive_Translation_Z3\",\"Rotation\",\n",
    "    'Rotation_Y', \"Extension\",\"Extension\",f'Terminal_Joint{i}',f'Terminal_Joint{i}', \"Add_Dummy\",\"Rotation\",\"R_Wheel\", \"Cyl_Wheel\",\n",
    "    \"Terminal_Link3\",\"Terminal_Link3\", 'Terminal_Joint10','Rotation_Y',\n",
    "\n",
    "    \"Add_Leg_Base\",\"Positive_Translation_X4\",\"Negative_Translation_Z3\",\"Rotation\",\n",
    "    'Rotation_Y', \"Extension\",\"Extension\",f'Terminal_Joint{i}',f'Terminal_Joint{i}',\"Add_Dummy\",\"Rotation\",\"L_Wheel\", \"Cyl_Wheel\",\n",
    "    \"Terminal_Link3\",\"Terminal_Link3\", 'Terminal_Joint10','Rotation_Y',\n",
    "\n",
    "    \"Add_Leg_Base\",\"Negative_Translation_X4\",\"Positive_Translation_Z3\",\"Rotation\",\n",
    "    'Rotation_Y', \"Extension\",\"Extension\",f'Terminal_Joint{i}', f'Terminal_Joint{i}',\"Add_Dummy\",\"Rotation\",\"R_Wheel\", \"Cyl_Wheel\",\n",
    "    \"Terminal_Link3\",\"Terminal_Link3\", 'Terminal_Joint10','Rotation_Y',\n",
    "\n",
    "    \"Add_Leg_Base\",\"Negative_Translation_X4\",\"Negative_Translation_Z3\",\"Rotation\",\n",
    "    'Rotation_Y', \"Extension\",\"Extension\",f'Terminal_Joint{i}',f'Terminal_Joint{i}', \"Add_Dummy\", \"Rotation\",\"L_Wheel\", \"Cyl_Wheel\",\n",
    "    \"Terminal_Link3\",\"Terminal_Link3\",'Terminal_Joint10','Rotation_Y',\n",
    "\n",
    "    'Terminal_Main_Body3'\n",
    "    \n",
    "]\n",
    "\n",
    "for rule in rules:\n",
    "    graph.apply_rule(rule_vocab.get_rule(rule))\n",
    "\n",
    "\n",
    "plot_graph(graph)"
   ]
  },
  {
   "cell_type": "code",
   "execution_count": 16,
   "metadata": {},
   "outputs": [
    {
     "name": "stdout",
     "output_type": "stream",
     "text": [
      "Jupyter environment detected. Enabling Open3D WebVisualizer.\n",
      "[Open3D INFO] WebRTC GUI backend enabled.\n",
      "[Open3D INFO] WebRTCWindowSystem: HTTP handshake server disabled.\n"
     ]
    }
   ],
   "source": [
    "from rostok.simulation_chrono.simulation_scenario import SuspensionCarScenario\n",
    "from rostok.criterion.simulation_flags import EventBodyTooLowBuilder, EventContactInInitialPositionBuilder\n",
    "from rostok.control_chrono.controller import SimpleKeyBoardController\n",
    "\n",
    "parameters = {}\n",
    "parameters[\"forward\"] = 1\n",
    "parameters[\"reverse\"]= 1\n",
    "parameters[\"forward_rotate\"] = 0.5\n",
    "parameters[\"reverse_rotate\"] = 0.3\n",
    "control =  {\"initial_value\": [0.0]*4}"
   ]
  },
  {
   "cell_type": "code",
   "execution_count": 17,
   "metadata": {},
   "outputs": [
    {
     "name": "stdout",
     "output_type": "stream",
     "text": [
      "0.28181818181818186\n"
     ]
    }
   ],
   "source": [
    "height = 0\n",
    "for i in np.linspace(0.1,1,100):\n",
    "    scenario = SuspensionCarScenario(0.0001, 0.01,initial_vertical_pos=i)\n",
    "    scenario.add_event_builder(event_builder=EventBodyTooLowBuilder(0.15))\n",
    "    scenario.add_event_builder(event_builder=EventContactInInitialPositionBuilder())\n",
    "    result = scenario.run_simulation(graph, control, starting_positions=[[-30,30,0,0], [30,-30,0,0], [-30,30,0,0], [30,-30,0,0]], vis = False, delay=False)\n",
    "    if len(list(result.robot_final_ds.get_data(\"COG\").items())[0][1]) > 10:\n",
    "        height = i\n",
    "        break\n",
    "\n",
    "print(height)\n"
   ]
  },
  {
   "cell_type": "code",
   "execution_count": 18,
   "metadata": {},
   "outputs": [],
   "source": [
    "#height = 0.29"
   ]
  },
  {
   "cell_type": "code",
   "execution_count": 19,
   "metadata": {},
   "outputs": [
    {
     "name": "stdout",
     "output_type": "stream",
     "text": [
      "0\n",
      "10\n",
      "20\n"
     ]
    },
    {
     "ename": "RuntimeError",
     "evalue": "SWIG director method error. Error detected when calling 'TorqueFunctor.evaluate'",
     "output_type": "error",
     "traceback": [
      "\u001b[0;31m---------------------------------------------------------------------------\u001b[0m",
      "\u001b[0;31mRuntimeError\u001b[0m                              Traceback (most recent call last)",
      "\u001b[0;32m/tmp/ipykernel_22274/798630575.py\u001b[0m in \u001b[0;36m?\u001b[0;34m()\u001b[0m\n\u001b[1;32m     30\u001b[0m \u001b[0;34m\u001b[0m\u001b[0m\n\u001b[1;32m     31\u001b[0m     \u001b[0mscenario\u001b[0m \u001b[0;34m=\u001b[0m \u001b[0mSuspensionCarScenario\u001b[0m\u001b[0;34m(\u001b[0m\u001b[0;36m0.0001\u001b[0m\u001b[0;34m,\u001b[0m \u001b[0;36m1\u001b[0m\u001b[0;34m,\u001b[0m\u001b[0minitial_vertical_pos\u001b[0m\u001b[0;34m=\u001b[0m\u001b[0mheight\u001b[0m\u001b[0;34m)\u001b[0m\u001b[0;34m\u001b[0m\u001b[0;34m\u001b[0m\u001b[0m\n\u001b[1;32m     32\u001b[0m     \u001b[0mscenario\u001b[0m\u001b[0;34m.\u001b[0m\u001b[0madd_event_builder\u001b[0m\u001b[0;34m(\u001b[0m\u001b[0mevent_builder\u001b[0m\u001b[0;34m=\u001b[0m\u001b[0mEventBodyTooLowBuilder\u001b[0m\u001b[0;34m(\u001b[0m\u001b[0;36m0.15\u001b[0m\u001b[0;34m)\u001b[0m\u001b[0;34m)\u001b[0m\u001b[0;34m\u001b[0m\u001b[0;34m\u001b[0m\u001b[0m\n\u001b[1;32m     33\u001b[0m     \u001b[0mscenario\u001b[0m\u001b[0;34m.\u001b[0m\u001b[0madd_event_builder\u001b[0m\u001b[0;34m(\u001b[0m\u001b[0mevent_builder\u001b[0m\u001b[0;34m=\u001b[0m\u001b[0mEventContactInInitialPositionBuilder\u001b[0m\u001b[0;34m(\u001b[0m\u001b[0;34m)\u001b[0m\u001b[0;34m)\u001b[0m\u001b[0;34m\u001b[0m\u001b[0;34m\u001b[0m\u001b[0m\n\u001b[0;32m---> 34\u001b[0;31m     \u001b[0mresult\u001b[0m \u001b[0;34m=\u001b[0m \u001b[0mscenario\u001b[0m\u001b[0;34m.\u001b[0m\u001b[0mrun_simulation\u001b[0m\u001b[0;34m(\u001b[0m\u001b[0mgraph\u001b[0m\u001b[0;34m,\u001b[0m \u001b[0mcontrol\u001b[0m\u001b[0;34m,\u001b[0m \u001b[0mstarting_positions\u001b[0m\u001b[0;34m=\u001b[0m\u001b[0;34m[\u001b[0m\u001b[0;34m[\u001b[0m\u001b[0;34m-\u001b[0m\u001b[0;36m30\u001b[0m\u001b[0;34m,\u001b[0m\u001b[0;36m30\u001b[0m\u001b[0;34m,\u001b[0m\u001b[0;36m0\u001b[0m\u001b[0;34m,\u001b[0m\u001b[0;36m0\u001b[0m\u001b[0;34m]\u001b[0m\u001b[0;34m,\u001b[0m \u001b[0;34m[\u001b[0m\u001b[0;36m30\u001b[0m\u001b[0;34m,\u001b[0m\u001b[0;34m-\u001b[0m\u001b[0;36m30\u001b[0m\u001b[0;34m,\u001b[0m\u001b[0;36m0\u001b[0m\u001b[0;34m,\u001b[0m\u001b[0;36m0\u001b[0m\u001b[0;34m]\u001b[0m\u001b[0;34m,\u001b[0m \u001b[0;34m[\u001b[0m\u001b[0;34m-\u001b[0m\u001b[0;36m30\u001b[0m\u001b[0;34m,\u001b[0m\u001b[0;36m30\u001b[0m\u001b[0;34m,\u001b[0m\u001b[0;36m0\u001b[0m\u001b[0;34m,\u001b[0m\u001b[0;36m0\u001b[0m\u001b[0;34m]\u001b[0m\u001b[0;34m,\u001b[0m \u001b[0;34m[\u001b[0m\u001b[0;36m30\u001b[0m\u001b[0;34m,\u001b[0m\u001b[0;34m-\u001b[0m\u001b[0;36m30\u001b[0m\u001b[0;34m,\u001b[0m\u001b[0;36m0\u001b[0m\u001b[0;34m,\u001b[0m\u001b[0;36m0\u001b[0m\u001b[0;34m]\u001b[0m\u001b[0;34m]\u001b[0m\u001b[0;34m,\u001b[0m \u001b[0mvis\u001b[0m \u001b[0;34m=\u001b[0m \u001b[0;32mFalse\u001b[0m\u001b[0;34m,\u001b[0m \u001b[0mdelay\u001b[0m\u001b[0;34m=\u001b[0m\u001b[0;32mFalse\u001b[0m\u001b[0;34m)\u001b[0m\u001b[0;34m\u001b[0m\u001b[0;34m\u001b[0m\u001b[0m\n\u001b[0m\u001b[1;32m     35\u001b[0m     \u001b[0mstiffness\u001b[0m\u001b[0;34m[\u001b[0m\u001b[0mi\u001b[0m\u001b[0;34m]\u001b[0m\u001b[0;34m=\u001b[0m\u001b[0mlist\u001b[0m\u001b[0;34m(\u001b[0m\u001b[0mresult\u001b[0m\u001b[0;34m.\u001b[0m\u001b[0mrobot_final_ds\u001b[0m\u001b[0;34m.\u001b[0m\u001b[0mget_data\u001b[0m\u001b[0;34m(\u001b[0m\u001b[0;34m\"COG\"\u001b[0m\u001b[0;34m)\u001b[0m\u001b[0;34m.\u001b[0m\u001b[0mitems\u001b[0m\u001b[0;34m(\u001b[0m\u001b[0;34m)\u001b[0m\u001b[0;34m)\u001b[0m\u001b[0;34m[\u001b[0m\u001b[0;36m0\u001b[0m\u001b[0;34m]\u001b[0m\u001b[0;34m[\u001b[0m\u001b[0;36m1\u001b[0m\u001b[0;34m]\u001b[0m\u001b[0;34m[\u001b[0m\u001b[0;34m-\u001b[0m\u001b[0;36m1\u001b[0m\u001b[0;34m]\u001b[0m\u001b[0;34m[\u001b[0m\u001b[0;36m1\u001b[0m\u001b[0;34m]\u001b[0m\u001b[0;34m\u001b[0m\u001b[0;34m\u001b[0m\u001b[0m\n",
      "\u001b[0;32m~/Python/rostok_project/code/main_rep/rostok/simulation_chrono/simulation_scenario.py\u001b[0m in \u001b[0;36m?\u001b[0;34m(self, graph, controller_data, starting_positions, vis, delay)\u001b[0m\n\u001b[1;32m    298\u001b[0m             \"COG\": (SensorCalls.BODY_TRAJECTORY, SensorObjectClassification.BODY,\n\u001b[1;32m    299\u001b[0m                     SensorCalls.BODY_TRAJECTORY),\n\u001b[1;32m    300\u001b[0m         }\n\u001b[1;32m    301\u001b[0m         \u001b[0msimulation\u001b[0m\u001b[0;34m.\u001b[0m\u001b[0madd_robot_data_type_dict\u001b[0m\u001b[0;34m(\u001b[0m\u001b[0mrobot_data_dict\u001b[0m\u001b[0;34m)\u001b[0m\u001b[0;34m\u001b[0m\u001b[0;34m\u001b[0m\u001b[0m\n\u001b[0;32m--> 302\u001b[0;31m         \u001b[0;32mreturn\u001b[0m \u001b[0msimulation\u001b[0m\u001b[0;34m.\u001b[0m\u001b[0msimulate\u001b[0m\u001b[0;34m(\u001b[0m\u001b[0mn_steps\u001b[0m\u001b[0;34m,\u001b[0m \u001b[0mself\u001b[0m\u001b[0;34m.\u001b[0m\u001b[0mstep_length\u001b[0m\u001b[0;34m,\u001b[0m \u001b[0;36m10000\u001b[0m\u001b[0;34m,\u001b[0m \u001b[0mevent_list\u001b[0m\u001b[0;34m,\u001b[0m \u001b[0mvis\u001b[0m\u001b[0;34m)\u001b[0m\u001b[0;34m\u001b[0m\u001b[0;34m\u001b[0m\u001b[0m\n\u001b[0m",
      "\u001b[0;32m~/Python/rostok_project/code/main_rep/rostok/simulation_chrono/simulation.py\u001b[0m in \u001b[0;36m?\u001b[0;34m(self, number_of_steps, step_length, fps, event_container, visualize)\u001b[0m\n\u001b[1;32m    316\u001b[0m         \u001b[0mstop_flag\u001b[0m \u001b[0;34m=\u001b[0m \u001b[0;32mFalse\u001b[0m\u001b[0;34m\u001b[0m\u001b[0;34m\u001b[0m\u001b[0m\n\u001b[1;32m    317\u001b[0m         \u001b[0mself\u001b[0m\u001b[0;34m.\u001b[0m\u001b[0mresult\u001b[0m\u001b[0;34m.\u001b[0m\u001b[0mtime_vector\u001b[0m \u001b[0;34m=\u001b[0m \u001b[0;34m[\u001b[0m\u001b[0;36m0\u001b[0m\u001b[0;34m]\u001b[0m\u001b[0;34m\u001b[0m\u001b[0;34m\u001b[0m\u001b[0m\n\u001b[1;32m    318\u001b[0m         \u001b[0;32mfor\u001b[0m \u001b[0mi\u001b[0m \u001b[0;32min\u001b[0m \u001b[0mrange\u001b[0m\u001b[0;34m(\u001b[0m\u001b[0mnumber_of_steps\u001b[0m\u001b[0;34m)\u001b[0m\u001b[0;34m:\u001b[0m\u001b[0;34m\u001b[0m\u001b[0;34m\u001b[0m\u001b[0m\n\u001b[1;32m    319\u001b[0m             \u001b[0mcurrent_time\u001b[0m \u001b[0;34m=\u001b[0m \u001b[0mself\u001b[0m\u001b[0;34m.\u001b[0m\u001b[0mchrono_system\u001b[0m\u001b[0;34m.\u001b[0m\u001b[0mGetChTime\u001b[0m\u001b[0;34m(\u001b[0m\u001b[0;34m)\u001b[0m\u001b[0;34m\u001b[0m\u001b[0;34m\u001b[0m\u001b[0m\n\u001b[0;32m--> 320\u001b[0;31m             \u001b[0mself\u001b[0m\u001b[0;34m.\u001b[0m\u001b[0msimulate_step\u001b[0m\u001b[0;34m(\u001b[0m\u001b[0mstep_length\u001b[0m\u001b[0;34m,\u001b[0m \u001b[0mcurrent_time\u001b[0m\u001b[0;34m,\u001b[0m \u001b[0mi\u001b[0m\u001b[0;34m)\u001b[0m\u001b[0;34m\u001b[0m\u001b[0;34m\u001b[0m\u001b[0m\n\u001b[0m\u001b[1;32m    321\u001b[0m             \u001b[0mself\u001b[0m\u001b[0;34m.\u001b[0m\u001b[0mresult\u001b[0m\u001b[0;34m.\u001b[0m\u001b[0mtime_vector\u001b[0m\u001b[0;34m.\u001b[0m\u001b[0mappend\u001b[0m\u001b[0;34m(\u001b[0m\u001b[0mself\u001b[0m\u001b[0;34m.\u001b[0m\u001b[0mchrono_system\u001b[0m\u001b[0;34m.\u001b[0m\u001b[0mGetChTime\u001b[0m\u001b[0;34m(\u001b[0m\u001b[0;34m)\u001b[0m\u001b[0;34m)\u001b[0m\u001b[0;34m\u001b[0m\u001b[0;34m\u001b[0m\u001b[0m\n\u001b[1;32m    322\u001b[0m             \u001b[0;32mif\u001b[0m \u001b[0mvisualize\u001b[0m\u001b[0;34m:\u001b[0m\u001b[0;34m\u001b[0m\u001b[0;34m\u001b[0m\u001b[0m\n\u001b[1;32m    323\u001b[0m                 \u001b[0mself\u001b[0m\u001b[0;34m.\u001b[0m\u001b[0mvis_manager\u001b[0m\u001b[0;34m.\u001b[0m\u001b[0mvisualization_step\u001b[0m\u001b[0;34m(\u001b[0m\u001b[0mstep_length\u001b[0m\u001b[0;34m)\u001b[0m\u001b[0;34m\u001b[0m\u001b[0;34m\u001b[0m\u001b[0m\n",
      "\u001b[0;32m~/Python/rostok_project/code/main_rep/rostok/simulation_chrono/simulation.py\u001b[0m in \u001b[0;36m?\u001b[0;34m(self, step_length, current_time, step_n)\u001b[0m\n\u001b[1;32m    255\u001b[0m                 \u001b[0mcurrent_time\u001b[0m \u001b[0;34m(\u001b[0m\u001b[0mfloat\u001b[0m\u001b[0;34m)\u001b[0m\u001b[0;34m:\u001b[0m \u001b[0mcurrent\u001b[0m \u001b[0mtime\u001b[0m \u001b[0mof\u001b[0m \u001b[0mthe\u001b[0m \u001b[0msimulation\u001b[0m\u001b[0;34m\u001b[0m\u001b[0;34m\u001b[0m\u001b[0m\n\u001b[1;32m    256\u001b[0m                 step_n: number of the current step\"\"\"\n\u001b[1;32m    257\u001b[0m \u001b[0;34m\u001b[0m\u001b[0m\n\u001b[1;32m    258\u001b[0m         \u001b[0mself\u001b[0m\u001b[0;34m.\u001b[0m\u001b[0mchrono_system\u001b[0m\u001b[0;34m.\u001b[0m\u001b[0mUpdate\u001b[0m\u001b[0;34m(\u001b[0m\u001b[0;34m)\u001b[0m\u001b[0;34m\u001b[0m\u001b[0;34m\u001b[0m\u001b[0m\n\u001b[0;32m--> 259\u001b[0;31m         \u001b[0mself\u001b[0m\u001b[0;34m.\u001b[0m\u001b[0mchrono_system\u001b[0m\u001b[0;34m.\u001b[0m\u001b[0mDoStepDynamics\u001b[0m\u001b[0;34m(\u001b[0m\u001b[0mstep_length\u001b[0m\u001b[0;34m)\u001b[0m\u001b[0;34m\u001b[0m\u001b[0;34m\u001b[0m\u001b[0m\n\u001b[0m\u001b[1;32m    260\u001b[0m         \u001b[0mself\u001b[0m\u001b[0;34m.\u001b[0m\u001b[0mupdate_data\u001b[0m\u001b[0;34m(\u001b[0m\u001b[0mstep_n\u001b[0m\u001b[0;34m)\u001b[0m\u001b[0;34m\u001b[0m\u001b[0;34m\u001b[0m\u001b[0m\n\u001b[1;32m    261\u001b[0m \u001b[0;34m\u001b[0m\u001b[0m\n\u001b[1;32m    262\u001b[0m         \u001b[0mrobot\u001b[0m\u001b[0;34m:\u001b[0m \u001b[0mRobotChrono\u001b[0m \u001b[0;34m=\u001b[0m \u001b[0mself\u001b[0m\u001b[0;34m.\u001b[0m\u001b[0mrobot\u001b[0m\u001b[0;34m\u001b[0m\u001b[0;34m\u001b[0m\u001b[0m\n",
      "\u001b[0;32m~/Python/anaconda3/envs/rostok/lib/python3.10/site-packages/pychrono/core.py\u001b[0m in \u001b[0;36m?\u001b[0;34m(self, step_size)\u001b[0m\n\u001b[1;32m  22163\u001b[0m     \u001b[0;32mdef\u001b[0m \u001b[0mDoStepDynamics\u001b[0m\u001b[0;34m(\u001b[0m\u001b[0mself\u001b[0m\u001b[0;34m,\u001b[0m \u001b[0mstep_size\u001b[0m\u001b[0;34m)\u001b[0m\u001b[0;34m:\u001b[0m\u001b[0;34m\u001b[0m\u001b[0;34m\u001b[0m\u001b[0m\n\u001b[1;32m  22164\u001b[0m         \u001b[0;34mr\"\"\"DoStepDynamics(ChSystem self, double step_size) -> int\"\"\"\u001b[0m\u001b[0;34m\u001b[0m\u001b[0;34m\u001b[0m\u001b[0m\n\u001b[0;32m> 22165\u001b[0;31m         \u001b[0;32mreturn\u001b[0m \u001b[0m_core\u001b[0m\u001b[0;34m.\u001b[0m\u001b[0mChSystem_DoStepDynamics\u001b[0m\u001b[0;34m(\u001b[0m\u001b[0mself\u001b[0m\u001b[0;34m,\u001b[0m \u001b[0mstep_size\u001b[0m\u001b[0;34m)\u001b[0m\u001b[0;34m\u001b[0m\u001b[0;34m\u001b[0m\u001b[0m\n\u001b[0m",
      "\u001b[0;31mRuntimeError\u001b[0m: SWIG director method error. Error detected when calling 'TorqueFunctor.evaluate'"
     ]
    }
   ],
   "source": [
    "n=20\n",
    "stiffness = np.zeros(n)\n",
    "for i in range(n):\n",
    "    if i%10 == 0:    \n",
    "        print(i)\n",
    "    graph = GraphGrammar()\n",
    "    rules = [\"Init\",\n",
    "    \"Add_Leg_Base\",\"Positive_Translation_X4\",\"Positive_Translation_Z3\",\"Rotation\",\n",
    "    'Rotation_Y', \"Extension\",\"Extension\",f'Terminal_Joint{i}',f'Terminal_Joint{i}', \"Add_Dummy\",\"Rotation\",\"R_Wheel\", \"Cyl_Wheel\",\n",
    "    \"Terminal_Link3\",\"Terminal_Link3\", 'Terminal_Joint10','Rotation_Y',\n",
    "\n",
    "    \"Add_Leg_Base\",\"Positive_Translation_X4\",\"Negative_Translation_Z3\",\"Rotation\",\n",
    "    'Rotation_Y', \"Extension\",\"Extension\",f'Terminal_Joint{i}',f'Terminal_Joint{i}',\"Add_Dummy\",\"Rotation\",\"L_Wheel\", \"Cyl_Wheel\",\n",
    "    \"Terminal_Link3\",\"Terminal_Link3\", 'Terminal_Joint10','Rotation_Y',\n",
    "\n",
    "    \"Add_Leg_Base\",\"Negative_Translation_X4\",\"Positive_Translation_Z3\",\"Rotation\",\n",
    "    'Rotation_Y', \"Extension\",\"Extension\",f'Terminal_Joint{i}', f'Terminal_Joint{i}',\"Add_Dummy\",\"Rotation\",\"R_Wheel\", \"Cyl_Wheel\",\n",
    "    \"Terminal_Link3\",\"Terminal_Link3\", 'Terminal_Joint10','Rotation_Y',\n",
    "\n",
    "    \"Add_Leg_Base\",\"Negative_Translation_X4\",\"Negative_Translation_Z3\",\"Rotation\",\n",
    "    'Rotation_Y', \"Extension\",\"Extension\",f'Terminal_Joint{i}',f'Terminal_Joint{i}', \"Add_Dummy\", \"Rotation\",\"L_Wheel\", \"Cyl_Wheel\",\n",
    "    \"Terminal_Link3\",\"Terminal_Link3\",'Terminal_Joint10','Rotation_Y',\n",
    "\n",
    "        'Terminal_Main_Body3'\n",
    "        \n",
    "    ]\n",
    "\n",
    "    for rule in rules:\n",
    "        graph.apply_rule(rule_vocab.get_rule(rule))\n",
    "\n",
    "    scenario = SuspensionCarScenario(0.0001, 1,initial_vertical_pos=height)\n",
    "    scenario.add_event_builder(event_builder=EventBodyTooLowBuilder(0.15))\n",
    "    scenario.add_event_builder(event_builder=EventContactInInitialPositionBuilder())\n",
    "    result = scenario.run_simulation(graph, control, starting_positions=[[-30,30,0,0], [30,-30,0,0], [-30,30,0,0], [30,-30,0,0]], vis = False, delay=False)\n",
    "    stiffness[i]=list(result.robot_final_ds.get_data(\"COG\").items())[0][1][-1][1]"
   ]
  },
  {
   "cell_type": "code",
   "execution_count": 20,
   "metadata": {},
   "outputs": [
    {
     "data": {
      "text/plain": [
       "<matplotlib.collections.PathCollection at 0x7964ec3b17b0>"
      ]
     },
     "execution_count": 20,
     "metadata": {},
     "output_type": "execute_result"
    },
    {
     "data": {
      "image/png": "[encoded data removed]",
      "text/plain": [
       "<Figure size 640x480 with 1 Axes>"
      ]
     },
     "metadata": {},
     "output_type": "display_data"
    }
   ],
   "source": [
    "import matplotlib.pyplot as plt\n",
    "plt.scatter(np.arange(100)[:20],stiffness[:20])\n"
   ]
  },
  {
   "cell_type": "code",
   "execution_count": 21,
   "metadata": {},
   "outputs": [
    {
     "name": "stderr",
     "output_type": "stream",
     "text": [
      "Cannot use default video driver - fall back to OpenGL\n"
     ]
    },
    {
     "name": "stdout",
     "output_type": "stream",
     "text": [
      "Irrlicht Engine version 1.8.5\n",
      "Linux 6.5.0-45-generic #45~22.04.1-Ubuntu SMP PREEMPT_DYNAMIC Mon Jul 15 16:40:02 UTC 2 x86_64\n",
      "Using plain X visual\n",
      "This driver is not available in Linux. Try OpenGL or Software renderer.\n",
      "Irrlicht Engine version 1.8.5\n",
      "Linux 6.5.0-45-generic #45~22.04.1-Ubuntu SMP PREEMPT_DYNAMIC Mon Jul 15 16:40:02 UTC 2 x86_64\n",
      "Using renderer: OpenGL 4.6\n",
      "Mesa Intel(R) UHD Graphics 630 (CFL GT2): Intel\n",
      "OpenGL driver version is 1.2 or better.\n",
      "GLSL version: 4.6\n",
      "Loaded texture: /home/be2r-lab-210134/Python/anaconda3/envs/rostok/share/chrono/data/fonts/arial80.bmp\n",
      "Loaded texture: /home/be2r-lab-210134/Python/anaconda3/envs/rostok/share/chrono/data/skybox/sky_lf.jpg\n",
      "Loaded texture: /home/be2r-lab-210134/Python/anaconda3/envs/rostok/share/chrono/data/skybox/sky_up.jpg\n",
      "Loaded texture: /home/be2r-lab-210134/Python/anaconda3/envs/rostok/share/chrono/data/skybox/sky_dn.jpg\n"
     ]
    }
   ],
   "source": [
    "# i = np.argmax(stiffness)\n",
    "# print(i)\n",
    "i = 8\n",
    "\n",
    "graph = GraphGrammar()\n",
    "rules = [\"Init\",\n",
    "    \"Add_Leg_Base\",\"Positive_Translation_X4\",\"Positive_Translation_Z3\",\"Rotation\",\n",
    "    'Rotation_Y', \"Extension\",\"Extension\",f'Terminal_Joint{i}',f'Terminal_Joint{i}', \"Add_Dummy\",\"Rotation\",\"R_Wheel\", \"Cyl_Wheel\",\n",
    "    \"Terminal_Link3\",\"Terminal_Link3\", 'Terminal_Joint10','Rotation_Y',\n",
    "\n",
    "    \"Add_Leg_Base\",\"Positive_Translation_X4\",\"Negative_Translation_Z3\",\"Rotation\",\n",
    "    'Rotation_Y', \"Extension\",\"Extension\",f'Terminal_Joint{i}',f'Terminal_Joint{i}',\"Add_Dummy\",\"Rotation\",\"L_Wheel\", \"Cyl_Wheel\",\n",
    "    \"Terminal_Link3\",\"Terminal_Link3\", 'Terminal_Joint10','Rotation_Y',\n",
    "\n",
    "    \"Add_Leg_Base\",\"Negative_Translation_X4\",\"Positive_Translation_Z3\",\"Rotation\",\n",
    "    'Rotation_Y', \"Extension\",\"Extension\",f'Terminal_Joint{i}', f'Terminal_Joint{i}',\"Add_Dummy\",\"Rotation\",\"R_Wheel\", \"Cyl_Wheel\",\n",
    "    \"Terminal_Link3\",\"Terminal_Link3\", 'Terminal_Joint10','Rotation_Y',\n",
    "\n",
    "    \"Add_Leg_Base\",\"Negative_Translation_X4\",\"Negative_Translation_Z3\",\"Rotation\",\n",
    "    'Rotation_Y', \"Extension\",\"Extension\",f'Terminal_Joint{i}',f'Terminal_Joint{i}', \"Add_Dummy\", \"Rotation\",\"L_Wheel\", \"Cyl_Wheel\",\n",
    "    \"Terminal_Link3\",\"Terminal_Link3\",'Terminal_Joint10','Rotation_Y',\n",
    "\n",
    "    'Terminal_Main_Body3'\n",
    "\n",
    "]\n",
    "\n",
    "for rule in rules:\n",
    "    graph.apply_rule(rule_vocab.get_rule(rule))\n",
    "\n",
    "\n",
    "scenario = SuspensionCarScenario(0.0001, 1,initial_vertical_pos=height)\n",
    "scenario.add_event_builder(event_builder=EventBodyTooLowBuilder(0.15))\n",
    "#scenario.add_event_builder(event_builder=EventContactInInitialPositionBuilder())\n",
    "result = scenario.run_simulation(graph, control, starting_positions=[[-30,30,0,0], [30,-30,0,0], [-30,30,0,0], [30,-30,0,0]], vis = True, delay=True)\n"
   ]
  },
  {
   "cell_type": "code",
   "execution_count": null,
   "metadata": {},
   "outputs": [
    {
     "data": {
      "text/plain": [
       "0.1722"
      ]
     },
     "execution_count": 76,
     "metadata": {},
     "output_type": "execute_result"
    }
   ],
   "source": [
    "list(result.robot_final_ds.get_data(\"COG\").items())[0][1][-1][1]"
   ]
  },
  {
   "cell_type": "code",
   "execution_count": null,
   "metadata": {},
   "outputs": [],
   "source": [
    "from rostok.block_builder_api.block_blueprints import EnvironmentBodyBlueprint\n",
    "from rostok.control_chrono.controller import SimpleKeyBoardController\n",
    "from rostok.simulation_chrono.simulation_scenario import WalkingScenario\n",
    "import pychrono as chrono\n",
    "from rostok.utils.dataset_materials.material_dataclass_manipulating import DefaultChronoMaterialNSC\n",
    "#from wheels import get_stiff_wheels, get_wheels, get_stiff_wheels_ell, get_stiff_wheels_4\n",
    "from rostok.graph_grammar.graph_utils import plot_graph\n",
    "from rostok.block_builder_chrono.block_builder_chrono_api import \\\n",
    "    ChronoBlockCreatorInterface\n",
    "from rostok.block_builder_api.easy_body_shapes import Box\n",
    "\n",
    "def create_bump_track():\n",
    "    def_mat = DefaultChronoMaterialNSC()\n",
    "    floor = ChronoBlockCreatorInterface.create_environment_body(EnvironmentBodyBlueprint(Box(5, 0.05, 5), material=def_mat, color=[215, 255, 0]))\n",
    "    chrono_material = chrono.ChMaterialSurfaceNSC()\n",
    "    #chrono_material.SetFriction(0.67)\n",
    "    mesh = chrono.ChBodyEasyMesh(\"Bump.obj\", 8000, True, True, True, chrono_material, 0.002)\n",
    "    floor.body = mesh\n",
    "    floor.body.SetNameString(\"Floor\")\n",
    "    floor.body.SetPos(chrono.ChVectorD(1.5,-0.07,0))\n",
    "    floor.body.GetVisualShape(0).SetTexture(\"chess.png\", 0.03, 0.03)\n",
    "    floor.body.SetBodyFixed(True)\n",
    "    return floor\n",
    "\n",
    "def create_track():\n",
    "    def_mat = DefaultChronoMaterialNSC()\n",
    "    floor = ChronoBlockCreatorInterface.create_environment_body(EnvironmentBodyBlueprint(Box(5, 0.05, 5), material=def_mat, color=[215, 255, 0]))\n",
    "    chrono_material = chrono.ChMaterialSurfaceNSC()\n",
    "    #chrono_material.SetFriction(0.67)\n",
    "    mesh = chrono.ChBodyEasyMesh(\"TRACKMANIA.obj\", 8000, True, True, True, chrono_material, 0.002)\n",
    "    floor.body = mesh\n",
    "    floor.body.SetNameString(\"Floor\")\n",
    "    floor.body.SetPos(chrono.ChVectorD(6.6,-0.02,5.2))\n",
    "    floor.body.GetVisualShape(0).SetTexture(\"chess.png\", 0.03, 0.03)\n",
    "    floor.body.SetBodyFixed(True)\n",
    "    return floor\n",
    "\n",
    "\n",
    "floor = create_track()\n",
    "\n",
    "scenario = WalkingScenario(0.0001, 10000, SimpleKeyBoardController)\n",
    "scenario.set_floor(floor)\n",
    "#graph = get_stiff_wheels_4()\n",
    "\n",
    "parameters = {}\n",
    "parameters[\"forward\"] = 0.5\n",
    "parameters[\"reverse\"]= 0.5\n",
    "parameters[\"forward_rotate\"] = 0.5\n",
    "parameters[\"reverse_rotate\"] = 0.3\n",
    "\n",
    "scenario.run_simulation(graph, parameters, starting_positions=[[-30,30,0,0], [30,-30,0,0], [-30,30,0,0], [30,-30,0,0]], vis = True, delay=True, is_follow_camera = True)"
   ]
  }
 ],
 "metadata": {
  "kernelspec": {
   "display_name": "rostok",
   "language": "python",
   "name": "python3"
  },
  "language_info": {
   "codemirror_mode": {
    "name": "ipython",
    "version": 3
   },
   "file_extension": ".py",
   "mimetype": "text/x-python",
   "name": "python",
   "nbconvert_exporter": "python",
   "pygments_lexer": "ipython3",
   "version": "3.10.8"
  }
 },
 "nbformat": 4,
 "nbformat_minor": 2
}
