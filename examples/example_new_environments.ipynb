{
 "cells": [
  {
   "cell_type": "code",
   "execution_count": 1,
   "metadata": {},
   "outputs": [
    {
     "name": "stdout",
     "output_type": "stream",
     "text": [
      "Jupyter environment detected. Enabling Open3D WebVisualizer.\n",
      "[Open3D INFO] WebRTC GUI backend enabled.\n",
      "[Open3D INFO] WebRTCWindowSystem: HTTP handshake server disabled.\n"
     ]
    }
   ],
   "source": [
    "from rostok.graph_generators.environments.design_environment import DesignEnvironment\n",
    "from rostok.graph_generators.search_algorithms.random_search import RandomSearch\n",
    "\n",
    "from rostok.library.rule_sets.ruleset_old_style import create_rules\n",
    "from rostok.graph_grammar.node import GraphGrammar\n",
    "from rostok.library.obj_grasp.objects import get_object_parametrized_sphere\n",
    "import sys\n",
    "sys.path.append('../app')\n",
    "from mcts_run_setup import config_with_standard"
   ]
  },
  {
   "cell_type": "code",
   "execution_count": 4,
   "metadata": {},
   "outputs": [
    {
     "name": "stdout",
     "output_type": "stream",
     "text": [
      "5000\n"
     ]
    }
   ],
   "source": [
    "rule_vocabulary = create_rules()\n",
    "grasp_object_blueprint = get_object_parametrized_sphere(0.5)\n",
    "# create reward counter using run setup function\n",
    "control_optimizer = config_with_standard(grasp_object_blueprint)\n",
    "\n",
    "init_graph = GraphGrammar()\n",
    "env = DesignEnvironment(rule_vocabulary, control_optimizer, init_graph)"
   ]
  },
  {
   "cell_type": "code",
   "execution_count": 5,
   "metadata": {},
   "outputs": [
    {
     "name": "stdout",
     "output_type": "stream",
     "text": [
      "['Init']\n",
      "{0: 'AddFinger', 1: 'AddFinger_N', 2: 'AddFinger_NT', 3: 'AddFinger_P', 4: 'AddFinger_PT', 5: 'AddFinger_R', 6: 'AddFinger_RN', 7: 'AddFinger_RNT', 8: 'AddFinger_RP', 9: 'AddFinger_RPT', 10: 'Init', 11: 'Phalanx', 12: 'RemoveFinger', 13: 'RemoveFinger_N', 14: 'RemoveFinger_P', 15: 'RemoveFinger_R', 16: 'RemoveFinger_RN', 17: 'RemoveFinger_RP', 18: 'Remove_FG', 19: 'Terminal_Link1', 20: 'Terminal_Link2', 21: 'Terminal_Link3', 22: 'Terminal_Negative_Translate1', 23: 'Terminal_Negative_Translate2', 24: 'Terminal_Negative_Translate3', 25: 'Terminal_Positive_Translate1', 26: 'Terminal_Positive_Translate2', 27: 'Terminal_Positive_Translate3', 28: 'Terminal_Radial_Translate1', 29: 'Terminal_Radial_Translate2', 30: 'Terminal_Radial_Translate3'}\n"
     ]
    },
    {
     "data": {
      "text/plain": [
       "array([0, 0, 0, 0, 0, 0, 0, 0, 0, 0, 1, 0, 0, 0, 0, 0, 0, 0, 0, 0, 0, 0,\n",
       "       0, 0, 0, 0, 0, 0, 0, 0, 0])"
      ]
     },
     "execution_count": 5,
     "metadata": {},
     "output_type": "execute_result"
    }
   ],
   "source": [
    "available_rules = rule_vocabulary.get_list_of_applicable_rules(init_graph)\n",
    "print(available_rules)\n",
    "print(env.action2rule)\n",
    "env.get_available_actions(env.initial_state)"
   ]
  },
  {
   "cell_type": "code",
   "execution_count": 6,
   "metadata": {},
   "outputs": [
    {
     "name": "stdout",
     "output_type": "stream",
     "text": [
      "[1 1 1 1 1 1 1 1 1 1 1 1 0 0 0 0 0 0 0 0 0 0 0 0 0 0 0 0 0 0 0]\n",
      "[0 0 0 0 0 0 0 0 0 0 0 0 1 1 1 1 1 1 1 1 1 1 1 1 1 1 1 1 1 1 1]\n"
     ]
    }
   ],
   "source": [
    "print(env.get_nonterminal_actions())\n",
    "print(env.get_terminal_actions())"
   ]
  },
  {
   "cell_type": "code",
   "execution_count": 7,
   "metadata": {},
   "outputs": [
    {
     "name": "stdout",
     "output_type": "stream",
     "text": [
      "[['ROOT']]\n",
      "0\n"
     ]
    }
   ],
   "source": [
    "print(init_graph.get_uniq_representation())\n",
    "print(env.data2state(init_graph))"
   ]
  },
  {
   "cell_type": "code",
   "execution_count": 8,
   "metadata": {},
   "outputs": [
    {
     "name": "stdout",
     "output_type": "stream",
     "text": [
      "{0: <rostok.graph_grammar.node.GraphGrammar object at 0x000001C1875FF610>}\n"
     ]
    }
   ],
   "source": [
    "print(env.state2graph)"
   ]
  },
  {
   "cell_type": "code",
   "execution_count": 9,
   "metadata": {},
   "outputs": [
    {
     "name": "stdout",
     "output_type": "stream",
     "text": [
      "Iter: 0, Iteration time 0.07651567459106445, Current reward: 6.239416026035334, Best reward: 6.239416026035334\n",
      "Amount nonterminal actions: 5, Viewed design: False\n",
      "Num terminal states: 1, Num seen designs 16\n",
      "===========\n",
      "Iter: 1, Iteration time 0.04999804496765137, Current reward: 4.998139950070447, Best reward: 6.239416026035334\n",
      "Amount nonterminal actions: 5, Viewed design: False\n",
      "Num terminal states: 2, Num seen designs 32\n",
      "===========\n",
      "Iter: 2, Iteration time 0.05000042915344238, Current reward: 1.9447495346385923, Best reward: 6.239416026035334\n",
      "Amount nonterminal actions: 5, Viewed design: False\n",
      "Num terminal states: 3, Num seen designs 47\n",
      "===========\n"
     ]
    }
   ],
   "source": [
    "rnd_search =RandomSearch(5, 0, 2)\n",
    "rnd_search.search(env, 3)"
   ]
  },
  {
   "cell_type": "code",
   "execution_count": 10,
   "metadata": {},
   "outputs": [
    {
     "name": "stdout",
     "output_type": "stream",
     "text": [
      "{'ROOT': 0, 'F': 1, 'RF': 2, 'PF': 3, 'NF': 4, 'RPF': 5, 'RNF': 6, 'FT': 7, 'RE': 8, 'RT': 9, 'RT1': 10, 'RT2': 11, 'RT3': 12, 'FG': 13, 'J': 14, 'L': 15, 'L1': 16, 'L2': 17, 'L3': 18, 'TP': 19, 'TP1': 20, 'TP2': 21, 'TP3': 22, 'TN': 23, 'TN1': 24, 'TN2': 25, 'TN3': 26, 'TURN_P': 27, 'TURN_N': 28}\n"
     ]
    },
    {
     "data": {
      "text/plain": [
       "{(0, 10): (7143265, 0.0, False),\n",
       " (7143265, 13): (713265, 0.0, False),\n",
       " (713265, 9): (71382628913, 0.0, False),\n",
       " (71382628913, 18): (713826289, 0.0, False),\n",
       " (713826289, 7): (71388228927913, 0.0, False),\n",
       " (71388228927913, 11): (713882289279141513, 0.0, False),\n",
       " (713882289279141513, 4): (7188228928913279141513, 0.0, False),\n",
       " (7188228928913279141513, 20): (7188228928913279141713, 0.0, False),\n",
       " (7188228928913279141713, 30): (71882289281213279141713, 0.0, False),\n",
       " (71882289281213279141713, 30): (718822812281213279141713, 0.0, False),\n",
       " (718822812281213279141713, 15): (71882812281213279141713, 0.0, False),\n",
       " (71882812281213279141713, 29): (718828122812132711141713, 0.0, False),\n",
       " (718828122812132711141713, 18): (7188281228122711141713, 0.0, False),\n",
       " (7188281228122711141713, 12): (788281228122711141713, 0.0, False),\n",
       " (788281228122711141713, 18): (7882812281227111417, 6.239416026035334, True),\n",
       " (7143265, 12): (743265, 0.0, False),\n",
       " (743265, 14): (74265, 0.0, False),\n",
       " (74265, 7): (7482527913, 0.0, False),\n",
       " (7482527913, 1): (78259231327913, 0.0, False),\n",
       " (78259231327913, 8): (7882992313191327913, 0.0, False),\n",
       " (7882992313191327913, 5): (7888999132313191327913, 0.0, False),\n",
       " (7888999132313191327913, 30): (78889913122313191327913, 0.0, False),\n",
       " (78889913122313191327913, 22): (78889913122413191327913, 0.0, False),\n",
       " (78889913122413191327913, 28): (788891013122413191327913, 0.0, False),\n",
       " (788891013122413191327913, 27): (788891013122413221327913, 0.0, False),\n",
       " (788891013122413221327913, 29): (7888101311122413221327913, 0.0, False),\n",
       " (7888101311122413221327913, 28): (78881013111224132213271013, 0.0, False),\n",
       " (78881013111224132213271013, 18): (788810111224132213271013, 0.0, False),\n",
       " (788810111224132213271013, 18): (7888101112242213271013, 0.0, False),\n",
       " (7888101112242213271013, 18): (78881011122422271013, 0.0, False),\n",
       " (78881011122422271013, 18): (788810111224222710, 4.998139950070447, True),\n",
       " (7143265, 4): (71426528913, 0.0, False),\n",
       " (71426528913, 29): (714265281113, 0.0, False),\n",
       " (714265281113, 15): (71465281113, 0.0, False),\n",
       " (71465281113, 18): (714652811, 0.0, False),\n",
       " (714652811, 13): (71652811, 0.0, False),\n",
       " (71652811, 7): (7185281127913, 0.0, False),\n",
       " (7185281127913, 8): (718891913281127913, 0.0, False),\n",
       " (718891913281127913, 26): (718892113281127913, 0.0, False),\n",
       " (718892113281127913, 11): (7188921141513281127913, 0.0, False),\n",
       " (7188921141513281127913, 18): (71889211415132811279, 0.0, False),\n",
       " (71889211415132811279, 19): (71889211416132811279, 0.0, False),\n",
       " (71889211416132811279, 28): (718810211416132811279, 0.0, False),\n",
       " (718810211416132811279, 29): (7188102114161328112711, 0.0, False),\n",
       " (7188102114161328112711, 12): (788102114161328112711, 0.0, False),\n",
       " (788102114161328112711, 18): (7881021141628112711, 1.9447495346385923, True)}"
      ]
     },
     "execution_count": 10,
     "metadata": {},
     "output_type": "execute_result"
    }
   ],
   "source": [
    "print(env.node2id)\n",
    "env.transition_function"
   ]
  },
  {
   "cell_type": "code",
   "execution_count": 15,
   "metadata": {},
   "outputs": [
    {
     "name": "stdout",
     "output_type": "stream",
     "text": [
      "{0: <rostok.graph_grammar.node.GraphGrammar object at 0x000001C1875FF610>, 7143265: <rostok.graph_grammar.node.GraphGrammar object at 0x000001C1875FC940>, 713265: <rostok.graph_grammar.node.GraphGrammar object at 0x000001C1875FFD90>, 71382628913: <rostok.graph_grammar.node.GraphGrammar object at 0x000001C18762CF40>, 713826289: <rostok.graph_grammar.node.GraphGrammar object at 0x000001C18762D7B0>, 71388228927913: <rostok.graph_grammar.node.GraphGrammar object at 0x000001C18762CC40>, 713882289279141513: <rostok.graph_grammar.node.GraphGrammar object at 0x000001C18762F8B0>, 7188228928913279141513: <rostok.graph_grammar.node.GraphGrammar object at 0x000001C18762F4C0>, 7188228928913279141713: <rostok.graph_grammar.node.GraphGrammar object at 0x000001C18764E260>, 71882289281213279141713: <rostok.graph_grammar.node.GraphGrammar object at 0x000001C18762DE40>, 718822812281213279141713: <rostok.graph_grammar.node.GraphGrammar object at 0x000001C187668970>, 71882812281213279141713: <rostok.graph_grammar.node.GraphGrammar object at 0x000001C1F36DA1A0>, 718828122812132711141713: <rostok.graph_grammar.node.GraphGrammar object at 0x000001C18766BAF0>, 7188281228122711141713: <rostok.graph_grammar.node.GraphGrammar object at 0x000001C18766B3D0>, 788281228122711141713: <rostok.graph_grammar.node.GraphGrammar object at 0x000001C18767AB00>, 7882812281227111417: <rostok.graph_grammar.node.GraphGrammar object at 0x000001C18767BCA0>, 743265: <rostok.graph_grammar.node.GraphGrammar object at 0x000001C18767A920>, 74265: <rostok.graph_grammar.node.GraphGrammar object at 0x000001C18768D720>, 7482527913: <rostok.graph_grammar.node.GraphGrammar object at 0x000001C18768E830>, 78259231327913: <rostok.graph_grammar.node.GraphGrammar object at 0x000001C18768E290>, 7882992313191327913: <rostok.graph_grammar.node.GraphGrammar object at 0x000001C1876A00A0>, 7888999132313191327913: <rostok.graph_grammar.node.GraphGrammar object at 0x000001C1876A1390>, 78889913122313191327913: <rostok.graph_grammar.node.GraphGrammar object at 0x000001C1876A24D0>, 78889913122413191327913: <rostok.graph_grammar.node.GraphGrammar object at 0x000001C1876A3B80>, 788891013122413191327913: <rostok.graph_grammar.node.GraphGrammar object at 0x000001C1876A1F90>, 788891013122413221327913: <rostok.graph_grammar.node.GraphGrammar object at 0x000001C1876BE110>, 7888101311122413221327913: <rostok.graph_grammar.node.GraphGrammar object at 0x000001C1876BF3D0>, 78881013111224132213271013: <rostok.graph_grammar.node.GraphGrammar object at 0x000001C1876D4190>, 788810111224132213271013: <rostok.graph_grammar.node.GraphGrammar object at 0x000001C1876D67A0>, 7888101112242213271013: <rostok.graph_grammar.node.GraphGrammar object at 0x000001C1876D6650>, 78881011122422271013: <rostok.graph_grammar.node.GraphGrammar object at 0x000001C1876F13C0>, 788810111224222710: <rostok.graph_grammar.node.GraphGrammar object at 0x000001C1876F22F0>, 71426528913: <rostok.graph_grammar.node.GraphGrammar object at 0x000001C1876F3760>, 714265281113: <rostok.graph_grammar.node.GraphGrammar object at 0x000001C187708760>, 71465281113: <rostok.graph_grammar.node.GraphGrammar object at 0x000001C1876F3F40>, 714652811: <rostok.graph_grammar.node.GraphGrammar object at 0x000001C1877081C0>, 71652811: <rostok.graph_grammar.node.GraphGrammar object at 0x000001C1877080A0>, 7185281127913: <rostok.graph_grammar.node.GraphGrammar object at 0x000001C18770A980>, 718891913281127913: <rostok.graph_grammar.node.GraphGrammar object at 0x000001C1876F2A70>, 718892113281127913: <rostok.graph_grammar.node.GraphGrammar object at 0x000001C1876D76D0>, 7188921141513281127913: <rostok.graph_grammar.node.GraphGrammar object at 0x000001C1876BF070>, 71889211415132811279: <rostok.graph_grammar.node.GraphGrammar object at 0x000001C1876BD8D0>, 71889211416132811279: <rostok.graph_grammar.node.GraphGrammar object at 0x000001C18768F3D0>, 718810211416132811279: <rostok.graph_grammar.node.GraphGrammar object at 0x000001C187678AC0>, 7188102114161328112711: <rostok.graph_grammar.node.GraphGrammar object at 0x000001C187669AE0>, 788102114161328112711: <rostok.graph_grammar.node.GraphGrammar object at 0x000001C18770A1A0>, 7881021141628112711: <rostok.graph_grammar.node.GraphGrammar object at 0x000001C187678A60>, 714382691913: <rostok.graph_grammar.node.GraphGrammar object at 0x000001C1877098A0>, 7143826111913: <rostok.graph_grammar.node.GraphGrammar object at 0x000001C187709480>, 7143826112013: <rostok.graph_grammar.node.GraphGrammar object at 0x000001C187728BB0>, 71482611201328913: <rostok.graph_grammar.node.GraphGrammar object at 0x000001C1877084C0>, 7148829112313201328913: <rostok.graph_grammar.node.GraphGrammar object at 0x000001C187729240>, 718829112313201328913: <rostok.graph_grammar.node.GraphGrammar object at 0x000001C187729EA0>, 7188291123132013281213: <rostok.graph_grammar.node.GraphGrammar object at 0x000001C18772A290>, 71882101123132013281213: <rostok.graph_grammar.node.GraphGrammar object at 0x000001C18772ADD0>, 718821011231320132812: <rostok.graph_grammar.node.GraphGrammar object at 0x000001C1877286D0>, 718889131011231320132812: <rostok.graph_grammar.node.GraphGrammar object at 0x000001C18772A860>, 718889131011261320132812: <rostok.graph_grammar.node.GraphGrammar object at 0x000001C1877684F0>, 7188810111113261320132812: <rostok.graph_grammar.node.GraphGrammar object at 0x000001C187768BE0>, 788810111113261320132812: <rostok.graph_grammar.node.GraphGrammar object at 0x000001C187769750>, 7888101111261320132812: <rostok.graph_grammar.node.GraphGrammar object at 0x000001C187769D20>, 78881011112620132812: <rostok.graph_grammar.node.GraphGrammar object at 0x000001C18776A8F0>, 788810111126202812: <rostok.graph_grammar.node.GraphGrammar object at 0x000001C18776AE30>, 714382527913: <rostok.graph_grammar.node.GraphGrammar object at 0x000001C187709C60>, 7148252891327913: <rostok.graph_grammar.node.GraphGrammar object at 0x000001C18776B730>, 7148859132891327913: <rostok.graph_grammar.node.GraphGrammar object at 0x000001C1877A00D0>, 71488512132891327913: <rostok.graph_grammar.node.GraphGrammar object at 0x000001C1877A0370>, 7488512132891327913: <rostok.graph_grammar.node.GraphGrammar object at 0x000001C1877A09A0>, 78851213289132791327913: <rostok.graph_grammar.node.GraphGrammar object at 0x000001C18776B4F0>, 788512132811132791327913: <rostok.graph_grammar.node.GraphGrammar object at 0x000001C1877A1930>, 78812132811132791327913: <rostok.graph_grammar.node.GraphGrammar object at 0x000001C1877A2560>, 788122811132791327913: <rostok.graph_grammar.node.GraphGrammar object at 0x000001C18776BB80>, 7881228111327913271113: <rostok.graph_grammar.node.GraphGrammar object at 0x000001C1877683A0>, 78812281113271113271113: <rostok.graph_grammar.node.GraphGrammar object at 0x000001C187768190>, 788122811271113271113: <rostok.graph_grammar.node.GraphGrammar object at 0x000001C18776AE90>, 7881228112711132711: <rostok.graph_grammar.node.GraphGrammar object at 0x000001C18770B7C0>, 78812281127112711: <rostok.graph_grammar.node.GraphGrammar object at 0x000001C18770BC70>, 71326592313: <rostok.graph_grammar.node.GraphGrammar object at 0x000001C18770B940>, 7132692313: <rostok.graph_grammar.node.GraphGrammar object at 0x000001C1F36DA590>, 713692313: <rostok.graph_grammar.node.GraphGrammar object at 0x000001C1876BD6C0>, 713692613: <rostok.graph_grammar.node.GraphGrammar object at 0x000001C1876BD690>, 7136122613: <rostok.graph_grammar.node.GraphGrammar object at 0x000001C1877A2A40>, 713891223132613: <rostok.graph_grammar.node.GraphGrammar object at 0x000001C1877A2F80>, 7138111223132613: <rostok.graph_grammar.node.GraphGrammar object at 0x000001C1877A3910>, 738111223132613: <rostok.graph_grammar.node.GraphGrammar object at 0x000001C1876BDC00>, 7891112231326131913: <rostok.graph_grammar.node.GraphGrammar object at 0x000001C1877A34C0>, 78911122313261913: <rostok.graph_grammar.node.GraphGrammar object at 0x000001C18776BCD0>, 78911122626131913: <rostok.graph_grammar.node.GraphGrammar object at 0x000001C1877D9000>, 78911122626132213: <rostok.graph_grammar.node.GraphGrammar object at 0x000001C1877D86D0>, 781112122626132213: <rostok.graph_grammar.node.GraphGrammar object at 0x000001C1877D9960>, 7811121226261322141513: <rostok.graph_grammar.node.GraphGrammar object at 0x000001C1877DA200>, 78111212262622141513: <rostok.graph_grammar.node.GraphGrammar object at 0x000001C1877D9090>, 78111212262622141713: <rostok.graph_grammar.node.GraphGrammar object at 0x000001C1877DA4D0>, 781112122626221417: <rostok.graph_grammar.node.GraphGrammar object at 0x000001C1877DAE90>, 71326527913: <rostok.graph_grammar.node.GraphGrammar object at 0x000001C1877DAC80>, 7138269191327913: <rostok.graph_grammar.node.GraphGrammar object at 0x000001C1877DBFD0>, 738269191327913: <rostok.graph_grammar.node.GraphGrammar object at 0x000001C1877D9840>, 7382691913271113: <rostok.graph_grammar.node.GraphGrammar object at 0x000001C1877DA920>, 738291913271113: <rostok.graph_grammar.node.GraphGrammar object at 0x000001C1877DA290>, 7829191328913271113: <rostok.graph_grammar.node.GraphGrammar object at 0x000001C18780D270>, 78291913289141513271113: <rostok.graph_grammar.node.GraphGrammar object at 0x000001C18780DD20>, 78291913289141613271113: <rostok.graph_grammar.node.GraphGrammar object at 0x000001C18780E2C0>, 78292113289141613271113: <rostok.graph_grammar.node.GraphGrammar object at 0x000001C18780EF20>, 7892113289141613271113: <rostok.graph_grammar.node.GraphGrammar object at 0x000001C18780E080>, 78921132891416132711: <rostok.graph_grammar.node.GraphGrammar object at 0x000001C18780FAF0>, 781121132891416132711: <rostok.graph_grammar.node.GraphGrammar object at 0x000001C18783C6A0>, 7811212891416132711: <rostok.graph_grammar.node.GraphGrammar object at 0x000001C18783CCA0>, 78112128121416132711: <rostok.graph_grammar.node.GraphGrammar object at 0x000001C18783D780>, 781121281214162711: <rostok.graph_grammar.node.GraphGrammar object at 0x000001C18780F460>, 71426591913: <rostok.graph_grammar.node.GraphGrammar object at 0x000001C18780EE60>, 71426592113: <rostok.graph_grammar.node.GraphGrammar object at 0x000001C1877D92A0>, 714265102113: <rostok.graph_grammar.node.GraphGrammar object at 0x000001C1877D9F60>, 71426102113: <rostok.graph_grammar.node.GraphGrammar object at 0x000001C1877D8F10>, 7148291023132113: <rostok.graph_grammar.node.GraphGrammar object at 0x000001C1877DBF70>, 71482910231321: <rostok.graph_grammar.node.GraphGrammar object at 0x000001C1877D80D0>, 714821012231321: <rostok.graph_grammar.node.GraphGrammar object at 0x000001C1877D9F90>, 74821012231321: <rostok.graph_grammar.node.GraphGrammar object at 0x000001C18772AA10>, 7481012231321: <rostok.graph_grammar.node.GraphGrammar object at 0x000001C18780DE70>, 78101223132127913: <rostok.graph_grammar.node.GraphGrammar object at 0x000001C18783CA00>, 78101224132127913: <rostok.graph_grammar.node.GraphGrammar object at 0x000001C18783E530>, 781012241321271013: <rostok.graph_grammar.node.GraphGrammar object at 0x000001C18783D300>, 7810122413212710: <rostok.graph_grammar.node.GraphGrammar object at 0x000001C18783EE60>, 78101224212710: <rostok.graph_grammar.node.GraphGrammar object at 0x000001C18783F820>, 71438822891327913: <rostok.graph_grammar.node.GraphGrammar object at 0x000001C18783ECB0>, 714388228121327913: <rostok.graph_grammar.node.GraphGrammar object at 0x000001C1878782B0>, 7143882281213271013: <rostok.graph_grammar.node.GraphGrammar object at 0x000001C18780DBA0>, 71388292313281213271013: <rostok.graph_grammar.node.GraphGrammar object at 0x000001C187878DC0>, 713882102313281213271013: <rostok.graph_grammar.node.GraphGrammar object at 0x000001C187878FA0>, 71388102313281213271013: <rostok.graph_grammar.node.GraphGrammar object at 0x000001C187878CA0>, 713881023281213271013: <rostok.graph_grammar.node.GraphGrammar object at 0x000001C18787A9B0>, 713881025281213271013: <rostok.graph_grammar.node.GraphGrammar object at 0x000001C18783EDA0>, 71881025281213271013: <rostok.graph_grammar.node.GraphGrammar object at 0x000001C18787A560>, 7889131025281213271013: <rostok.graph_grammar.node.GraphGrammar object at 0x000001C1878AC130>, 78810121325281213271013: <rostok.graph_grammar.node.GraphGrammar object at 0x000001C18787BCD0>, 788101225281213271013: <rostok.graph_grammar.node.GraphGrammar object at 0x000001C1878ACC10>, 7881012252812271013: <rostok.graph_grammar.node.GraphGrammar object at 0x000001C18787BAF0>, 78810122528122710: <rostok.graph_grammar.node.GraphGrammar object at 0x000001C1878ADCC0>, 714382592313: <rostok.graph_grammar.node.GraphGrammar object at 0x000001C1878AE1D0>, 7148259231328913: <rostok.graph_grammar.node.GraphGrammar object at 0x000001C1877DB9A0>, 71482592313281213: <rostok.graph_grammar.node.GraphGrammar object at 0x000001C1878AD9C0>, 71482592413281213: <rostok.graph_grammar.node.GraphGrammar object at 0x000001C1878AF4F0>, 7148292413281213: <rostok.graph_grammar.node.GraphGrammar object at 0x000001C1878AFD60>, 718292413281213: <rostok.graph_grammar.node.GraphGrammar object at 0x000001C1877DA0B0>, 71892413281213: <rostok.graph_grammar.node.GraphGrammar object at 0x000001C1878AF340>, 718924132812: <rostok.graph_grammar.node.GraphGrammar object at 0x000001C1878ADBD0>, 7181224132812: <rostok.graph_grammar.node.GraphGrammar object at 0x000001C1878AF010>, 71812242812: <rostok.graph_grammar.node.GraphGrammar object at 0x000001C1878AC730>, 7891312242812: <rostok.graph_grammar.node.GraphGrammar object at 0x000001C1878AD7E0>, 78101312242812: <rostok.graph_grammar.node.GraphGrammar object at 0x000001C18787B1C0>, 781012242812: <rostok.graph_grammar.node.GraphGrammar object at 0x000001C1878AD5A0>, 714325: <rostok.graph_grammar.node.GraphGrammar object at 0x000001C1878AF940>, 71425: <rostok.graph_grammar.node.GraphGrammar object at 0x000001C1878AD960>, 7142: <rostok.graph_grammar.node.GraphGrammar object at 0x000001C187878910>, 71292313: <rostok.graph_grammar.node.GraphGrammar object at 0x000001C18783C100>, 71292513: <rostok.graph_grammar.node.GraphGrammar object at 0x000001C18783C190>, 712925141513: <rostok.graph_grammar.node.GraphGrammar object at 0x000001C18783C130>, 72991325141513: <rostok.graph_grammar.node.GraphGrammar object at 0x000001C1877D8C70>, 729925141513: <rostok.graph_grammar.node.GraphGrammar object at 0x000001C1878789A0>, 7299251415141513: <rostok.graph_grammar.node.GraphGrammar object at 0x000001C1878E1690>, 72912251415141513: <rostok.graph_grammar.node.GraphGrammar object at 0x000001C1878AFC40>, 729122514151415: <rostok.graph_grammar.node.GraphGrammar object at 0x000001C1878797E0>, 7211122514151415: <rostok.graph_grammar.node.GraphGrammar object at 0x000001C1878E2560>, 7211122514171415: <rostok.graph_grammar.node.GraphGrammar object at 0x000001C1878E2EC0>, 7211122514171418: <rostok.graph_grammar.node.GraphGrammar object at 0x000001C1878E2D10>, 711122514171418: <rostok.graph_grammar.node.GraphGrammar object at 0x000001C1878E23B0>, 714326: <rostok.graph_grammar.node.GraphGrammar object at 0x000001C1878E39A0>, 714386913: <rostok.graph_grammar.node.GraphGrammar object at 0x000001C187910430>, 71438891392313: <rostok.graph_grammar.node.GraphGrammar object at 0x000001C1878E3E20>, 7138891392313: <rostok.graph_grammar.node.GraphGrammar object at 0x000001C1878E3DF0>, 71889139231328913: <rostok.graph_grammar.node.GraphGrammar object at 0x000001C187910E50>, 718891213231328913: <rostok.graph_grammar.node.GraphGrammar object at 0x000001C187911750>, 718891213241328913: <rostok.graph_grammar.node.GraphGrammar object at 0x000001C187910B20>, 7188912132413281013: <rostok.graph_grammar.node.GraphGrammar object at 0x000001C187911E70>, 71881112132413281013: <rostok.graph_grammar.node.GraphGrammar object at 0x000001C1878AF910>, 718811121415132413281013: <rostok.graph_grammar.node.GraphGrammar object at 0x000001C187912D40>, 78811121415132413281013: <rostok.graph_grammar.node.GraphGrammar object at 0x000001C1879138E0>, 788111214151324132810: <rostok.graph_grammar.node.GraphGrammar object at 0x000001C187913400>, 788111214171324132810: <rostok.graph_grammar.node.GraphGrammar object at 0x000001C18794C430>, 7881112141713242810: <rostok.graph_grammar.node.GraphGrammar object at 0x000001C187913280>, 78811121417242810: <rostok.graph_grammar.node.GraphGrammar object at 0x000001C18794D660>, 713265271013: <rostok.graph_grammar.node.GraphGrammar object at 0x000001C18794DFF0>, 7126528913271013: <rostok.graph_grammar.node.GraphGrammar object at 0x000001C18794E770>, 71265289141513271013: <rostok.graph_grammar.node.GraphGrammar object at 0x000001C18794DE10>, 712652891415132710141513: <rostok.graph_grammar.node.GraphGrammar object at 0x000001C18794EC80>, 7126528111415132710141513: <rostok.graph_grammar.node.GraphGrammar object at 0x000001C18794FA60>, 7126528111417132710141513: <rostok.graph_grammar.node.GraphGrammar object at 0x000001C18794FD90>, 716528111417132710141513: <rostok.graph_grammar.node.GraphGrammar object at 0x000001C187984A00>, 716528111417132710141613: <rostok.graph_grammar.node.GraphGrammar object at 0x000001C18794F8B0>, 71528111417132710141613: <rostok.graph_grammar.node.GraphGrammar object at 0x000001C18794CD90>, 7528111417132710141613: <rostok.graph_grammar.node.GraphGrammar object at 0x000001C18794CEE0>, 75281114172710141613: <rostok.graph_grammar.node.GraphGrammar object at 0x000001C18794C9D0>, 7281114172710141613: <rostok.graph_grammar.node.GraphGrammar object at 0x000001C187879570>, 72811141727101416: <rostok.graph_grammar.node.GraphGrammar object at 0x000001C18783D510>}\n",
      "193\n"
     ]
    }
   ],
   "source": [
    "print(env.state2graph)\n",
    "print(len(env.state2graph))"
   ]
  },
  {
   "cell_type": "code",
   "execution_count": 16,
   "metadata": {},
   "outputs": [
    {
     "data": {
      "text/plain": [
       "193"
      ]
     },
     "execution_count": 16,
     "metadata": {},
     "output_type": "execute_result"
    }
   ],
   "source": [
    "set_graph = set(env.state2graph.values())\n",
    "len(set_graph)"
   ]
  },
  {
   "cell_type": "code",
   "execution_count": 17,
   "metadata": {},
   "outputs": [
    {
     "name": "stdout",
     "output_type": "stream",
     "text": [
      "Iter: 0, Iteration time 0.03901481628417969, Current reward: 6.907327219131936, Best reward: 8.630588409392871\n",
      "Amount nonterminal actions: 5, Viewed design: False\n",
      "Num terminal states: 14, Num seen designs 208\n",
      "===========\n",
      "Iter: 1, Iteration time 0.034993648529052734, Current reward: 4.955182420069367, Best reward: 8.630588409392871\n",
      "Amount nonterminal actions: 5, Viewed design: False\n",
      "Num terminal states: 15, Num seen designs 222\n",
      "===========\n",
      "Iter: 2, Iteration time 0.026966571807861328, Current reward: 3.9542839661946516, Best reward: 8.630588409392871\n",
      "Amount nonterminal actions: 5, Viewed design: False\n",
      "Num terminal states: 16, Num seen designs 237\n",
      "===========\n",
      "Iter: 3, Iteration time 0.019033432006835938, Current reward: 7.319536874394119, Best reward: 8.630588409392871\n",
      "Amount nonterminal actions: 5, Viewed design: False\n",
      "Num terminal states: 17, Num seen designs 249\n",
      "===========\n",
      "Iter: 4, Iteration time 0.00896596908569336, Current reward: 1.7992280890493817, Best reward: 8.630588409392871\n",
      "Amount nonterminal actions: 2, Viewed design: False\n",
      "Num terminal states: 18, Num seen designs 257\n",
      "===========\n",
      "Iter: 5, Iteration time 0.02800154685974121, Current reward: 1.597355288167076, Best reward: 8.630588409392871\n",
      "Amount nonterminal actions: 5, Viewed design: False\n",
      "Num terminal states: 19, Num seen designs 272\n",
      "===========\n",
      "Iter: 6, Iteration time 0.029001474380493164, Current reward: 2.990899542351737, Best reward: 8.630588409392871\n",
      "Amount nonterminal actions: 5, Viewed design: False\n",
      "Num terminal states: 20, Num seen designs 285\n",
      "===========\n",
      "Iter: 7, Iteration time 0.017998933792114258, Current reward: 4.981223923088313, Best reward: 8.630588409392871\n",
      "Amount nonterminal actions: 4, Viewed design: False\n",
      "Num terminal states: 21, Num seen designs 297\n",
      "===========\n",
      "Iter: 8, Iteration time 0.0189971923828125, Current reward: 1.7665956273032746, Best reward: 8.630588409392871\n",
      "Amount nonterminal actions: 4, Viewed design: False\n",
      "Num terminal states: 22, Num seen designs 310\n",
      "===========\n",
      "Iter: 9, Iteration time 0.0240018367767334, Current reward: 7.443403346630374, Best reward: 8.630588409392871\n",
      "Amount nonterminal actions: 5, Viewed design: False\n",
      "Num terminal states: 23, Num seen designs 323\n",
      "===========\n"
     ]
    }
   ],
   "source": [
    "rnd_search.search(env, 10)"
   ]
  },
  {
   "cell_type": "code",
   "execution_count": 19,
   "metadata": {},
   "outputs": [
    {
     "name": "stdout",
     "output_type": "stream",
     "text": [
      "[['FT', 'F'], ['FT', 'RE', 'TURN_P', 'RT', 'FG'], ['FT', 'RPF'], ['FT', 'TURN_N', 'RT2']]\n",
      "7185281127913\n"
     ]
    }
   ],
   "source": [
    "state = 7185281127913\n",
    "print(env.state2graph[state].get_uniq_representation())\n",
    "print(env.data2state(env.state2graph[state]))"
   ]
  },
  {
   "cell_type": "code",
   "execution_count": 20,
   "metadata": {},
   "outputs": [
    {
     "name": "stdout",
     "output_type": "stream",
     "text": [
      "['RemoveFinger_RP', 'AddFinger_RPT', 'RemoveFinger', 'Phalanx', 'Terminal_Radial_Translate1', 'Terminal_Radial_Translate2', 'AddFinger', 'Terminal_Radial_Translate3', 'AddFinger_RP', 'Remove_FG']\n",
      "{0: 'AddFinger', 1: 'AddFinger_N', 2: 'AddFinger_NT', 3: 'AddFinger_P', 4: 'AddFinger_PT', 5: 'AddFinger_R', 6: 'AddFinger_RN', 7: 'AddFinger_RNT', 8: 'AddFinger_RP', 9: 'AddFinger_RPT', 10: 'Init', 11: 'Phalanx', 12: 'RemoveFinger', 13: 'RemoveFinger_N', 14: 'RemoveFinger_P', 15: 'RemoveFinger_R', 16: 'RemoveFinger_RN', 17: 'RemoveFinger_RP', 18: 'Remove_FG', 19: 'Terminal_Link1', 20: 'Terminal_Link2', 21: 'Terminal_Link3', 22: 'Terminal_Negative_Translate1', 23: 'Terminal_Negative_Translate2', 24: 'Terminal_Negative_Translate3', 25: 'Terminal_Positive_Translate1', 26: 'Terminal_Positive_Translate2', 27: 'Terminal_Positive_Translate3', 28: 'Terminal_Radial_Translate1', 29: 'Terminal_Radial_Translate2', 30: 'Terminal_Radial_Translate3'}\n"
     ]
    },
    {
     "data": {
      "text/plain": [
       "array([1, 0, 0, 0, 0, 0, 0, 0, 1, 1, 0, 1, 1, 0, 0, 0, 0, 1, 1, 0, 0, 0,\n",
       "       0, 0, 0, 0, 0, 0, 1, 1, 1])"
      ]
     },
     "execution_count": 20,
     "metadata": {},
     "output_type": "execute_result"
    }
   ],
   "source": [
    "available_rules = rule_vocabulary.get_list_of_applicable_rules(env.state2graph[state])\n",
    "print(available_rules)\n",
    "print(env.action2rule)\n",
    "env.get_available_actions(state)"
   ]
  },
  {
   "cell_type": "code",
   "execution_count": 21,
   "metadata": {},
   "outputs": [
    {
     "name": "stdout",
     "output_type": "stream",
     "text": [
      "Path ./environments/ does not exist. Creating...\n",
      "Saving environment to ./environments/test_env__14h41m_22s_date_12d8m2023y\n"
     ]
    }
   ],
   "source": [
    "env.save_environment(\"test_env\")"
   ]
  },
  {
   "cell_type": "code",
   "execution_count": 23,
   "metadata": {},
   "outputs": [],
   "source": [
    "rnd_search.save_history(\"test\", \"../results/random_search/\")"
   ]
  },
  {
   "cell_type": "code",
   "execution_count": 27,
   "metadata": {},
   "outputs": [],
   "source": [
    "env_new = DesignEnvironment(rule_vocabulary, control_optimizer, init_graph)\n",
    "\n",
    "env_new.load_environment(\"../environments/test_env__14h41m_22s_date_12d8m2023y\")"
   ]
  },
  {
   "cell_type": "code",
   "execution_count": 28,
   "metadata": {},
   "outputs": [
    {
     "data": {
      "text/plain": [
       "{(0, 10): (7143265, 0.0, False),\n",
       " (7143265, 13): (713265, 0.0, False),\n",
       " (713265, 9): (71382628913, 0.0, False),\n",
       " (71382628913, 18): (713826289, 0.0, False),\n",
       " (713826289, 7): (71388228927913, 0.0, False),\n",
       " (71388228927913, 11): (713882289279141513, 0.0, False),\n",
       " (713882289279141513, 4): (7188228928913279141513, 0.0, False),\n",
       " (7188228928913279141513, 20): (7188228928913279141713, 0.0, False),\n",
       " (7188228928913279141713, 30): (71882289281213279141713, 0.0, False),\n",
       " (71882289281213279141713, 30): (718822812281213279141713, 0.0, False),\n",
       " (718822812281213279141713, 15): (71882812281213279141713, 0.0, False),\n",
       " (71882812281213279141713, 29): (718828122812132711141713, 0.0, False),\n",
       " (718828122812132711141713, 18): (7188281228122711141713, 0.0, False),\n",
       " (7188281228122711141713, 12): (788281228122711141713, 0.0, False),\n",
       " (788281228122711141713, 18): (7882812281227111417, 6.239416026035334, True),\n",
       " (7143265, 12): (743265, 0.0, False),\n",
       " (743265, 14): (74265, 0.0, False),\n",
       " (74265, 7): (7482527913, 0.0, False),\n",
       " (7482527913, 1): (78259231327913, 0.0, False),\n",
       " (78259231327913, 8): (7882992313191327913, 0.0, False),\n",
       " (7882992313191327913, 5): (7888999132313191327913, 0.0, False),\n",
       " (7888999132313191327913, 30): (78889913122313191327913, 0.0, False),\n",
       " (78889913122313191327913, 22): (78889913122413191327913, 0.0, False),\n",
       " (78889913122413191327913, 28): (788891013122413191327913, 0.0, False),\n",
       " (788891013122413191327913, 27): (788891013122413221327913, 0.0, False),\n",
       " (788891013122413221327913, 29): (7888101311122413221327913, 0.0, False),\n",
       " (7888101311122413221327913, 28): (78881013111224132213271013, 0.0, False),\n",
       " (78881013111224132213271013, 18): (788810111224132213271013, 0.0, False),\n",
       " (788810111224132213271013, 18): (7888101112242213271013, 0.0, False),\n",
       " (7888101112242213271013, 18): (78881011122422271013, 0.0, False),\n",
       " (78881011122422271013, 18): (788810111224222710, 4.998139950070447, True),\n",
       " (7143265, 4): (71426528913, 0.0, False),\n",
       " (71426528913, 29): (714265281113, 0.0, False),\n",
       " (714265281113, 15): (71465281113, 0.0, False),\n",
       " (71465281113, 18): (714652811, 0.0, False),\n",
       " (714652811, 13): (71652811, 0.0, False),\n",
       " (71652811, 7): (7185281127913, 0.0, False),\n",
       " (7185281127913, 8): (718891913281127913, 0.0, False),\n",
       " (718891913281127913, 26): (718892113281127913, 0.0, False),\n",
       " (718892113281127913, 11): (7188921141513281127913, 0.0, False),\n",
       " (7188921141513281127913, 18): (71889211415132811279, 0.0, False),\n",
       " (71889211415132811279, 19): (71889211416132811279, 0.0, False),\n",
       " (71889211416132811279, 28): (718810211416132811279, 0.0, False),\n",
       " (718810211416132811279, 29): (7188102114161328112711, 0.0, False),\n",
       " (7188102114161328112711, 12): (788102114161328112711, 0.0, False),\n",
       " (788102114161328112711, 18): (7881021141628112711, 1.9447495346385923, True),\n",
       " (7143265, 8): (714382691913, 0.0, False),\n",
       " (714382691913, 29): (7143826111913, 0.0, False),\n",
       " (7143826111913, 25): (7143826112013, 0.0, False),\n",
       " (7143826112013, 4): (71482611201328913, 0.0, False),\n",
       " (71482611201328913, 6): (7148829112313201328913, 0.0, False),\n",
       " (7148829112313201328913, 13): (718829112313201328913, 0.0, False),\n",
       " (718829112313201328913, 30): (7188291123132013281213, 0.0, False),\n",
       " (7188291123132013281213, 28): (71882101123132013281213, 0.0, False),\n",
       " (71882101123132013281213, 18): (718821011231320132812, 0.0, False),\n",
       " (718821011231320132812, 5): (718889131011231320132812, 0.0, False),\n",
       " (718889131011231320132812, 24): (718889131011261320132812, 0.0, False),\n",
       " (718889131011261320132812, 29): (7188810111113261320132812, 0.0, False),\n",
       " (7188810111113261320132812, 12): (788810111113261320132812, 0.0, False),\n",
       " (788810111113261320132812, 18): (7888101111261320132812, 0.0, False),\n",
       " (7888101111261320132812, 18): (78881011112620132812, 0.0, False),\n",
       " (78881011112620132812, 18): (788810111126202812, 0.9309458710450225, True),\n",
       " (7143265, 7): (714382527913, 0.0, False),\n",
       " (714382527913, 4): (7148252891327913, 0.0, False),\n",
       " (7148252891327913, 5): (7148859132891327913, 0.0, False),\n",
       " (7148859132891327913, 30): (71488512132891327913, 0.0, False),\n",
       " (71488512132891327913, 12): (7488512132891327913, 0.0, False),\n",
       " (7488512132891327913, 2): (78851213289132791327913, 0.0, False),\n",
       " (78851213289132791327913, 29): (788512132811132791327913, 0.0, False),\n",
       " (788512132811132791327913, 17): (78812132811132791327913, 0.0, False),\n",
       " (78812132811132791327913, 18): (788122811132791327913, 0.0, False),\n",
       " (788122811132791327913, 29): (7881228111327913271113, 0.0, False),\n",
       " (7881228111327913271113, 29): (78812281113271113271113, 0.0, False),\n",
       " (78812281113271113271113, 18): (788122811271113271113, 0.0, False),\n",
       " (788122811271113271113, 18): (7881228112711132711, 0.0, False),\n",
       " (7881228112711132711, 18): (78812281127112711, 6.510043735622797, True),\n",
       " (7143265, 1): (71326592313, 0.0, False),\n",
       " (71326592313, 17): (7132692313, 0.0, False),\n",
       " (7132692313, 15): (713692313, 0.0, False),\n",
       " (713692313, 24): (713692613, 0.0, False),\n",
       " (713692613, 30): (7136122613, 0.0, False),\n",
       " (7136122613, 6): (713891223132613, 0.0, False),\n",
       " (713891223132613, 29): (7138111223132613, 0.0, False),\n",
       " (7138111223132613, 12): (738111223132613, 0.0, False),\n",
       " (738111223132613, 3): (7891112231326131913, 0.0, False),\n",
       " (7891112231326131913, 18): (78911122313261913, 0.0, False),\n",
       " (78911122313261913, 24): (78911122626131913, 0.0, False),\n",
       " (78911122626131913, 27): (78911122626132213, 0.0, False),\n",
       " (78911122626132213, 30): (781112122626132213, 0.0, False),\n",
       " (781112122626132213, 11): (7811121226261322141513, 0.0, False),\n",
       " (7811121226261322141513, 18): (78111212262622141513, 0.0, False),\n",
       " (78111212262622141513, 20): (78111212262622141713, 0.0, False),\n",
       " (78111212262622141713, 18): (781112122626221417, 1.1064562135126887, True),\n",
       " (7143265, 2): (71326527913, 0.0, False),\n",
       " (71326527913, 8): (7138269191327913, 0.0, False),\n",
       " (7138269191327913, 12): (738269191327913, 0.0, False),\n",
       " (738269191327913, 29): (7382691913271113, 0.0, False),\n",
       " (7382691913271113, 16): (738291913271113, 0.0, False),\n",
       " (738291913271113, 4): (7829191328913271113, 0.0, False),\n",
       " (7829191328913271113, 11): (78291913289141513271113, 0.0, False),\n",
       " (78291913289141513271113, 19): (78291913289141613271113, 0.0, False),\n",
       " (78291913289141613271113, 26): (78292113289141613271113, 0.0, False),\n",
       " (78292113289141613271113, 15): (7892113289141613271113, 0.0, False),\n",
       " (7892113289141613271113, 18): (78921132891416132711, 0.0, False),\n",
       " (78921132891416132711, 29): (781121132891416132711, 0.0, False),\n",
       " (781121132891416132711, 18): (7811212891416132711, 0.0, False),\n",
       " (7811212891416132711, 30): (78112128121416132711, 0.0, False),\n",
       " (78112128121416132711, 18): (781121281214162711, 1.7074992585701287, True),\n",
       " (7143265, 3): (71426591913, 0.0, False),\n",
       " (71426591913, 26): (71426592113, 0.0, False),\n",
       " (71426592113, 28): (714265102113, 0.0, False),\n",
       " (714265102113, 17): (71426102113, 0.0, False),\n",
       " (71426102113, 6): (7148291023132113, 0.0, False),\n",
       " (7148291023132113, 18): (71482910231321, 0.0, False),\n",
       " (71482910231321, 30): (714821012231321, 0.0, False),\n",
       " (714821012231321, 12): (74821012231321, 0.0, False),\n",
       " (74821012231321, 15): (7481012231321, 0.0, False),\n",
       " (7481012231321, 2): (78101223132127913, 0.0, False),\n",
       " (78101223132127913, 22): (78101224132127913, 0.0, False),\n",
       " (78101224132127913, 28): (781012241321271013, 0.0, False),\n",
       " (781012241321271013, 18): (7810122413212710, 0.0, False),\n",
       " (7810122413212710, 18): (78101224212710, 2.2587806660952436, True),\n",
       " (714382527913, 9): (71438822891327913, 0.0, False),\n",
       " (71438822891327913, 30): (714388228121327913, 0.0, False),\n",
       " (714388228121327913, 28): (7143882281213271013, 0.0, False),\n",
       " (7143882281213271013, 1): (71388292313281213271013, 0.0, False),\n",
       " (71388292313281213271013, 28): (713882102313281213271013, 0.0, False),\n",
       " (713882102313281213271013, 15): (71388102313281213271013, 0.0, False),\n",
       " (71388102313281213271013, 18): (713881023281213271013, 0.0, False),\n",
       " (713881023281213271013, 23): (713881025281213271013, 0.0, False),\n",
       " (713881025281213271013, 14): (71881025281213271013, 0.0, False),\n",
       " (71881025281213271013, 0): (7889131025281213271013, 0.0, False),\n",
       " (7889131025281213271013, 30): (78810121325281213271013, 0.0, False),\n",
       " (78810121325281213271013, 18): (788101225281213271013, 0.0, False),\n",
       " (788101225281213271013, 18): (7881012252812271013, 0.0, False),\n",
       " (7881012252812271013, 18): (78810122528122710, 7.767964678341998, True),\n",
       " (7143265, 6): (714382592313, 0.0, False),\n",
       " (714382592313, 4): (7148259231328913, 0.0, False),\n",
       " (7148259231328913, 30): (71482592313281213, 0.0, False),\n",
       " (71482592313281213, 22): (71482592413281213, 0.0, False),\n",
       " (71482592413281213, 17): (7148292413281213, 0.0, False),\n",
       " (7148292413281213, 13): (718292413281213, 0.0, False),\n",
       " (718292413281213, 15): (71892413281213, 0.0, False),\n",
       " (71892413281213, 18): (718924132812, 0.0, False),\n",
       " (718924132812, 30): (7181224132812, 0.0, False),\n",
       " (7181224132812, 18): (71812242812, 0.0, False),\n",
       " (71812242812, 0): (7891312242812, 0.0, False),\n",
       " (7891312242812, 28): (78101312242812, 0.0, False),\n",
       " (78101312242812, 18): (781012242812, 8.630588409392871, True),\n",
       " (7143265, 16): (714325, 0.0, False),\n",
       " (714325, 14): (71425, 0.0, False),\n",
       " (71425, 17): (7142, 0.0, False),\n",
       " (7142, 1): (71292313, 0.0, False),\n",
       " (71292313, 23): (71292513, 0.0, False),\n",
       " (71292513, 11): (712925141513, 0.0, False),\n",
       " (712925141513, 0): (72991325141513, 0.0, False),\n",
       " (72991325141513, 18): (729925141513, 0.0, False),\n",
       " (729925141513, 11): (7299251415141513, 0.0, False),\n",
       " (7299251415141513, 30): (72912251415141513, 0.0, False),\n",
       " (72912251415141513, 18): (729122514151415, 0.0, False),\n",
       " (729122514151415, 29): (7211122514151415, 0.0, False),\n",
       " (7211122514151415, 20): (7211122514171415, 0.0, False),\n",
       " (7211122514171415, 21): (7211122514171418, 0.0, False),\n",
       " (7211122514171418, 15): (711122514171418, 4.445747691357761, True),\n",
       " (7143265, 17): (714326, 0.0, False),\n",
       " (714326, 5): (714386913, 0.0, False),\n",
       " (714386913, 6): (71438891392313, 0.0, False),\n",
       " (71438891392313, 13): (7138891392313, 0.0, False),\n",
       " (7138891392313, 4): (71889139231328913, 0.0, False),\n",
       " (71889139231328913, 30): (718891213231328913, 0.0, False),\n",
       " (718891213231328913, 22): (718891213241328913, 0.0, False),\n",
       " (718891213241328913, 28): (7188912132413281013, 0.0, False),\n",
       " (7188912132413281013, 29): (71881112132413281013, 0.0, False),\n",
       " (71881112132413281013, 11): (718811121415132413281013, 0.0, False),\n",
       " (718811121415132413281013, 12): (78811121415132413281013, 0.0, False),\n",
       " (78811121415132413281013, 18): (788111214151324132810, 0.0, False),\n",
       " (788111214151324132810, 20): (788111214171324132810, 0.0, False),\n",
       " (788111214171324132810, 18): (7881112141713242810, 0.0, False),\n",
       " (7881112141713242810, 18): (78811121417242810, 5.903503795999246, True),\n",
       " (71326527913, 28): (713265271013, 0.0, False),\n",
       " (713265271013, 4): (7126528913271013, 0.0, False),\n",
       " (7126528913271013, 11): (71265289141513271013, 0.0, False),\n",
       " (71265289141513271013, 11): (712652891415132710141513, 0.0, False),\n",
       " (712652891415132710141513, 29): (7126528111415132710141513, 0.0, False),\n",
       " (7126528111415132710141513, 20): (7126528111417132710141513, 0.0, False),\n",
       " (7126528111417132710141513, 15): (716528111417132710141513, 0.0, False),\n",
       " (716528111417132710141513, 19): (716528111417132710141613, 0.0, False),\n",
       " (716528111417132710141613, 16): (71528111417132710141613, 0.0, False),\n",
       " (71528111417132710141613, 12): (7528111417132710141613, 0.0, False),\n",
       " (7528111417132710141613, 18): (75281114172710141613, 0.0, False),\n",
       " (75281114172710141613, 17): (7281114172710141613, 0.0, False),\n",
       " (7281114172710141613, 18): (72811141727101416, 2.987154652904854, True),\n",
       " (71326592313, 9): (7138269231328913, 0.0, False),\n",
       " (7138269231328913, 22): (7138269241328913, 0.0, False),\n",
       " (7138269241328913, 4): (71826924132891328913, 0.0, False),\n",
       " (71826924132891328913, 30): (718261224132891328913, 0.0, False),\n",
       " (718261224132891328913, 6): (71882912231324132891328913, 0.0, False),\n",
       " (71882912231324132891328913, 28): (718829122313241328913281013, 0.0, False),\n",
       " (718829122313241328913281013, 12): (78829122313241328913281013, 0.0, False),\n",
       " (78829122313241328913281013, 23): (78829122413251328913281013, 0.0, False),\n",
       " (78829122413251328913281013, 28): (788210122413251328913281013, 0.0, False),\n",
       " (788210122413251328913281013, 29): (7882101224132513281113281013, 0.0, False),\n",
       " (7882101224132513281113281013, 15): (788101224132513281113281013, 0.0, False),\n",
       " (788101224132513281113281013, 18): (7881012242513281113281013, 0.0, False),\n",
       " (7881012242513281113281013, 18): (78810122425132811132810, 0.0, False),\n",
       " (78810122425132811132810, 18): (788101224252811132810, 0.0, False),\n",
       " (788101224252811132810, 18): (7881012242528112810, 6.907327219131936, True),\n",
       " (714382527913, 11): (7143825279141513, 0.0, False),\n",
       " (7143825279141513, 20): (7143825279141713, 0.0, False),\n",
       " (7143825279141713, 1): (71382592313279141713, 0.0, False),\n",
       " (71382592313279141713, 24): (71382592613279141713, 0.0, False),\n",
       " (71382592613279141713, 4): (718259261328913279141713, 0.0, False),\n",
       " (718259261328913279141713, 28): (7182510261328913279141713, 0.0, False),\n",
       " (7182510261328913279141713, 28): (71825102613281013279141713, 0.0, False),\n",
       " (71825102613281013279141713, 29): (718251026132810132711141713, 0.0, False),\n",
       " (718251026132810132711141713, 17): (71821026132810132711141713, 0.0, False),\n",
       " (71821026132810132711141713, 12): (7821026132810132711141713, 0.0, False),\n",
       " (7821026132810132711141713, 18): (78210262810132711141713, 0.0, False),\n",
       " (78210262810132711141713, 15): (7810262810132711141713, 0.0, False),\n",
       " (7810262810132711141713, 18): (78102628102711141713, 0.0, False),\n",
       " (78102628102711141713, 18): (781026281027111417, 4.955182420069367, True),\n",
       " (714382592313, 13): (71382592313, 0.0, False),\n",
       " (71382592313, 18): (713825923, 0.0, False),\n",
       " (713825923, 3): (7182599231913, 0.0, False),\n",
       " (7182599231913, 28): (71825910231913, 0.0, False),\n",
       " (71825910231913, 25): (71825910232013, 0.0, False),\n",
       " (71825910232013, 9): (7188291023201328913, 0.0, False),\n",
       " (7188291023201328913, 5): (7188899131023201328913, 0.0, False),\n",
       " (7188899131023201328913, 30): (71888910121323201328913, 0.0, False),\n",
       " (71888910121323201328913, 12): (7888910121323201328913, 0.0, False),\n",
       " (7888910121323201328913, 28): (78881010121323201328913, 0.0, False),\n",
       " (78881010121323201328913, 24): (78881010121326201328913, 0.0, False),\n",
       " (78881010121326201328913, 28): (788810101213262013281013, 0.0, False),\n",
       " (788810101213262013281013, 18): (7888101012262013281013, 0.0, False),\n",
       " (7888101012262013281013, 18): (78881010122620281013, 0.0, False),\n",
       " (78881010122620281013, 18): (788810101226202810, 3.9542839661946516, True),\n",
       " (713692313, 4): (7169231328913, 0.0, False),\n",
       " (7169231328913, 11): (71692314151328913, 0.0, False),\n",
       " (71692314151328913, 23): (71692514151328913, 0.0, False),\n",
       " (71692514151328913, 28): (716102514151328913, 0.0, False),\n",
       " (716102514151328913, 21): (716102514181328913, 0.0, False),\n",
       " (716102514181328913, 30): (7161025141813281213, 0.0, False),\n",
       " (7161025141813281213, 16): (711025141813281213, 0.0, False),\n",
       " (711025141813281213, 11): (7110251418132812141513, 0.0, False),\n",
       " (7110251418132812141513, 12): (710251418132812141513, 0.0, False),\n",
       " (710251418132812141513, 18): (7102514182812141513, 0.0, False),\n",
       " (7102514182812141513, 20): (7102514182812141713, 0.0, False),\n",
       " (7102514182812141713, 18): (71025141828121417, 7.319536874394119, True),\n",
       " (714326, 14): (71426, 0.0, False),\n",
       " (71426, 1): (712692313, 0.0, False),\n",
       " (712692313, 28): (7126102313, 0.0, False),\n",
       " (7126102313, 23): (7126102513, 0.0, False),\n",
       " (7126102513, 12): (726102513, 0.0, False),\n",
       " (726102513, 15): (76102513, 0.0, False),\n",
       " (76102513, 18): (761025, 0.0, False),\n",
       " (761025, 16): (71025, 1.7992280890493817, True),\n",
       " (714382592313, 14): (71482592313, 0.0, False),\n",
       " (71482592313, 11): (714825923141513, 0.0, False),\n",
       " (714825923141513, 5): (714885991323141513, 0.0, False),\n",
       " (714885991323141513, 1): (7188599139231415132313, 0.0, False),\n",
       " (7188599139231415132313, 17): (718899139231415132313, 0.0, False),\n",
       " (718899139231415132313, 29): (7188991311231415132313, 0.0, False),\n",
       " (7188991311231415132313, 29): (71889111113231415132313, 0.0, False),\n",
       " (71889111113231415132313, 21): (71889111113231418132313, 0.0, False),\n",
       " (71889111113231418132313, 18): (718891111231418132313, 0.0, False),\n",
       " (718891111231418132313, 28): (7188101111231418132313, 0.0, False),\n",
       " (7188101111231418132313, 12): (788101111231418132313, 0.0, False),\n",
       " (788101111231418132313, 18): (7881011112314181323, 0.0, False),\n",
       " (7881011112314181323, 22): (7881011112314181324, 0.0, False),\n",
       " (7881011112314181324, 23): (7881011112425141813, 0.0, False),\n",
       " (7881011112425141813, 18): (78810111124251418, 1.597355288167076, True),\n",
       " (7138269231328913, 24): (7138269261328913, 0.0, False),\n",
       " (7138269261328913, 12): (738269261328913, 0.0, False),\n",
       " (738269261328913, 14): (78269261328913, 0.0, False),\n",
       " (78269261328913, 5): (78869913261328913, 0.0, False),\n",
       " (78869913261328913, 11): (788699141513261328913, 0.0, False),\n",
       " (788699141513261328913, 21): (788699141813261328913, 0.0, False),\n",
       " (788699141813261328913, 29): (7886914181311261328913, 0.0, False),\n",
       " (7886914181311261328913, 18): (78869141813112628913, 0.0, False),\n",
       " (78869141813112628913, 18): (788691418131126289, 0.0, False),\n",
       " (788691418131126289, 30): (7886111214181326289, 0.0, False),\n",
       " (7886111214181326289, 28): (78861112141813262810, 0.0, False),\n",
       " (78861112141813262810, 16): (7881112141813262810, 0.0, False),\n",
       " (7881112141813262810, 18): (78811121418262810, 2.990899542351737, True),\n",
       " (7143265, 15): (714365, 0.0, False),\n",
       " (714365, 12): (74365, 0.0, False),\n",
       " (74365, 13): (7365, 0.0, False),\n",
       " (7365, 7): (738527913, 0.0, False),\n",
       " (738527913, 28): (7385271013, 0.0, False),\n",
       " (7385271013, 4): (78528913271013, 0.0, False),\n",
       " (78528913271013, 11): (785289141513271013, 0.0, False),\n",
       " (785289141513271013, 17): (78289141513271013, 0.0, False),\n",
       " (78289141513271013, 18): (782891415132710, 0.0, False),\n",
       " (782891415132710, 18): (7828914152710, 0.0, False),\n",
       " (7828914152710, 30): (78281214152710, 0.0, False),\n",
       " (78281214152710, 19): (78281214162710, 4.981223923088313, True),\n",
       " (714365, 14): (71465, 0.0, False),\n",
       " (71465, 17): (7146, 0.0, False),\n",
       " (7146, 6): (714892313, 0.0, False),\n",
       " (714892313, 18): (7148923, 0.0, False),\n",
       " (7148923, 24): (7148926, 0.0, False),\n",
       " (7148926, 12): (748926, 0.0, False),\n",
       " (748926, 1): (7899231326, 0.0, False),\n",
       " (7899231326, 22): (7899241326, 0.0, False),\n",
       " (7899241326, 29): (78911241326, 0.0, False),\n",
       " (78911241326, 30): (781112241326, 0.0, False),\n",
       " (781112241326, 11): (7811122414151326, 0.0, False),\n",
       " (7811122414151326, 20): (7811122414171326, 0.0, False),\n",
       " (7811122414171326, 18): (78111224141726, 1.7665956273032746, True),\n",
       " (7143265, 14): (714265, 0.0, False),\n",
       " (714265, 6): (71482592313, 0.0, False),\n",
       " (714825923141513, 2): (7182592314151327913, 0.0, False),\n",
       " (7182592314151327913, 22): (7182592414151327913, 0.0, False),\n",
       " (7182592414151327913, 0): (782599132414151327913, 0.0, False),\n",
       " (782599132414151327913, 17): (78299132414151327913, 0.0, False),\n",
       " (78299132414151327913, 28): (782910132414151327913, 0.0, False),\n",
       " (782910132414151327913, 30): (7829101324141513271213, 0.0, False),\n",
       " (7829101324141513271213, 19): (7829101324141613271213, 0.0, False),\n",
       " (7829101324141613271213, 29): (78210131124141613271213, 0.0, False),\n",
       " (78210131124141613271213, 15): (7810131124141613271213, 0.0, False),\n",
       " (7810131124141613271213, 18): (78101124141613271213, 0.0, False),\n",
       " (78101124141613271213, 18): (781011241416132712, 0.0, False),\n",
       " (781011241416132712, 18): (7810112414162712, 7.443403346630374, True)}"
      ]
     },
     "execution_count": 28,
     "metadata": {},
     "output_type": "execute_result"
    }
   ],
   "source": [
    "env_new.transition_function"
   ]
  },
  {
   "cell_type": "code",
   "execution_count": 29,
   "metadata": {},
   "outputs": [
    {
     "data": {
      "text/plain": [
       "{7882812281227111417: (6.239416026035334, []),\n",
       " 788810111224222710: (4.998139950070447, []),\n",
       " 7881021141628112711: (1.9447495346385923, []),\n",
       " 788810111126202812: (0.9309458710450225, []),\n",
       " 78812281127112711: (6.510043735622797, []),\n",
       " 781112122626221417: (1.1064562135126887, []),\n",
       " 781121281214162711: (1.7074992585701287, []),\n",
       " 78101224212710: (2.2587806660952436, []),\n",
       " 78810122528122710: (7.767964678341998, []),\n",
       " 781012242812: (8.630588409392871, []),\n",
       " 711122514171418: (4.445747691357761, []),\n",
       " 78811121417242810: (5.903503795999246, []),\n",
       " 72811141727101416: (2.987154652904854, []),\n",
       " 7881012242528112810: (6.907327219131936, []),\n",
       " 781026281027111417: (4.955182420069367, []),\n",
       " 788810101226202810: (3.9542839661946516, []),\n",
       " 71025141828121417: (7.319536874394119, []),\n",
       " 71025: (1.7992280890493817, []),\n",
       " 78810111124251418: (1.597355288167076, []),\n",
       " 78811121418262810: (2.990899542351737, []),\n",
       " 78281214162710: (4.981223923088313, []),\n",
       " 78111224141726: (1.7665956273032746, []),\n",
       " 7810112414162712: (7.443403346630374, [])}"
      ]
     },
     "execution_count": 29,
     "metadata": {},
     "output_type": "execute_result"
    }
   ],
   "source": [
    "env_new.terminal_states"
   ]
  }
 ],
 "metadata": {
  "kernelspec": {
   "display_name": "rostok_and_pyg",
   "language": "python",
   "name": "python3"
  },
  "language_info": {
   "codemirror_mode": {
    "name": "ipython",
    "version": 3
   },
   "file_extension": ".py",
   "mimetype": "text/x-python",
   "name": "python",
   "nbconvert_exporter": "python",
   "pygments_lexer": "ipython3",
   "version": "3.10.8"
  },
  "orig_nbformat": 4
 },
 "nbformat": 4,
 "nbformat_minor": 2
}
