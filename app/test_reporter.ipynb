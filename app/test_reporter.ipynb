{
 "cells": [
  {
   "cell_type": "code",
   "execution_count": null,
   "metadata": {},
   "outputs": [],
   "source": [
    "from rostok.utils.result_saver import MCTSReporter, load_reporter\n",
    "\n",
    "reporter = load_reporter()\n"
   ]
  }
 ],
 "metadata": {
  "kernelspec": {
   "display_name": "rostok",
   "language": "python",
   "name": "python3"
  },
  "language_info": {
   "name": "python",
   "version": "3.9.12 (main, Apr  4 2022, 05:22:27) [MSC v.1916 64 bit (AMD64)]"
  },
  "orig_nbformat": 4,
  "vscode": {
   "interpreter": {
    "hash": "a06a80954b576bbb377c5d3793124034d619d9cd5942dac3b7e32d23ba044deb"
   }
  }
 },
 "nbformat": 4,
 "nbformat_minor": 2
}
