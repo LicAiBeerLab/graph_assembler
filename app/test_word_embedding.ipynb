{
 "cells": [
  {
   "cell_type": "code",
   "execution_count": 1,
   "metadata": {},
   "outputs": [
    {
     "name": "stderr",
     "output_type": "stream",
     "text": [
      "c:\\Programs\\mambaforge\\envs\\pytorch_pychrono\\lib\\site-packages\\tqdm\\auto.py:22: TqdmWarning: IProgress not found. Please update jupyter and ipywidgets. See https://ipywidgets.readthedocs.io/en/stable/user_install.html\n",
      "  from .autonotebook import tqdm as notebook_tqdm\n"
     ]
    }
   ],
   "source": [
    "import networkx as nx\n",
    "\n",
    "import numpy as np\n",
    "import torch\n",
    "from tqdm import tqdm\n",
    "\n",
    "from rostok.graph_grammar.node import GraphGrammar\n",
    "from rostok.graph_grammar.node_vocabulary import NodeVocabulary\n",
    "from rostok.graph_grammar.rule_vocabulary import RuleVocabulary\n",
    "import rule_without_chrono as re\n"
   ]
  },
  {
   "cell_type": "code",
   "execution_count": 36,
   "metadata": {},
   "outputs": [],
   "source": [
    "\n",
    "def get_input_layer(node, dict_id_label_nodes):\n",
    "    input = torch.zeros(len(dict_id_label_nodes)).long()\n",
    "    input[node] = 1\n",
    "    return input\n",
    "\n",
    "def vocabulary2batch_graph(rule_vocabulary: RuleVocabulary, max_rules: int):\n",
    "\n",
    "    batch_graph = GraphGrammar()\n",
    "    amount_rules = np.random.randint(1, max_rules)\n",
    "    for _ in range(amount_rules):\n",
    "        rules = rule_vocabulary.get_list_of_applicable_rules(batch_graph)\n",
    "        if len(rules) > 0:\n",
    "            rule = rule_vocabulary.get_rule(rules[np.random.choice(len(rules))])\n",
    "            batch_graph.apply_rule(rule)\n",
    "        else:\n",
    "            break\n",
    "    return batch_graph\n",
    "\n",
    "def random_batch(skip_grams):\n",
    "    random_inputs = []\n",
    "    random_labels = []\n",
    "    random_index = np.random.choice(range(len(skip_grams)), 1, replace=False)\n",
    "\n",
    "    for i in random_index:\n",
    "        random_inputs.append(skip_grams[i][0])  # target\n",
    "        random_labels.append(skip_grams[i][1])  # context word\n",
    "\n",
    "    return random_inputs, random_labels\n"
   ]
  },
  {
   "cell_type": "code",
   "execution_count": 50,
   "metadata": {},
   "outputs": [],
   "source": [
    "\n",
    "class skipgramm_model(torch.nn.Module):\n",
    "\n",
    "    def __init__(self, vocabulary_size: int, embedding_size: int):\n",
    "        super().__init__()\n",
    "\n",
    "        self.embedding = torch.nn.Embedding(vocabulary_size, embedding_size)\n",
    "        self.W = torch.nn.Linear(embedding_size, embedding_size, bias=False)\n",
    "        self.WT = torch.nn.Linear(embedding_size, vocabulary_size, bias=False)\n",
    "\n",
    "    def forward(self, x):\n",
    "        embdedings = self.embedding(x)\n",
    "        hidden_layer = torch.nn.functional.relu(self.W(embdedings))\n",
    "        output_layer = self.WT(hidden_layer)\n",
    "        out = torch.nn.functional.log_softmax(self.WT(hidden_layer))\n",
    "\n",
    "        return out\n",
    "\n",
    "    def get_node_embedding(self, node, sorted_node_labels, dict_label_id_nodes):\n",
    "        input = torch.zeros(len(sorted_node_labels)).long()\n",
    "        input[dict_label_id_nodes[node]] = 1\n",
    "        return self.embedding(input).view(1, -1)\n",
    "\n",
    "\n",
    "def skipgram(paths, dict_label_id_nodes, window_size=1):\n",
    "    idx_pairs = []\n",
    "    for path in paths:\n",
    "        indices = [dict_label_id_nodes[node_label] for node_label in path]\n",
    "        for pos_center_node, node_index in enumerate(indices):\n",
    "            for i in range(-window_size, window_size + 1):\n",
    "                pos_context_node = pos_center_node + i\n",
    "\n",
    "                if pos_context_node < 0 or pos_context_node >= len(\n",
    "                        indices) or pos_center_node == pos_context_node:\n",
    "                    continue\n",
    "                context_id_node = indices[pos_context_node]\n",
    "                idx_pairs.append((node_index, context_id_node))\n",
    "\n",
    "    return np.array(idx_pairs)\n",
    "\n",
    "def skipgram_2ver(paths, dict_label_id_nodes, window_size=1):\n",
    "    idx_pairs = []\n",
    "    nodes = []\n",
    "    for path in paths:\n",
    "        nodes += path\n",
    "    indices = [dict_label_id_nodes[node_label] for node_label in nodes]\n",
    "    for pos_center_node, node_index in enumerate(indices):\n",
    "        for i in range(-window_size, window_size + 1):\n",
    "            pos_context_node = pos_center_node + i\n",
    "\n",
    "            if pos_context_node < 0 or pos_context_node >= len(\n",
    "                    indices) or pos_center_node == pos_context_node:\n",
    "                continue\n",
    "            context_id_node = indices[pos_context_node]\n",
    "            idx_pairs.append((node_index, context_id_node))\n",
    "\n",
    "    return np.array(idx_pairs)\n",
    "\n",
    "def create_dict_node_labels(node_vocabulary: NodeVocabulary):\n",
    "\n",
    "    sorted_node_labels = sorted(node_vocabulary.node_dict.keys())\n",
    "\n",
    "    dict_id_label_nodes = dict(enumerate(sorted_node_labels))\n",
    "    dict_label_id_nodes = {w: idx for (idx, w) in enumerate(sorted_node_labels)}\n",
    "\n",
    "    return dict_id_label_nodes, dict_label_id_nodes\n"
   ]
  },
  {
   "cell_type": "code",
   "execution_count": 49,
   "metadata": {},
   "outputs": [],
   "source": [
    "rule_vocab = re.init_extension_rules()\n",
    "node_vocabulary = rule_vocab.node_vocab\n",
    "\n",
    "id2label, label2id = create_dict_node_labels(node_vocabulary)\n",
    "data = []\n",
    "for __ in range(10000):\n",
    "    graph = vocabulary2batch_graph(rule_vocab, 15)\n",
    "    pairs = skipgram_2ver(graph.get_uniq_representation(),label2id)\n",
    "    for pair in pairs:\n",
    "        data.append(pair)\n",
    "data = np.array(data)"
   ]
  },
  {
   "cell_type": "code",
   "execution_count": null,
   "metadata": {},
   "outputs": [],
   "source": [
    "node_vocabulary.node_dict"
   ]
  },
  {
   "cell_type": "code",
   "execution_count": 51,
   "metadata": {},
   "outputs": [],
   "source": [
    "list_losses = []"
   ]
  },
  {
   "cell_type": "code",
   "execution_count": 52,
   "metadata": {},
   "outputs": [
    {
     "name": "stderr",
     "output_type": "stream",
     "text": [
      "  0%|          | 0/5000 [00:00<?, ?it/s]C:\\Users\\krake\\AppData\\Local\\Temp\\ipykernel_16524\\3441750880.py:14: UserWarning: Implicit dimension choice for log_softmax has been deprecated. Change the call to include dim=X as an argument.\n",
      "  out = torch.nn.functional.log_softmax(self.WT(hidden_layer))\n",
      "100%|██████████| 5000/5000 [02:28<00:00, 33.76it/s]\n"
     ]
    }
   ],
   "source": [
    "model = skipgramm_model(len(id2label), 2)\n",
    "\n",
    "criterion = torch.nn.CrossEntropyLoss()\n",
    "optimizer = torch.optim.Adam(model.parameters(), lr=0.01)\n",
    "model.train()\n",
    "for epoch in tqdm(range(5000)):\n",
    "    input_batch, target_batch = random_batch(data)\n",
    "    input_batch = get_input_layer(input_batch, id2label)\n",
    "    target_batch = get_input_layer(target_batch, id2label)\n",
    "\n",
    "    optimizer.zero_grad()\n",
    "    output = model(input_batch)\n",
    "\n",
    "    # output : [batch_size, voc_size], target_batch : [batch_size] (LongTensor, not one-hot)\n",
    "    loss = criterion(output, target_batch)\n",
    "    list_losses.append(loss)\n",
    "    if (epoch + 1) % 10000 == 0:\n",
    "        print('Epoch:', '%04d' % (epoch + 1), ' cost =', '{:.6f}'.format(loss))\n",
    "\n",
    "    loss.backward(retain_graph=True)\n",
    "    optimizer.step()"
   ]
  },
  {
   "cell_type": "code",
   "execution_count": 53,
   "metadata": {},
   "outputs": [
    {
     "data": {
      "image/png": "[encoded data removed]",
      "text/plain": [
       "<Figure size 1500x1000 with 1 Axes>"
      ]
     },
     "metadata": {},
     "output_type": "display_data"
    }
   ],
   "source": [
    "import matplotlib.pyplot as plt\n",
    "list_losses = list(map(lambda x: x.detach().numpy(), list_losses))\n",
    "plt.figure(figsize=(15,10))\n",
    "plt.plot(range(len(list_losses)),list_losses)\n",
    "plt.show()"
   ]
  },
  {
   "cell_type": "code",
   "execution_count": 54,
   "metadata": {},
   "outputs": [],
   "source": [
    "def Skipgram_test(test_data, model):\n",
    "    correct_ct = 0\n",
    "\n",
    "    for i in range(len(test_data)):\n",
    "        input_batch, target_batch = random_batch(test_data)\n",
    "        input_batch = get_input_layer(input_batch, id2label)\n",
    "        target_batch = get_input_layer(target_batch, id2label)\n",
    "\n",
    "        model.zero_grad()\n",
    "        _, predicted = torch.max(model(input_batch), 1)\n",
    "\n",
    "        if predicted == target_batch:\n",
    "                correct_ct += 1\n",
    "\n",
    "    print('Accuracy: {:.1f}% ({:d}/{:d})'.format(correct_ct/len(test_data)*100, correct_ct, len(test_data)))"
   ]
  },
  {
   "cell_type": "code",
   "execution_count": 55,
   "metadata": {},
   "outputs": [
    {
     "name": "stderr",
     "output_type": "stream",
     "text": [
      "C:\\Users\\krake\\AppData\\Local\\Temp\\ipykernel_16524\\3441750880.py:14: UserWarning: Implicit dimension choice for log_softmax has been deprecated. Change the call to include dim=X as an argument.\n",
      "  out = torch.nn.functional.log_softmax(self.WT(hidden_layer))\n"
     ]
    },
    {
     "ename": "RuntimeError",
     "evalue": "Boolean value of Tensor with more than one value is ambiguous",
     "output_type": "error",
     "traceback": [
      "\u001b[1;31m---------------------------------------------------------------------------\u001b[0m",
      "\u001b[1;31mRuntimeError\u001b[0m                              Traceback (most recent call last)",
      "Cell \u001b[1;32mIn[55], line 1\u001b[0m\n\u001b[1;32m----> 1\u001b[0m Skipgram_test(skipgram(graph\u001b[39m.\u001b[39;49mget_uniq_representation(), label2id), model)\n",
      "Cell \u001b[1;32mIn[54], line 12\u001b[0m, in \u001b[0;36mSkipgram_test\u001b[1;34m(test_data, model)\u001b[0m\n\u001b[0;32m      9\u001b[0m     model\u001b[39m.\u001b[39mzero_grad()\n\u001b[0;32m     10\u001b[0m     _, predicted \u001b[39m=\u001b[39m torch\u001b[39m.\u001b[39mmax(model(input_batch), \u001b[39m1\u001b[39m)\n\u001b[1;32m---> 12\u001b[0m     \u001b[39mif\u001b[39;00m predicted \u001b[39m==\u001b[39;49m target_batch:\n\u001b[0;32m     13\u001b[0m             correct_ct \u001b[39m+\u001b[39m\u001b[39m=\u001b[39m \u001b[39m1\u001b[39m\n\u001b[0;32m     15\u001b[0m \u001b[39mprint\u001b[39m(\u001b[39m'\u001b[39m\u001b[39mAccuracy: \u001b[39m\u001b[39m{:.1f}\u001b[39;00m\u001b[39m%\u001b[39m\u001b[39m (\u001b[39m\u001b[39m{:d}\u001b[39;00m\u001b[39m/\u001b[39m\u001b[39m{:d}\u001b[39;00m\u001b[39m)\u001b[39m\u001b[39m'\u001b[39m\u001b[39m.\u001b[39mformat(correct_ct\u001b[39m/\u001b[39m\u001b[39mlen\u001b[39m(test_data)\u001b[39m*\u001b[39m\u001b[39m100\u001b[39m, correct_ct, \u001b[39mlen\u001b[39m(test_data)))\n",
      "\u001b[1;31mRuntimeError\u001b[0m: Boolean value of Tensor with more than one value is ambiguous"
     ]
    }
   ],
   "source": [
    "Skipgram_test(skipgram(graph.get_uniq_representation(), label2id), model)"
   ]
  },
  {
   "cell_type": "code",
   "execution_count": 56,
   "metadata": {},
   "outputs": [
    {
     "name": "stdout",
     "output_type": "stream",
     "text": [
      "-0.25469777 0.9867691\n",
      "-0.049641125 1.890662\n",
      "-0.049641125 1.890662\n",
      "-0.049641125 1.890662\n",
      "-0.049641125 1.890662\n",
      "-0.049641125 1.890662\n",
      "-0.049641125 1.890662\n",
      "-0.049641125 1.890662\n",
      "-0.049641125 1.890662\n",
      "-0.049641125 1.890662\n",
      "-0.049641125 1.890662\n",
      "-0.049641125 1.890662\n",
      "-0.049641125 1.890662\n",
      "-0.049641125 1.890662\n",
      "-0.049641125 1.890662\n",
      "-0.049641125 1.890662\n",
      "-0.049641125 1.890662\n",
      "-0.049641125 1.890662\n",
      "-0.049641125 1.890662\n",
      "-0.049641125 1.890662\n",
      "-0.049641125 1.890662\n",
      "-0.049641125 1.890662\n",
      "-0.049641125 1.890662\n",
      "-0.049641125 1.890662\n",
      "-0.049641125 1.890662\n",
      "-0.049641125 1.890662\n",
      "-0.049641125 1.890662\n",
      "-0.049641125 1.890662\n",
      "-0.049641125 1.890662\n",
      "-0.049641125 1.890662\n",
      "-0.049641125 1.890662\n",
      "-0.049641125 1.890662\n",
      "-0.049641125 1.890662\n",
      "-0.049641125 1.890662\n",
      "-0.049641125 1.890662\n",
      "-0.049641125 1.890662\n",
      "-0.049641125 1.890662\n",
      "-0.049641125 1.890662\n",
      "-0.049641125 1.890662\n",
      "-0.049641125 1.890662\n",
      "-0.049641125 1.890662\n",
      "-0.049641125 1.890662\n",
      "-0.049641125 1.890662\n",
      "-0.049641125 1.890662\n",
      "-0.049641125 1.890662\n",
      "-0.049641125 1.890662\n",
      "-0.049641125 1.890662\n",
      "-0.049641125 1.890662\n",
      "-0.049641125 1.890662\n",
      "-0.049641125 1.890662\n",
      "-0.049641125 1.890662\n",
      "-0.049641125 1.890662\n",
      "-0.049641125 1.890662\n",
      "-0.049641125 1.890662\n",
      "-0.049641125 1.890662\n"
     ]
    },
    {
     "data": {
      "image/png": "[encoded data removed]",
      "text/plain": [
       "<Figure size 1500x1000 with 1 Axes>"
      ]
     },
     "metadata": {},
     "output_type": "display_data"
    }
   ],
   "source": [
    "import matplotlib.pyplot as plt\n",
    "plt.figure(figsize=(15,10))\n",
    "for w in label2id.keys():\n",
    "    x = model.get_node_embedding(w, label2id.keys(), label2id).detach().data.numpy()[0][0]\n",
    "    y = model.get_node_embedding(w, label2id.keys(), label2id).detach().data.numpy()[0][1]\n",
    "    plt.scatter(x, y)\n",
    "    print(x,y)\n",
    "    plt.annotate(w, xy=(x, y), xytext=(5, 2), textcoords='offset points', ha='right', va='bottom')\n",
    "plt.show()"
   ]
  },
  {
   "cell_type": "code",
   "execution_count": null,
   "metadata": {},
   "outputs": [],
   "source": [
    "print(pairs, label2id)"
   ]
  },
  {
   "cell_type": "code",
   "execution_count": null,
   "metadata": {},
   "outputs": [],
   "source": [
    "graph.get_uniq_representation()"
   ]
  }
 ],
 "metadata": {
  "kernelspec": {
   "display_name": "Python 3",
   "language": "python",
   "name": "python3"
  },
  "language_info": {
   "codemirror_mode": {
    "name": "ipython",
    "version": 3
   },
   "file_extension": ".py",
   "mimetype": "text/x-python",
   "name": "python",
   "nbconvert_exporter": "python",
   "pygments_lexer": "ipython3",
   "version": "3.9.16"
  },
  "orig_nbformat": 4,
  "vscode": {
   "interpreter": {
    "hash": "3e1c1602f636809294f56a10e0b92e22e4f105590db87c500fc35b705a23c9c8"
   }
  }
 },
 "nbformat": 4,
 "nbformat_minor": 2
}
