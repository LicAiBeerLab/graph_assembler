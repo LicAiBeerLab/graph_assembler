{
 "cells": [
  {
   "cell_type": "code",
   "execution_count": 11,
   "metadata": {},
   "outputs": [],
   "source": [
    "import networkx as nx\n",
    "\n",
    "import numpy as np\n",
    "import torch\n",
    "from tqdm import tqdm\n",
    "\n",
    "from rostok.graph_grammar.node import GraphGrammar\n",
    "from rostok.graph_grammar.node_vocabulary import NodeVocabulary\n",
    "from rostok.graph_grammar.rule_vocabulary import RuleVocabulary\n",
    "import rule_without_chrono as re\n"
   ]
  },
  {
   "cell_type": "code",
   "execution_count": 12,
   "metadata": {},
   "outputs": [],
   "source": [
    "\n",
    "def get_input_layer(node, dict_id_label_nodes):\n",
    "    input = torch.zeros(len(dict_id_label_nodes)).long()\n",
    "    input[node] = 1\n",
    "    return input\n",
    "\n",
    "def vocabulary2batch_graph(rule_vocabulary: RuleVocabulary, max_rules: int):\n",
    "\n",
    "    batch_graph = GraphGrammar()\n",
    "    amount_rules = np.random.randint(1, max_rules)\n",
    "    for _ in range(amount_rules):\n",
    "        rules = rule_vocabulary.get_list_of_applicable_rules(batch_graph)\n",
    "        if len(rules) > 0:\n",
    "            rule = rule_vocabulary.get_rule(rules[np.random.choice(len(rules))])\n",
    "            batch_graph.apply_rule(rule)\n",
    "        else:\n",
    "            break\n",
    "    return batch_graph\n",
    "\n",
    "def random_batch(skip_grams):\n",
    "    random_inputs = []\n",
    "    random_labels = []\n",
    "    random_index = np.random.choice(range(len(skip_grams)), 2, replace=False)\n",
    "\n",
    "    for i in random_index:\n",
    "        random_inputs.append(skip_grams[i][0])  # target\n",
    "        random_labels.append(skip_grams[i][1])  # context word\n",
    "\n",
    "    return random_inputs, random_labels\n"
   ]
  },
  {
   "cell_type": "code",
   "execution_count": 13,
   "metadata": {},
   "outputs": [],
   "source": [
    "\n",
    "class skipgramm_model(torch.nn.Module):\n",
    "\n",
    "    def __init__(self, vocabulary_size: int, embedding_size: int):\n",
    "        super().__init__()\n",
    "\n",
    "        self.embedding = torch.nn.Embedding(vocabulary_size, embedding_size)\n",
    "        self.W = torch.nn.Linear(embedding_size, embedding_size, bias=False)\n",
    "        self.WT = torch.nn.Linear(embedding_size, vocabulary_size, bias=False)\n",
    "\n",
    "    def forward(self, x):\n",
    "        embdedings = self.embedding(x)\n",
    "        hidden_layer = torch.nn.functional.relu(self.W(embdedings))\n",
    "        output_layer = self.WT(hidden_layer)\n",
    "\n",
    "        return output_layer\n",
    "\n",
    "    def get_node_embedding(self, node, sorted_node_labels, dict_label_id_nodes):\n",
    "        input = torch.zeros(len(sorted_node_labels)).float()\n",
    "        input[dict_label_id_nodes[node]] = 1\n",
    "        return self.embedding(input).view(1, -1)\n",
    "\n",
    "\n",
    "def skipgram(paths, dict_label_id_nodes, window_size=1):\n",
    "    idx_pairs = []\n",
    "    for path in paths:\n",
    "        indices = [dict_label_id_nodes[node_label] for node_label in path]\n",
    "        for pos_center_node, node_index in enumerate(indices):\n",
    "            for i in range(-window_size, window_size + 1):\n",
    "                pos_context_node = pos_center_node + i\n",
    "\n",
    "                if pos_context_node < 0 or pos_context_node >= len(\n",
    "                        indices) or pos_center_node == pos_context_node:\n",
    "                    continue\n",
    "                context_id_node = indices[pos_context_node]\n",
    "                idx_pairs.append((node_index, context_id_node))\n",
    "\n",
    "    return np.array(idx_pairs)\n",
    "\n",
    "\n",
    "def create_dict_node_labels(node_vocabulary: NodeVocabulary):\n",
    "\n",
    "    sorted_node_labels = sorted(node_vocabulary.node_dict.keys())\n",
    "\n",
    "    dict_id_label_nodes = dict(enumerate(sorted_node_labels))\n",
    "    dict_label_id_nodes = {w: idx for (idx, w) in enumerate(sorted_node_labels)}\n",
    "\n",
    "    return dict_id_label_nodes, dict_label_id_nodes\n"
   ]
  },
  {
   "cell_type": "code",
   "execution_count": 14,
   "metadata": {},
   "outputs": [
    {
     "name": "stderr",
     "output_type": "stream",
     "text": [
      "  7%|▋         | 10010/150000 [02:06<25:55, 89.99it/s]"
     ]
    },
    {
     "name": "stdout",
     "output_type": "stream",
     "text": [
      "Epoch: 10000  cost = 4.025352\n"
     ]
    },
    {
     "name": "stderr",
     "output_type": "stream",
     "text": [
      " 13%|█▎        | 20014/150000 [04:06<27:03, 80.06it/s] "
     ]
    },
    {
     "name": "stdout",
     "output_type": "stream",
     "text": [
      "Epoch: 20000  cost = 4.025352\n"
     ]
    },
    {
     "name": "stderr",
     "output_type": "stream",
     "text": [
      " 20%|██        | 30010/150000 [06:12<26:46, 74.71it/s] "
     ]
    },
    {
     "name": "stdout",
     "output_type": "stream",
     "text": [
      "Epoch: 30000  cost = 4.025352\n"
     ]
    },
    {
     "name": "stderr",
     "output_type": "stream",
     "text": [
      " 27%|██▋       | 40011/150000 [09:27<19:25, 94.39it/s]  "
     ]
    },
    {
     "name": "stdout",
     "output_type": "stream",
     "text": [
      "Epoch: 40000  cost = 4.025352\n"
     ]
    },
    {
     "name": "stderr",
     "output_type": "stream",
     "text": [
      " 33%|███▎      | 50011/150000 [11:52<25:07, 66.32it/s]"
     ]
    },
    {
     "name": "stdout",
     "output_type": "stream",
     "text": [
      "Epoch: 50000  cost = 4.025352\n"
     ]
    },
    {
     "name": "stderr",
     "output_type": "stream",
     "text": [
      " 40%|████      | 60012/150000 [14:17<24:20, 61.63it/s]"
     ]
    },
    {
     "name": "stdout",
     "output_type": "stream",
     "text": [
      "Epoch: 60000  cost = 4.025352\n"
     ]
    },
    {
     "name": "stderr",
     "output_type": "stream",
     "text": [
      " 47%|████▋     | 70008/150000 [16:41<18:35, 71.70it/s]"
     ]
    },
    {
     "name": "stdout",
     "output_type": "stream",
     "text": [
      "Epoch: 70000  cost = 4.025352\n"
     ]
    },
    {
     "name": "stderr",
     "output_type": "stream",
     "text": [
      " 53%|█████▎    | 80017/150000 [19:08<13:59, 83.34it/s]"
     ]
    },
    {
     "name": "stdout",
     "output_type": "stream",
     "text": [
      "Epoch: 80000  cost = 4.025352\n"
     ]
    },
    {
     "name": "stderr",
     "output_type": "stream",
     "text": [
      " 60%|██████    | 90014/150000 [21:29<12:33, 79.63it/s] "
     ]
    },
    {
     "name": "stdout",
     "output_type": "stream",
     "text": [
      "Epoch: 90000  cost = 4.025352\n"
     ]
    },
    {
     "name": "stderr",
     "output_type": "stream",
     "text": [
      " 67%|██████▋   | 100013/150000 [23:33<09:38, 86.48it/s]"
     ]
    },
    {
     "name": "stdout",
     "output_type": "stream",
     "text": [
      "Epoch: 100000  cost = 4.025352\n"
     ]
    },
    {
     "name": "stderr",
     "output_type": "stream",
     "text": [
      " 73%|███████▎  | 110012/150000 [25:42<09:33, 69.75it/s] "
     ]
    },
    {
     "name": "stdout",
     "output_type": "stream",
     "text": [
      "Epoch: 110000  cost = 4.025352\n"
     ]
    },
    {
     "name": "stderr",
     "output_type": "stream",
     "text": [
      " 80%|████████  | 120019/150000 [28:07<05:02, 99.08it/s] "
     ]
    },
    {
     "name": "stdout",
     "output_type": "stream",
     "text": [
      "Epoch: 120000  cost = 4.025352\n"
     ]
    },
    {
     "name": "stderr",
     "output_type": "stream",
     "text": [
      " 87%|████████▋ | 130010/150000 [30:13<04:36, 72.26it/s] "
     ]
    },
    {
     "name": "stdout",
     "output_type": "stream",
     "text": [
      "Epoch: 130000  cost = 4.025352\n"
     ]
    },
    {
     "name": "stderr",
     "output_type": "stream",
     "text": [
      " 93%|█████████▎| 140008/150000 [32:23<01:55, 86.14it/s] "
     ]
    },
    {
     "name": "stdout",
     "output_type": "stream",
     "text": [
      "Epoch: 140000  cost = 4.025352\n"
     ]
    },
    {
     "name": "stderr",
     "output_type": "stream",
     "text": [
      "100%|██████████| 150000/150000 [34:22<00:00, 72.72it/s] "
     ]
    },
    {
     "name": "stdout",
     "output_type": "stream",
     "text": [
      "Epoch: 150000  cost = 4.025352\n"
     ]
    },
    {
     "name": "stderr",
     "output_type": "stream",
     "text": [
      "\n"
     ]
    }
   ],
   "source": [
    "rule_vocab = re.init_extension_rules()\n",
    "node_vocabulary = rule_vocab.node_vocab\n",
    "\n",
    "id2label, label2id = create_dict_node_labels(node_vocabulary)\n",
    "\n",
    "model = skipgramm_model(len(id2label), 2)\n",
    "\n",
    "criterion = torch.nn.CrossEntropyLoss()\n",
    "optimizer = torch.optim.Adam(model.parameters(), lr=0.01)\n",
    "\n",
    "for epoch in tqdm(range(150000)):\n",
    "    graph = vocabulary2batch_graph(rule_vocab, 15)\n",
    "    pairs = skipgram(graph.get_uniq_representation(),label2id)\n",
    "    input_batch, target_batch = random_batch(pairs)\n",
    "    input_batch = get_input_layer(input_batch, id2label)\n",
    "    target_batch = get_input_layer(target_batch, id2label)\n",
    "\n",
    "    optimizer.zero_grad()\n",
    "    output = model(input_batch)\n",
    "\n",
    "    # output : [batch_size, voc_size], target_batch : [batch_size] (LongTensor, not one-hot)\n",
    "    loss = criterion(output, target_batch)\n",
    "    if (epoch + 1) % 10000 == 0:\n",
    "        print('Epoch:', '%04d' % (epoch + 1), ' cost =', '{:.6f}'.format(loss))\n",
    "\n",
    "    loss.backward(retain_graph=True)\n",
    "    optimizer.step()"
   ]
  },
  {
   "cell_type": "code",
   "execution_count": 17,
   "metadata": {},
   "outputs": [],
   "source": [
    "def Skipgram_test(test_data, model):\n",
    "    correct_ct = 0\n",
    "\n",
    "    for i in range(len(test_data)):\n",
    "        input_batch, target_batch = random_batch(test_data)\n",
    "        input_batch = torch.LongTensor(input_batch)\n",
    "        target_batch = torch.LongTensor(target_batch)\n",
    "\n",
    "        model.zero_grad()\n",
    "        _, predicted = torch.max(model(input_batch), 1)\n",
    "\n",
    "\n",
    "\n",
    "\n",
    "        if predicted[0] == target_batch[0]:\n",
    "                correct_ct += 1\n",
    "\n",
    "    print('Accuracy: {:.1f}% ({:d}/{:d})'.format(correct_ct/len(test_data)*100, correct_ct, len(test_data)))"
   ]
  },
  {
   "cell_type": "code",
   "execution_count": 19,
   "metadata": {},
   "outputs": [
    {
     "name": "stdout",
     "output_type": "stream",
     "text": [
      "Accuracy: 0.0% (0/16)\n"
     ]
    }
   ],
   "source": [
    "Skipgram_test(skipgram(graph.get_uniq_representation(), label2id), model)"
   ]
  }
 ],
 "metadata": {
  "language_info": {
   "codemirror_mode": {
    "name": "ipython",
    "version": 3
   },
   "file_extension": ".py",
   "mimetype": "text/x-python",
   "name": "python",
   "nbconvert_exporter": "python",
   "pygments_lexer": "ipython3",
   "version": 3
  },
  "orig_nbformat": 4
 },
 "nbformat": 4,
 "nbformat_minor": 2
}
