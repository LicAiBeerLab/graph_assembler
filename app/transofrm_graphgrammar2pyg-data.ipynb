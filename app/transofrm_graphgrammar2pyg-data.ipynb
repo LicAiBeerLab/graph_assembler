{
 "cells": [
  {
   "cell_type": "code",
   "execution_count": null,
   "metadata": {},
   "outputs": [],
   "source": [
    "import networkx as nx\n",
    "import numpy as np\n",
    "\n",
    "import torch\n",
    "from torch_geometric.data import Data\n",
    "\n",
    "from rostok.graph_grammar.node_vocabulary import NodeVocabulary\n",
    "from rostok.graph_grammar.node import GraphGrammar"
   ]
  },
  {
   "cell_type": "code",
   "execution_count": null,
   "metadata": {},
   "outputs": [],
   "source": [
    "class OneHotEncodding:\n",
    "    def __init__(self, node_vocalubary: NodeVocabulary):\n",
    "        \n",
    "        self.label2node = node_vocalubary.node_dict\n",
    "        self.id2label, self.label2id = self._create_dict_node_labels(node_vocalubary)\n",
    "        \n",
    "    def _create_dict_node_labels(self, node_vocabulary: NodeVocabulary) -> tuple[dict[int, str], dict[str, int]]:\n",
    "        \n",
    "        sorted_node_labels = sorted(node_vocabulary.node_dict.keys())\n",
    "\n",
    "        dict_id_label_nodes = dict(enumerate(sorted_node_labels))\n",
    "        dict_label_id_nodes = {label: idx for (idx, label) in enumerate(sorted_node_labels)}\n",
    "\n",
    "        return dict_id_label_nodes, dict_label_id_nodes\n",
    "    \n",
    "    def _flatting_sorted_graph(self, graph: nx.DiGraph) -> tuple[list[int], list[list[int]]]:\n",
    "    \n",
    "        sorted_id_nodes = nx.lexicographical_topological_sort(\n",
    "        graph, key=lambda x: graph.get_node_by_id(x).label)\n",
    "        sorted_name_nodes = list(map(lambda x: graph.get_node_by_id(x).label, sorted_id_nodes))\n",
    "\n",
    "        id_node2list = {(id[1], id[0]) for id in enumerate(sorted_id_nodes)}\n",
    "\n",
    "        list_edges_on_id = list(graph.edges)\n",
    "        list_id_edge_links = list(map(lambda x: [id_node2list[n] for n in x], list_edges_on_id))\n",
    "        \n",
    "        \n",
    "        return sorted_name_nodes, list_id_edge_links\n",
    "    \n",
    "    def one_hot_encodding(self, label_node: str) -> list[int]:\n",
    "        \n",
    "        one_hot = np.zeros(len(self.label2id), dtype=int)\n",
    "        one_hot[self.label2id[label_node]] = 1\n",
    "        return one_hot.tolist()\n",
    "    \n",
    "    def transform_digraph(self, graph: nx.DiGraph):\n",
    "        \n",
    "        node_label_list, edge_id_list = self._flatting_sorted_graph(graph)\n",
    "        \n",
    "        one_hot_list = list(map(self.one_hot_encodding, node_label_list))\n",
    "        \n",
    "        edge_index = torch.tensor(edge_id_list, dtype=torch.long)\n",
    "        x = torch.tensor(one_hot_list, dtype=torch.long)\n",
    "        \n",
    "        data = Data(x=x, edge_index=edge_index)\n",
    "        \n",
    "        return edge_index"
   ]
  },
  {
   "cell_type": "code",
   "execution_count": null,
   "metadata": {},
   "outputs": [],
   "source": [
    "\n",
    "\n",
    "def get_input_layer(node, dict_id_label_nodes):\n",
    "\n",
    "    input = torch.zeros(len(dict_id_label_nodes)).long()\n",
    "    input[node] = 1\n",
    "    return input"
   ]
  },
  {
   "cell_type": "code",
   "execution_count": null,
   "metadata": {},
   "outputs": [],
   "source": [
    "graph = GraphGrammar()"
   ]
  }
 ],
 "metadata": {
  "kernelspec": {
   "display_name": "Python 3",
   "language": "python",
   "name": "python3"
  },
  "language_info": {
   "name": "python",
   "version": "3.9.16"
  },
  "orig_nbformat": 4,
  "vscode": {
   "interpreter": {
    "hash": "3e1c1602f636809294f56a10e0b92e22e4f105590db87c500fc35b705a23c9c8"
   }
  }
 },
 "nbformat": 4,
 "nbformat_minor": 2
}
