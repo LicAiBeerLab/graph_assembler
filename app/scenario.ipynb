{
 "cells": [
  {
   "cell_type": "code",
   "execution_count": 1,
   "metadata": {},
   "outputs": [],
   "source": [
    "import rule_extention\n",
    "import pychrono as chrono\n",
    "\n",
    "from control_optimisation import (create_grab_criterion_fun, create_traj_fun,\n",
    "                                  get_object_to_grasp)\n",
    "from rostok.criterion.flags_simualtions import (FlagMaxTime, FlagNotContact,\n",
    "                                                FlagSlipout)\n",
    "from rostok.trajectory_optimizer.control_optimizer import (\n",
    "    ConfigRewardFunction, ControlOptimizer)\n",
    "from rostok.utils.search_manager import SearchManager\n",
    "\n",
    "manager = SearchManager.get_instance()\n",
    "rule_vocabulary, node_features = rule_extention.init_extension_rules()\n",
    "manager.rule_vocabulary = rule_vocabulary\n",
    "\n",
    "\n",
    "GAIT = 2.5\n",
    "WEIGHT = [3, 1, 1, 2]\n",
    "\n",
    "cfg = ConfigRewardFunction()\n",
    "cfg.bound = (2, 10)\n",
    "cfg.iters = 5\n",
    "cfg.sim_config = {\"Set_G_acc\": chrono.ChVectorD(0, 0, 0)}\n",
    "cfg.time_step = 0.005\n",
    "cfg.time_sim = 2\n",
    "cfg.flags = [FlagMaxTime(2), FlagNotContact(1), FlagSlipout(0.5, 0.5)]\n",
    "\"\"\"Wraps function call\"\"\"\n",
    "\n",
    "criterion_callback = create_grab_criterion_fun(node_features, GAIT, WEIGHT)\n",
    "traj_generator_fun = create_traj_fun(cfg.time_sim, cfg.time_step)\n",
    "\n",
    "cfg.criterion_callback = criterion_callback\n",
    "cfg.get_rgab_object_callback = get_object_to_grasp\n",
    "cfg.params_to_timesiries_callback = traj_generator_fun\n",
    "\n",
    "manager.optimizer_config = cfg\n",
    "manager.create_optimizer()"
   ]
  },
  {
   "cell_type": "code",
   "execution_count": null,
   "metadata": {},
   "outputs": [
    {
     "ename": "",
     "evalue": "",
     "output_type": "error",
     "traceback": [
      "\u001b[1;31mCanceled future for execute_request message before replies were done"
     ]
    },
    {
     "ename": "",
     "evalue": "",
     "output_type": "error",
     "traceback": [
      "\u001b[1;31mThe Kernel crashed while executing code in the the current cell or a previous cell. Please review the code in the cell(s) to identify a possible cause of the failure. Click <a href='https://aka.ms/vscodeJupyterKernelCrash'>here</a> for more info. View Jupyter <a href='command:jupyter.viewOutput'>log</a> for further details."
     ]
    }
   ],
   "source": [
    "\n"
   ]
  }
 ],
 "metadata": {
  "kernelspec": {
   "display_name": "rostok",
   "language": "python",
   "name": "python3"
  },
  "language_info": {
   "codemirror_mode": {
    "name": "ipython",
    "version": 3
   },
   "file_extension": ".py",
   "mimetype": "text/x-python",
   "name": "python",
   "nbconvert_exporter": "python",
   "pygments_lexer": "ipython3",
   "version": "3.9.12"
  },
  "orig_nbformat": 4,
  "vscode": {
   "interpreter": {
    "hash": "a06a80954b576bbb377c5d3793124034d619d9cd5942dac3b7e32d23ba044deb"
   }
  }
 },
 "nbformat": 4,
 "nbformat_minor": 2
}
