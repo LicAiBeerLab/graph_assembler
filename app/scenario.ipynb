{
 "cells": [
  {
   "cell_type": "code",
   "execution_count": 1,
   "metadata": {},
   "outputs": [],
   "source": [
    "import rule_extention\n",
    "import pychrono as chrono\n",
    "\n",
    "\n",
    "from control_optimisation import (create_grab_criterion_fun, create_traj_fun,\n",
    "                                  get_object_to_grasp)\n",
    "from rostok.criterion.flags_simualtions import (FlagMaxTime, FlagNotContact,\n",
    "                                                FlagSlipout)\n",
    "from rostok.trajectory_optimizer.control_optimizer import (\n",
    "    ConfigRewardFunction, ControlOptimizer)\n",
    "from rostok.utils.search_manager import SearchManager\n",
    "\n",
    "manager = SearchManager.get_instance()\n",
    "rule_vocabulary, node_features = rule_extention.init_extension_rules()\n",
    "manager.rule_vocabulary = rule_vocabulary\n",
    "\n",
    "\n",
    "GAIT = 2.5\n",
    "WEIGHT = [3, 1, 1, 2]\n",
    "\n",
    "cfg = ConfigRewardFunction()\n",
    "cfg.bound = (2, 10)\n",
    "cfg.iters = 5\n",
    "cfg.sim_config = {\"Set_G_acc\": chrono.ChVectorD(0, 0, 0)}\n",
    "cfg.time_step = 0.005\n",
    "cfg.time_sim = 2\n",
    "cfg.flags = [FlagMaxTime(2), FlagNotContact(1), FlagSlipout(0.5, 0.5)]\n",
    "\"\"\"Wraps function call\"\"\"\n",
    "\n",
    "criterion_callback = create_grab_criterion_fun(node_features, GAIT, WEIGHT)\n",
    "traj_generator_fun = create_traj_fun(cfg.time_sim, cfg.time_step)\n",
    "\n",
    "cfg.criterion_callback = criterion_callback\n",
    "cfg.get_rgab_object_callback = get_object_to_grasp\n",
    "cfg.params_to_timesiries_callback = traj_generator_fun\n",
    "\n",
    "manager.optimizer_config = cfg\n",
    "manager.create_optimizer()"
   ]
  },
  {
   "cell_type": "code",
   "execution_count": 1,
   "metadata": {},
   "outputs": [
    {
     "data": {
      "text/plain": [
       "[5.4]"
      ]
     },
     "execution_count": 1,
     "metadata": {},
     "output_type": "execute_result"
    }
   ],
   "source": [
    "list([5.4])"
   ]
  },
  {
   "cell_type": "code",
   "execution_count": null,
   "metadata": {},
   "outputs": [
    {
     "ename": "",
     "evalue": "",
     "output_type": "error",
     "traceback": [
      "\u001b[1;31mCanceled future for execute_request message before replies were done"
     ]
    },
    {
     "ename": "",
     "evalue": "",
     "output_type": "error",
     "traceback": [
      "\u001b[1;31mThe Kernel crashed while executing code in the the current cell or a previous cell. Please review the code in the cell(s) to identify a possible cause of the failure. Click <a href='https://aka.ms/vscodeJupyterKernelCrash'>here</a> for more info. View Jupyter <a href='command:jupyter.viewOutput'>log</a> for further details."
     ]
    }
   ],
   "source": [
    "\n"
   ]
  },
  {
   "cell_type": "code",
   "execution_count": 2,
   "metadata": {},
   "outputs": [
    {
     "name": "stdout",
     "output_type": "stream",
     "text": [
      "0\n",
      "0\n"
     ]
    },
    {
     "name": "stderr",
     "output_type": "stream",
     "text": [
      "c:\\Users\\alice\\anaconda3\\envs\\rostok_cad\\lib\\site-packages\\numpy\\core\\fromnumeric.py:3202: VisibleDeprecationWarning: Creating an ndarray from ragged nested sequences (which is a list-or-tuple of lists-or-tuples-or ndarrays with different lengths or shapes) is deprecated. If you meant to do this, you must specify 'dtype=object' when creating the ndarray.\n",
      "  return asarray(a).size\n"
     ]
    },
    {
     "name": "stdout",
     "output_type": "stream",
     "text": [
      "2.0354528190248935\n",
      "0\n",
      "step 1 finished\n",
      "1.9844692398976698\n",
      "2.088450590304441\n",
      "2.0035122567388304\n",
      "2.006487919389443\n",
      "step 2 finished\n",
      "1.9617754824576865\n",
      "2.0648518304946553\n",
      "2.0428611854884338\n",
      "1.9842100175988913\n",
      "step 3 finished\n",
      "2.0739412419387238\n",
      "0\n",
      "2.0450102786863313\n",
      "2.0454965786100354\n",
      "step 4 finished\n",
      "0\n",
      "2.030503639936851\n",
      "2.063138147013154\n",
      "2.0397794478996705\n",
      "step 5 finished\n",
      "0\n",
      "0\n",
      "seen reward: 0\n",
      "seen reward: 0\n",
      "2.045962802164137\n",
      "step 6 finished\n",
      "2.0674459721611482\n",
      "2.049816502920113\n",
      "0\n",
      "2.0460537838285173\n",
      "step 7 finished\n",
      "2.0212319884103973\n",
      "2.061215577500401\n",
      "2.102774041654269\n",
      "seen reward: 2.0460537838285173\n",
      "seen reward: 2.0460537838285173\n",
      "step 8 finished\n",
      "2.099003320148284\n",
      "seen reward: 2.0739412419387238\n",
      "seen reward: 2.0739412419387238\n",
      "2.0700610340158065\n",
      "2.0699599030596105\n",
      "step 9 finished\n",
      "2.1040276340962154\n",
      "seen reward: 2.102774041654269\n",
      "seen reward: 2.102774041654269\n",
      "2.062436130066486\n",
      "2.0592081301243756\n",
      "step 10 finished\n",
      "2.0998181989096967\n",
      "2.111177707623102\n",
      "2.066100491345262\n",
      "2.10430101763268\n",
      "step 11 finished\n",
      "2.1002150838283256\n",
      "seen reward: 2.111177707623102\n",
      "seen reward: 2.111177707623102\n",
      "seen reward: 2.111177707623102\n",
      "seen reward: 2.111177707623102\n",
      "2.102187595767198\n",
      "step 12 finished\n",
      "seen reward: 2.111177707623102\n",
      "seen reward: 2.111177707623102\n",
      "seen reward: 2.111177707623102\n",
      "seen reward: 2.111177707623102\n",
      "seen reward: 2.111177707623102\n",
      "seen reward: 2.111177707623102\n",
      "seen reward: 2.111177707623102\n",
      "seen reward: 2.111177707623102\n",
      "step 13 finished\n",
      "seen reward: 2.111177707623102\n",
      "seen reward: 2.111177707623102\n",
      "seen reward: 2.111177707623102\n",
      "seen reward: 2.111177707623102\n",
      "seen reward: 2.111177707623102\n",
      "seen reward: 2.111177707623102\n",
      "seen reward: 2.111177707623102\n",
      "seen reward: 2.111177707623102\n",
      "step 14 finished\n",
      "seen reward: 2.111177707623102\n",
      "seen reward: 2.111177707623102\n",
      "dump_results started\n"
     ]
    },
    {
     "ename": "TypeError",
     "evalue": "Object of type ndarray is not JSON serializable",
     "output_type": "error",
     "traceback": [
      "\u001b[1;31m---------------------------------------------------------------------------\u001b[0m",
      "\u001b[1;31mTypeError\u001b[0m                                 Traceback (most recent call last)",
      "Cell \u001b[1;32mIn[2], line 87\u001b[0m\n\u001b[0;32m     83\u001b[0m     \u001b[39miter\u001b[39m \u001b[39m+\u001b[39m\u001b[39m=\u001b[39m \u001b[39m1\u001b[39m\n\u001b[0;32m     86\u001b[0m reporter \u001b[39m=\u001b[39m MCTSReporter\u001b[39m.\u001b[39mget_instance()\n\u001b[1;32m---> 87\u001b[0m path \u001b[39m=\u001b[39m reporter\u001b[39m.\u001b[39;49mdump_results()\n\u001b[0;32m     89\u001b[0m \u001b[39m# best_graph, best_control, reward = read_report(path, rule_vocabul)\u001b[39;00m\n\u001b[0;32m     90\u001b[0m \u001b[39m# best_control = [float(x) for x in best_control]\u001b[39;00m\n\u001b[0;32m     91\u001b[0m \u001b[39m# func_reward = control_optimizer.create_reward_function(best_graph)\u001b[39;00m\n\u001b[0;32m     92\u001b[0m \u001b[39m# res = - func_reward(best_control, True)\u001b[39;00m\n\u001b[0;32m     93\u001b[0m \u001b[39m# plot_graph(best_graph)\u001b[39;00m\n\u001b[0;32m     94\u001b[0m \u001b[39m# print(res)\u001b[39;00m\n",
      "File \u001b[1;32mc:\\work\\projects\\graph_assembler_copy\\rostok\\utils\\result_saver.py:188\u001b[0m, in \u001b[0;36mMCTSReporter.dump_results\u001b[1;34m(self)\u001b[0m\n\u001b[0;32m    186\u001b[0m temp_path \u001b[39m=\u001b[39m \u001b[39mself\u001b[39m\u001b[39m.\u001b[39mpath \u001b[39m/\u001b[39m \u001b[39m\"\u001b[39m\u001b[39mtemp_logs\u001b[39m\u001b[39m\"\u001b[39m\n\u001b[0;32m    187\u001b[0m shutil\u001b[39m.\u001b[39mrmtree(temp_path)\n\u001b[1;32m--> 188\u001b[0m \u001b[39mself\u001b[39;49m\u001b[39m.\u001b[39;49mcreate_json_report(path)\n\u001b[0;32m    189\u001b[0m \u001b[39mprint\u001b[39m(\u001b[39m\"\u001b[39m\u001b[39mdump_results finished\u001b[39m\u001b[39m\"\u001b[39m)\n\u001b[0;32m    190\u001b[0m \u001b[39mreturn\u001b[39;00m path\n",
      "File \u001b[1;32mc:\\work\\projects\\graph_assembler_copy\\rostok\\utils\\result_saver.py:199\u001b[0m, in \u001b[0;36mMCTSReporter.create_json_report\u001b[1;34m(self, path)\u001b[0m\n\u001b[0;32m    197\u001b[0m path \u001b[39m=\u001b[39m Path(path, \u001b[39m'\u001b[39m\u001b[39mreport.json\u001b[39m\u001b[39m'\u001b[39m)\n\u001b[0;32m    198\u001b[0m file \u001b[39m=\u001b[39m \u001b[39mopen\u001b[39m(path, \u001b[39m'\u001b[39m\u001b[39mw\u001b[39m\u001b[39m'\u001b[39m)\n\u001b[1;32m--> 199\u001b[0m json\u001b[39m.\u001b[39;49mdump(\u001b[39mself\u001b[39;49m\u001b[39m.\u001b[39;49mrewards,file)\n\u001b[0;32m    200\u001b[0m file\u001b[39m.\u001b[39mclose()\n",
      "File \u001b[1;32mc:\\Users\\alice\\anaconda3\\envs\\rostok_cad\\lib\\json\\__init__.py:179\u001b[0m, in \u001b[0;36mdump\u001b[1;34m(obj, fp, skipkeys, ensure_ascii, check_circular, allow_nan, cls, indent, separators, default, sort_keys, **kw)\u001b[0m\n\u001b[0;32m    173\u001b[0m     iterable \u001b[39m=\u001b[39m \u001b[39mcls\u001b[39m(skipkeys\u001b[39m=\u001b[39mskipkeys, ensure_ascii\u001b[39m=\u001b[39mensure_ascii,\n\u001b[0;32m    174\u001b[0m         check_circular\u001b[39m=\u001b[39mcheck_circular, allow_nan\u001b[39m=\u001b[39mallow_nan, indent\u001b[39m=\u001b[39mindent,\n\u001b[0;32m    175\u001b[0m         separators\u001b[39m=\u001b[39mseparators,\n\u001b[0;32m    176\u001b[0m         default\u001b[39m=\u001b[39mdefault, sort_keys\u001b[39m=\u001b[39msort_keys, \u001b[39m*\u001b[39m\u001b[39m*\u001b[39mkw)\u001b[39m.\u001b[39miterencode(obj)\n\u001b[0;32m    177\u001b[0m \u001b[39m# could accelerate with writelines in some versions of Python, at\u001b[39;00m\n\u001b[0;32m    178\u001b[0m \u001b[39m# a debuggability cost\u001b[39;00m\n\u001b[1;32m--> 179\u001b[0m \u001b[39mfor\u001b[39;00m chunk \u001b[39min\u001b[39;00m iterable:\n\u001b[0;32m    180\u001b[0m     fp\u001b[39m.\u001b[39mwrite(chunk)\n",
      "File \u001b[1;32mc:\\Users\\alice\\anaconda3\\envs\\rostok_cad\\lib\\json\\encoder.py:431\u001b[0m, in \u001b[0;36m_make_iterencode.<locals>._iterencode\u001b[1;34m(o, _current_indent_level)\u001b[0m\n\u001b[0;32m    429\u001b[0m     \u001b[39myield from\u001b[39;00m _iterencode_list(o, _current_indent_level)\n\u001b[0;32m    430\u001b[0m \u001b[39melif\u001b[39;00m \u001b[39misinstance\u001b[39m(o, \u001b[39mdict\u001b[39m):\n\u001b[1;32m--> 431\u001b[0m     \u001b[39myield from\u001b[39;00m _iterencode_dict(o, _current_indent_level)\n\u001b[0;32m    432\u001b[0m \u001b[39melse\u001b[39;00m:\n\u001b[0;32m    433\u001b[0m     \u001b[39mif\u001b[39;00m markers \u001b[39mis\u001b[39;00m \u001b[39mnot\u001b[39;00m \u001b[39mNone\u001b[39;00m:\n",
      "File \u001b[1;32mc:\\Users\\alice\\anaconda3\\envs\\rostok_cad\\lib\\json\\encoder.py:405\u001b[0m, in \u001b[0;36m_make_iterencode.<locals>._iterencode_dict\u001b[1;34m(dct, _current_indent_level)\u001b[0m\n\u001b[0;32m    403\u001b[0m         \u001b[39melse\u001b[39;00m:\n\u001b[0;32m    404\u001b[0m             chunks \u001b[39m=\u001b[39m _iterencode(value, _current_indent_level)\n\u001b[1;32m--> 405\u001b[0m         \u001b[39myield from\u001b[39;00m chunks\n\u001b[0;32m    406\u001b[0m \u001b[39mif\u001b[39;00m newline_indent \u001b[39mis\u001b[39;00m \u001b[39mnot\u001b[39;00m \u001b[39mNone\u001b[39;00m:\n\u001b[0;32m    407\u001b[0m     _current_indent_level \u001b[39m-\u001b[39m\u001b[39m=\u001b[39m \u001b[39m1\u001b[39m\n",
      "File \u001b[1;32mc:\\Users\\alice\\anaconda3\\envs\\rostok_cad\\lib\\json\\encoder.py:325\u001b[0m, in \u001b[0;36m_make_iterencode.<locals>._iterencode_list\u001b[1;34m(lst, _current_indent_level)\u001b[0m\n\u001b[0;32m    323\u001b[0m         \u001b[39melse\u001b[39;00m:\n\u001b[0;32m    324\u001b[0m             chunks \u001b[39m=\u001b[39m _iterencode(value, _current_indent_level)\n\u001b[1;32m--> 325\u001b[0m         \u001b[39myield from\u001b[39;00m chunks\n\u001b[0;32m    326\u001b[0m \u001b[39mif\u001b[39;00m newline_indent \u001b[39mis\u001b[39;00m \u001b[39mnot\u001b[39;00m \u001b[39mNone\u001b[39;00m:\n\u001b[0;32m    327\u001b[0m     _current_indent_level \u001b[39m-\u001b[39m\u001b[39m=\u001b[39m \u001b[39m1\u001b[39m\n",
      "File \u001b[1;32mc:\\Users\\alice\\anaconda3\\envs\\rostok_cad\\lib\\json\\encoder.py:325\u001b[0m, in \u001b[0;36m_make_iterencode.<locals>._iterencode_list\u001b[1;34m(lst, _current_indent_level)\u001b[0m\n\u001b[0;32m    323\u001b[0m         \u001b[39melse\u001b[39;00m:\n\u001b[0;32m    324\u001b[0m             chunks \u001b[39m=\u001b[39m _iterencode(value, _current_indent_level)\n\u001b[1;32m--> 325\u001b[0m         \u001b[39myield from\u001b[39;00m chunks\n\u001b[0;32m    326\u001b[0m \u001b[39mif\u001b[39;00m newline_indent \u001b[39mis\u001b[39;00m \u001b[39mnot\u001b[39;00m \u001b[39mNone\u001b[39;00m:\n\u001b[0;32m    327\u001b[0m     _current_indent_level \u001b[39m-\u001b[39m\u001b[39m=\u001b[39m \u001b[39m1\u001b[39m\n",
      "File \u001b[1;32mc:\\Users\\alice\\anaconda3\\envs\\rostok_cad\\lib\\json\\encoder.py:438\u001b[0m, in \u001b[0;36m_make_iterencode.<locals>._iterencode\u001b[1;34m(o, _current_indent_level)\u001b[0m\n\u001b[0;32m    436\u001b[0m         \u001b[39mraise\u001b[39;00m \u001b[39mValueError\u001b[39;00m(\u001b[39m\"\u001b[39m\u001b[39mCircular reference detected\u001b[39m\u001b[39m\"\u001b[39m)\n\u001b[0;32m    437\u001b[0m     markers[markerid] \u001b[39m=\u001b[39m o\n\u001b[1;32m--> 438\u001b[0m o \u001b[39m=\u001b[39m _default(o)\n\u001b[0;32m    439\u001b[0m \u001b[39myield from\u001b[39;00m _iterencode(o, _current_indent_level)\n\u001b[0;32m    440\u001b[0m \u001b[39mif\u001b[39;00m markers \u001b[39mis\u001b[39;00m \u001b[39mnot\u001b[39;00m \u001b[39mNone\u001b[39;00m:\n",
      "File \u001b[1;32mc:\\Users\\alice\\anaconda3\\envs\\rostok_cad\\lib\\json\\encoder.py:179\u001b[0m, in \u001b[0;36mJSONEncoder.default\u001b[1;34m(self, o)\u001b[0m\n\u001b[0;32m    160\u001b[0m \u001b[39mdef\u001b[39;00m \u001b[39mdefault\u001b[39m(\u001b[39mself\u001b[39m, o):\n\u001b[0;32m    161\u001b[0m     \u001b[39m\"\"\"Implement this method in a subclass such that it returns\u001b[39;00m\n\u001b[0;32m    162\u001b[0m \u001b[39m    a serializable object for ``o``, or calls the base implementation\u001b[39;00m\n\u001b[0;32m    163\u001b[0m \u001b[39m    (to raise a ``TypeError``).\u001b[39;00m\n\u001b[1;32m   (...)\u001b[0m\n\u001b[0;32m    177\u001b[0m \n\u001b[0;32m    178\u001b[0m \u001b[39m    \"\"\"\u001b[39;00m\n\u001b[1;32m--> 179\u001b[0m     \u001b[39mraise\u001b[39;00m \u001b[39mTypeError\u001b[39;00m(\u001b[39mf\u001b[39m\u001b[39m'\u001b[39m\u001b[39mObject of type \u001b[39m\u001b[39m{\u001b[39;00mo\u001b[39m.\u001b[39m\u001b[39m__class__\u001b[39m\u001b[39m.\u001b[39m\u001b[39m__name__\u001b[39m\u001b[39m}\u001b[39;00m\u001b[39m \u001b[39m\u001b[39m'\u001b[39m\n\u001b[0;32m    180\u001b[0m                     \u001b[39mf\u001b[39m\u001b[39m'\u001b[39m\u001b[39mis not JSON serializable\u001b[39m\u001b[39m'\u001b[39m)\n",
      "\u001b[1;31mTypeError\u001b[0m: Object of type ndarray is not JSON serializable"
     ]
    }
   ],
   "source": [
    "import matplotlib.pyplot as plt\n",
    "import mcts\n",
    "# imports from standard libs\n",
    "import networkx as nx\n",
    "# chrono imports\n",
    "import pychrono as chrono\n",
    "import rule_extention\n",
    "from control_optimisation import (create_grab_criterion_fun, create_traj_fun,\n",
    "                                  get_object_to_grasp)\n",
    "\n",
    "import rostok.graph_generators.graph_environment as env\n",
    "from rostok.criterion.flags_simualtions import (FlagMaxTime, FlagNotContact,\n",
    "                                                FlagSlipout)\n",
    "from rostok.graph_grammar.node import GraphGrammar\n",
    "from rostok.trajectory_optimizer.control_optimizer import (\n",
    "    ConfigRewardFunction, ControlOptimizer)\n",
    "#from rostok.utils.result_saver import read_report\n",
    "from rostok.utils.result_saver import MCTSReporter\n",
    "\n",
    "\n",
    "def plot_graph(graph: GraphGrammar):\n",
    "    plt.figure()\n",
    "    nx.draw_networkx(graph,\n",
    "                     pos=nx.kamada_kawai_layout(graph, dim=2),\n",
    "                     node_size=800,\n",
    "                     labels={n: graph.nodes[n][\"Node\"].label for n in graph})\n",
    "    #plt.savefig(\"./results/graph.jpg\")\n",
    "    plt.show()\n",
    "\n",
    "\n",
    "# %% Create extension rule vocabulary\n",
    "\n",
    "# %% Create extension rule vocabulary\n",
    "\n",
    "rule_vocabul, node_features = rule_extention.init_extension_rules()\n",
    "\n",
    "# %% Create condig optimizing control\n",
    "\n",
    "GAIT = 2.5\n",
    "WEIGHT = [3, 1, 1, 2]\n",
    "\n",
    "cfg = ConfigRewardFunction()\n",
    "cfg.bound = (2, 10)\n",
    "cfg.iters = 5\n",
    "cfg.sim_config = {\"Set_G_acc\": chrono.ChVectorD(0, 0, 0)}\n",
    "cfg.time_step = 0.005\n",
    "cfg.time_sim = 2\n",
    "cfg.flags = [FlagMaxTime(2), FlagNotContact(1), FlagSlipout(0.5, 0.5)]\n",
    "\"\"\"Wraps function call\"\"\"\n",
    "\n",
    "criterion_callback = create_grab_criterion_fun(node_features, GAIT, WEIGHT)\n",
    "traj_generator_fun = create_traj_fun(cfg.time_sim, cfg.time_step)\n",
    "\n",
    "cfg.criterion_callback = criterion_callback\n",
    "cfg.get_rgab_object_callback = get_object_to_grasp\n",
    "cfg.params_to_timesiries_callback = traj_generator_fun\n",
    "\n",
    "control_optimizer = ControlOptimizer(cfg)\n",
    "\n",
    "# %% Init mcts parameters\n",
    "\n",
    "# Hyperparameters mctss\n",
    "iteration_limit = 4\n",
    "\n",
    "# Initialize MCTS\n",
    "searcher = mcts.mcts(iterationLimit=iteration_limit)\n",
    "finish = False\n",
    "\n",
    "G = GraphGrammar()\n",
    "max_numbers_rules = 5\n",
    "# Create graph envirenments for algorithm (not gym)\n",
    "graph_env = env.GraphVocabularyEnvironment(G, rule_vocabul, max_numbers_rules)\n",
    "\n",
    "graph_env.set_control_optimizer(control_optimizer)\n",
    "\n",
    "\n",
    "\n",
    "#%% Run first algorithm\n",
    "iter = 0\n",
    "while not finish:\n",
    "    action = searcher.search(initialState=graph_env)\n",
    "    finish, final_graph = graph_env.step(action, False)\n",
    "    iter += 1\n",
    "\n",
    "\n",
    "reporter = MCTSReporter.get_instance()\n",
    "path = reporter.dump_results()\n",
    "\n",
    "# best_graph, best_control, reward = read_report(path, rule_vocabul)\n",
    "# best_control = [float(x) for x in best_control]\n",
    "# func_reward = control_optimizer.create_reward_function(best_graph)\n",
    "# res = - func_reward(best_control, True)\n",
    "# plot_graph(best_graph)\n",
    "# print(res)"
   ]
  },
  {
   "cell_type": "code",
   "execution_count": 1,
   "metadata": {},
   "outputs": [
    {
     "ename": "NameError",
     "evalue": "name 'reporter' is not defined",
     "output_type": "error",
     "traceback": [
      "\u001b[1;31m---------------------------------------------------------------------------\u001b[0m",
      "\u001b[1;31mNameError\u001b[0m                                 Traceback (most recent call last)",
      "Cell \u001b[1;32mIn[1], line 1\u001b[0m\n\u001b[1;32m----> 1\u001b[0m reporter\u001b[39m.\u001b[39mplot_means()\n",
      "\u001b[1;31mNameError\u001b[0m: name 'reporter' is not defined"
     ]
    }
   ],
   "source": [
    "reporter.plot_means()"
   ]
  },
  {
   "cell_type": "code",
   "execution_count": 1,
   "metadata": {},
   "outputs": [
    {
     "name": "stdout",
     "output_type": "stream",
     "text": [
      "read MCTS report generated at:  2022-12-23_17-35-20\n",
      "\n",
      "plot_means started\n"
     ]
    },
    {
     "data": {
      "image/png": "[encoded data removed]",
      "text/plain": [
       "<Figure size 640x480 with 1 Axes>"
      ]
     },
     "metadata": {},
     "output_type": "display_data"
    }
   ],
   "source": [
    "from pathlib import Path\n",
    "from rostok.utils.result_saver import MCTSReporter\n",
    "\n",
    "\n",
    "reporter = MCTSReporter.get_instance()\n",
    "reporter.load_report(Path('./results/MCTS_report_22y_12m_23d_17H_35M'))\n",
    "\n",
    "reporter.plot_means()"
   ]
  },
  {
   "cell_type": "code",
   "execution_count": 4,
   "metadata": {},
   "outputs": [
    {
     "name": "stdout",
     "output_type": "stream",
     "text": [
      "dump_results started\n"
     ]
    },
    {
     "ename": "FileNotFoundError",
     "evalue": "[WinError 3] Системе не удается найти указанный путь: 'results\\\\temp_logs'",
     "output_type": "error",
     "traceback": [
      "\u001b[1;31m---------------------------------------------------------------------------\u001b[0m",
      "\u001b[1;31mFileNotFoundError\u001b[0m                         Traceback (most recent call last)",
      "Cell \u001b[1;32mIn[4], line 9\u001b[0m\n\u001b[0;32m      6\u001b[0m             robot[\u001b[39m2\u001b[39m] \u001b[39m=\u001b[39m \u001b[39mlist\u001b[39m(robot[\u001b[39m2\u001b[39m])\n\u001b[0;32m      7\u001b[0m             \u001b[39mprint\u001b[39m(\u001b[39mtype\u001b[39m(robot[\u001b[39m2\u001b[39m]))\n\u001b[1;32m----> 9\u001b[0m path \u001b[39m=\u001b[39m reporter\u001b[39m.\u001b[39;49mdump_results()\n",
      "File \u001b[1;32mc:\\work\\projects\\graph_assembler_copy\\rostok\\utils\\result_saver.py:187\u001b[0m, in \u001b[0;36mMCTSReporter.dump_results\u001b[1;34m(self)\u001b[0m\n\u001b[0;32m    185\u001b[0m     sys\u001b[39m.\u001b[39mstdout \u001b[39m=\u001b[39m original_stdout\n\u001b[0;32m    186\u001b[0m temp_path \u001b[39m=\u001b[39m \u001b[39mself\u001b[39m\u001b[39m.\u001b[39mpath \u001b[39m/\u001b[39m \u001b[39m\"\u001b[39m\u001b[39mtemp_logs\u001b[39m\u001b[39m\"\u001b[39m\n\u001b[1;32m--> 187\u001b[0m shutil\u001b[39m.\u001b[39;49mrmtree(temp_path)\n\u001b[0;32m    188\u001b[0m \u001b[39mself\u001b[39m\u001b[39m.\u001b[39mcreate_json_report(path)\n\u001b[0;32m    189\u001b[0m \u001b[39mprint\u001b[39m(\u001b[39m\"\u001b[39m\u001b[39mdump_results finished\u001b[39m\u001b[39m\"\u001b[39m)\n",
      "File \u001b[1;32mc:\\Users\\alice\\anaconda3\\envs\\rostok_cad\\lib\\shutil.py:757\u001b[0m, in \u001b[0;36mrmtree\u001b[1;34m(path, ignore_errors, onerror)\u001b[0m\n\u001b[0;32m    755\u001b[0m     \u001b[39m# can't continue even if onerror hook returns\u001b[39;00m\n\u001b[0;32m    756\u001b[0m     \u001b[39mreturn\u001b[39;00m\n\u001b[1;32m--> 757\u001b[0m \u001b[39mreturn\u001b[39;00m _rmtree_unsafe(path, onerror)\n",
      "File \u001b[1;32mc:\\Users\\alice\\anaconda3\\envs\\rostok_cad\\lib\\shutil.py:608\u001b[0m, in \u001b[0;36m_rmtree_unsafe\u001b[1;34m(path, onerror)\u001b[0m\n\u001b[0;32m    606\u001b[0m         entries \u001b[39m=\u001b[39m \u001b[39mlist\u001b[39m(scandir_it)\n\u001b[0;32m    607\u001b[0m \u001b[39mexcept\u001b[39;00m \u001b[39mOSError\u001b[39;00m:\n\u001b[1;32m--> 608\u001b[0m     onerror(os\u001b[39m.\u001b[39;49mscandir, path, sys\u001b[39m.\u001b[39;49mexc_info())\n\u001b[0;32m    609\u001b[0m     entries \u001b[39m=\u001b[39m []\n\u001b[0;32m    610\u001b[0m \u001b[39mfor\u001b[39;00m entry \u001b[39min\u001b[39;00m entries:\n",
      "File \u001b[1;32mc:\\Users\\alice\\anaconda3\\envs\\rostok_cad\\lib\\shutil.py:605\u001b[0m, in \u001b[0;36m_rmtree_unsafe\u001b[1;34m(path, onerror)\u001b[0m\n\u001b[0;32m    603\u001b[0m \u001b[39mdef\u001b[39;00m \u001b[39m_rmtree_unsafe\u001b[39m(path, onerror):\n\u001b[0;32m    604\u001b[0m     \u001b[39mtry\u001b[39;00m:\n\u001b[1;32m--> 605\u001b[0m         \u001b[39mwith\u001b[39;00m os\u001b[39m.\u001b[39;49mscandir(path) \u001b[39mas\u001b[39;00m scandir_it:\n\u001b[0;32m    606\u001b[0m             entries \u001b[39m=\u001b[39m \u001b[39mlist\u001b[39m(scandir_it)\n\u001b[0;32m    607\u001b[0m     \u001b[39mexcept\u001b[39;00m \u001b[39mOSError\u001b[39;00m:\n",
      "\u001b[1;31mFileNotFoundError\u001b[0m: [WinError 3] Системе не удается найти указанный путь: 'results\\\\temp_logs'"
     ]
    }
   ],
   "source": [
    "from numpy import ndarray\n",
    "\n",
    "for item in reporter.rewards.items():\n",
    "    for robot in item[1]:\n",
    "        if isinstance(robot[2], ndarray):\n",
    "            robot[2] = list(robot[2])\n",
    "            print(type(robot[2]))\n",
    "    \n",
    "path = reporter.dump_results()"
   ]
  }
 ],
 "metadata": {
  "kernelspec": {
   "display_name": "rostok",
   "language": "python",
   "name": "python3"
  },
  "language_info": {
   "codemirror_mode": {
    "name": "ipython",
    "version": 3
   },
   "file_extension": ".py",
   "mimetype": "text/x-python",
   "name": "python",
   "nbconvert_exporter": "python",
   "pygments_lexer": "ipython3",
   "version": "3.9.12"
  },
  "orig_nbformat": 4,
  "vscode": {
   "interpreter": {
    "hash": "a06a80954b576bbb377c5d3793124034d619d9cd5942dac3b7e32d23ba044deb"
   }
  }
 },
 "nbformat": 4,
 "nbformat_minor": 2
}
