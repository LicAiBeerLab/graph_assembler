{
 "cells": [
  {
   "cell_type": "code",
   "execution_count": null,
   "metadata": {},
   "outputs": [],
   "source": []
  },
  {
   "attachments": {},
   "cell_type": "markdown",
   "metadata": {},
   "source": [
    "In order to use Graph Grammar user have to build node and rule vocabularies the instances of the NodeVocabulary and RuleVocabulary classes and fill them with nodes and rules for the graph. This tutorial provides the description of the creating nodes and rules process.  \n",
    "\n",
    "Before starting to build your vocabularies import all necessary libs standard and from the rostok package "
   ]
  },
  {
   "cell_type": "code",
   "execution_count": null,
   "metadata": {},
   "outputs": [],
   "source": [
    "from cmath import sqrt\n",
    "\n",
    "import numpy as np\n",
    "\n",
    "from rostok.block_builder.node_render import (ChronoRevolveJoint,\n",
    "                                              ChronoTransform, FlatChronoBody,\n",
    "                                              LinkChronoBody, MountChronoBody)\n",
    "from rostok.block_builder.transform_srtucture import FrameTransform\n",
    "from rostok.graph_grammar.node import ROOT, BlockWrapper, GraphGrammar\n",
    "from rostok.graph_grammar.node_vocabulary import NodeVocabulary\n",
    "from rostok.graph_grammar.rule_vocabulary import RuleVocabulary"
   ]
  },
  {
   "attachments": {},
   "cell_type": "markdown",
   "metadata": {},
   "source": [
    "Create and instance of the [class](https://licaibeerlab.github.io/rostok/modules/graph_grammar/node_rule_vocabulary.html#rostok.graph_grammar.node_vocabulary.NodeVocabulary) `NodeVocabulary` and add the imported node ROOT to your vocabulary, the ROOT node is special starting point that have to be in any node vocabulary. \n",
    "\n",
    "There are two types of nodes terminal and non-terminal. The non-terminal nodes describe a part of the robot in general without physical properties, for example node \"J\" represents joints. The nodes are the objects of the class `Node` and terminal nodes actually have only one attribute - label. So one should plan how many structural nodes is needed in the rules. Here we have 14 nodes."
   ]
  },
  {
   "cell_type": "code",
   "execution_count": null,
   "metadata": {},
   "outputs": [],
   "source": [
    "node_vocab = NodeVocabulary()\n",
    "node_vocab.add_node(ROOT)\n",
    "node_vocab.create_node(\"J\")\n",
    "node_vocab.create_node(\"L\")\n",
    "node_vocab.create_node(\"F\")\n",
    "node_vocab.create_node(\"M\")\n",
    "node_vocab.create_node(\"EF\")\n",
    "node_vocab.create_node(\"EM\")"
   ]
  },
  {
   "cell_type": "code",
   "execution_count": null,
   "metadata": {},
   "outputs": [],
   "source": []
  }
 ],
 "metadata": {
  "kernelspec": {
   "display_name": "rostok_cad",
   "language": "python",
   "name": "python3"
  },
  "language_info": {
   "name": "python",
   "version": "3.9.12 (main, Apr  4 2022, 05:22:27) [MSC v.1916 64 bit (AMD64)]"
  },
  "orig_nbformat": 4,
  "vscode": {
   "interpreter": {
    "hash": "bcaec27d4b3fbe402b5cf52864b7d8420e8044c2f21178d90230bef8f5265334"
   }
  }
 },
 "nbformat": 4,
 "nbformat_minor": 2
}
