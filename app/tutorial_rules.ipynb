{
 "cells": [
  {
   "cell_type": "code",
   "execution_count": null,
   "metadata": {},
   "outputs": [],
   "source": []
  },
  {
   "attachments": {},
   "cell_type": "markdown",
   "metadata": {},
   "source": [
    "In order to use Graph Grammar user have to build node and rule vocabularies the instances of the NodeVocabulary and RuleVocabulary classes and fill them with nodes and rules for the graph. This tutorial provides the description of the creating nodes and rules process.  \n",
    "\n",
    "Before starting to build your vocabularies import all necessary libs standard and from the rostok package "
   ]
  },
  {
   "cell_type": "code",
   "execution_count": 1,
   "metadata": {},
   "outputs": [],
   "source": [
    "from cmath import sqrt\n",
    "\n",
    "import numpy as np\n",
    "\n",
    "from rostok.block_builder.node_render import (ChronoRevolveJoint,\n",
    "                                              ChronoTransform, FlatChronoBody,\n",
    "                                              LinkChronoBody, MountChronoBody)\n",
    "from rostok.block_builder.transform_srtucture import FrameTransform\n",
    "from rostok.graph_grammar.node import ROOT, BlockWrapper, GraphGrammar\n",
    "from rostok.graph_grammar.node_vocabulary import NodeVocabulary\n",
    "from rostok.graph_grammar.rule_vocabulary import RuleVocabulary"
   ]
  },
  {
   "attachments": {},
   "cell_type": "markdown",
   "metadata": {},
   "source": [
    "Create and instance of the [class](https://licaibeerlab.github.io/rostok/modules/graph_grammar/node_rule_vocabulary.html#rostok.graph_grammar.node_vocabulary.NodeVocabulary) `NodeVocabulary` and add the imported node ROOT to your vocabulary, the ROOT node is special starting point that have to be in any node vocabulary. \n",
    "\n",
    "There are two types of nodes terminal and non-terminal. The non-terminal nodes describe a part of the robot in general without physical properties, for example node \"J\" represents joints. The nodes are the objects of the class `Node` and terminal nodes actually have only one attribute - label. So one should plan how many structural nodes is needed in the rules. Here we have 14 nodes."
   ]
  },
  {
   "cell_type": "code",
   "execution_count": 2,
   "metadata": {},
   "outputs": [],
   "source": [
    "node_vocab = NodeVocabulary()\n",
    "node_vocab.add_node(ROOT)\n",
    "node_vocab.create_node(\"J\")\n",
    "node_vocab.create_node(\"L\")\n",
    "node_vocab.create_node(\"F\")\n",
    "node_vocab.create_node(\"M\")\n",
    "node_vocab.create_node(\"EF\")\n",
    "node_vocab.create_node(\"EM\")"
   ]
  },
  {
   "attachments": {},
   "cell_type": "markdown",
   "metadata": {},
   "source": [
    "The second type of nodes are terminal nodes - they represent the physical properties of the nodes in the robot. The physical properties of a node are defined through an instance of the `BlockWrapper` class. To construct the `BlockWrapper` object one have to chose the type of the node by choosing one of the classes from node_render module and set the required for that class parameters.\n",
    "\n",
    "Here for a joint node we choose `ChronoRevolveJoint` set the rotation around Z axis and set the type of the control - `TORQUE`.\n"
   ]
  },
  {
   "cell_type": "code",
   "execution_count": 3,
   "metadata": {},
   "outputs": [],
   "source": [
    "type_of_input = ChronoRevolveJoint.InputType.TORQUE\n",
    "# Joints\n",
    "revolve1 = BlockWrapper(ChronoRevolveJoint, ChronoRevolveJoint.Axis.Z, type_of_input)\n",
    "node_vocab.create_node(label=\"J1\", is_terminal=True, block_wrapper=revolve1)"
   ]
  },
  {
   "attachments": {},
   "cell_type": "markdown",
   "metadata": {},
   "source": [
    "For each non-terminal nodes one can have several terminal nodes - several details with specific physical properties that have the same function and hence the same non-terminal node. Here we have two palms with different sizes specified with width. The `FlatChronoBody` represents the fixed part of the mechanism and has the form of the box. Here we only set the size of the box and other parameters remain default. The total list of parameters can be seen in the class [documentation](https://licaibeerlab.github.io/rostok/modules/graph_grammar/graph_builder.html#rostok.block_builder.node_render.FlatChronoBody)."
   ]
  },
  {
   "cell_type": "code",
   "execution_count": 4,
   "metadata": {},
   "outputs": [],
   "source": [
    "flat1 = BlockWrapper(FlatChronoBody, width=0.4, length=0.2)\n",
    "flat2 = BlockWrapper(FlatChronoBody, width=0.7, length=0.2)\n",
    "node_vocab.create_node(label=\"F1\", is_terminal=True, block_wrapper=flat1)\n",
    "node_vocab.create_node(label=\"F2\", is_terminal=True, block_wrapper=flat2)"
   ]
  },
  {
   "attachments": {},
   "cell_type": "markdown",
   "metadata": {},
   "source": [
    "Next are the links that represents the parts of the fingers. Here we create two different links specified by lengths using class `LinkChronoBody`. It also has more parameters that can be seen in class [documentation](https://licaibeerlab.github.io/rostok/modules/graph_grammar/graph_builder.html#rostok.block_builder.node_render.LinkChronoBody)."
   ]
  },
  {
   "cell_type": "code",
   "execution_count": 5,
   "metadata": {},
   "outputs": [],
   "source": [
    "link1 = BlockWrapper(LinkChronoBody, length=0.6)\n",
    "link2 = BlockWrapper(LinkChronoBody, length=0.4)\n",
    "node_vocab.create_node(label=\"L1\", is_terminal=True, block_wrapper=link1)\n",
    "node_vocab.create_node(label=\"L2\", is_terminal=True, block_wrapper=link2)"
   ]
  },
  {
   "attachments": {},
   "cell_type": "markdown",
   "metadata": {},
   "source": [
    "We also add a fingertip that would end the fingers of the grasping mechanism, setting them with two sizes. Other parameters see in documentation."
   ]
  },
  {
   "cell_type": "code",
   "execution_count": 6,
   "metadata": {},
   "outputs": [],
   "source": [
    "u1 = BlockWrapper(MountChronoBody, width=0.1, length=0.1)\n",
    "node_vocab.create_node(label=\"U1\", is_terminal=True, block_wrapper=u1)"
   ]
  },
  {
   "attachments": {},
   "cell_type": "markdown",
   "metadata": {},
   "source": [
    "Before we had nodes that represented the physical bodies. Here we consider the special case - nodes that represent the coordinates of the base of a finger on the palm. In that set of nodes it is the most difficult part. First we create function that transforms angle in degrees into the rotation that can be set for `Pychrono` object.  \n",
    "\n",
    "\n",
    "For each palm we create several movements using `FrameTransform` object, that consists of the translation \n",
    "\n"
   ]
  },
  {
   "cell_type": "code",
   "execution_count": 7,
   "metadata": {},
   "outputs": [],
   "source": [
    "# Transforms\n",
    "MOVE_ZX_PLUS = FrameTransform([0.3, 0, 0.3], [1, 0, 0, 0])\n",
    "MOVE_ZX_MINUS = FrameTransform([-0.3, 0, -0.3], [1, 0, 0, 0])\n",
    "\n",
    "MOVE_X_PLUS = FrameTransform([0.3, 0, 0.], [1, 0, 0, 0])\n",
    "MOVE_Z_PLUS_X_MINUS = FrameTransform([-0.3, 0, 0.3], [1, 0, 0, 0])"
   ]
  },
  {
   "attachments": {},
   "cell_type": "markdown",
   "metadata": {},
   "source": [
    "For each movement we also create a `BlockWrapper` object "
   ]
  },
  {
   "attachments": {},
   "cell_type": "markdown",
   "metadata": {},
   "source": [
    "transform_mzx_plus = BlockWrapper(ChronoTransform, MOVE_ZX_PLUS)\n",
    "transform_mzx_minus = BlockWrapper(ChronoTransform, MOVE_ZX_MINUS)\n",
    "transform_mx_plus = BlockWrapper(ChronoTransform, MOVE_X_PLUS)\n",
    "transform_mz_plus_x_minus = BlockWrapper(ChronoTransform, MOVE_Z_PLUS_X_MINUS)"
   ]
  },
  {
   "cell_type": "code",
   "execution_count": 8,
   "metadata": {},
   "outputs": [
    {
     "ename": "NameError",
     "evalue": "name 'transform_mx_plus' is not defined",
     "output_type": "error",
     "traceback": [
      "\u001b[1;31m---------------------------------------------------------------------------\u001b[0m",
      "\u001b[1;31mNameError\u001b[0m                                 Traceback (most recent call last)",
      "Cell \u001b[1;32mIn[8], line 1\u001b[0m\n\u001b[1;32m----> 1\u001b[0m node_vocab\u001b[39m.\u001b[39mcreate_node(label\u001b[39m=\u001b[39m\u001b[39m\"\u001b[39m\u001b[39mT1\u001b[39m\u001b[39m\"\u001b[39m, is_terminal\u001b[39m=\u001b[39m\u001b[39mTrue\u001b[39;00m, block_wrapper\u001b[39m=\u001b[39mtransform_mx_plus)\n\u001b[0;32m      2\u001b[0m node_vocab\u001b[39m.\u001b[39mcreate_node(label\u001b[39m=\u001b[39m\u001b[39m\"\u001b[39m\u001b[39mT2\u001b[39m\u001b[39m\"\u001b[39m, is_terminal\u001b[39m=\u001b[39m\u001b[39mTrue\u001b[39;00m, block_wrapper\u001b[39m=\u001b[39mtransform_mz_plus_x_minus)\n\u001b[0;32m      3\u001b[0m node_vocab\u001b[39m.\u001b[39mcreate_node(label\u001b[39m=\u001b[39m\u001b[39m\"\u001b[39m\u001b[39mT3\u001b[39m\u001b[39m\"\u001b[39m, is_terminal\u001b[39m=\u001b[39m\u001b[39mTrue\u001b[39;00m, block_wrapper\u001b[39m=\u001b[39mtransform_mzx_plus)\n",
      "\u001b[1;31mNameError\u001b[0m: name 'transform_mx_plus' is not defined"
     ]
    }
   ],
   "source": [
    "node_vocab.create_node(label=\"T1\", is_terminal=True, block_wrapper=transform_mx_plus)\n",
    "node_vocab.create_node(label=\"T2\", is_terminal=True, block_wrapper=transform_mz_plus_x_minus)\n",
    "node_vocab.create_node(label=\"T3\", is_terminal=True, block_wrapper=transform_mzx_plus)\n",
    "node_vocab.create_node(label=\"T4\", is_terminal=True, block_wrapper=transform_mzx_minus)"
   ]
  }
 ],
 "metadata": {
  "kernelspec": {
   "display_name": "rostok_cad",
   "language": "python",
   "name": "python3"
  },
  "language_info": {
   "codemirror_mode": {
    "name": "ipython",
    "version": 3
   },
   "file_extension": ".py",
   "mimetype": "text/x-python",
   "name": "python",
   "nbconvert_exporter": "python",
   "pygments_lexer": "ipython3",
   "version": "3.9.12"
  },
  "orig_nbformat": 4,
  "vscode": {
   "interpreter": {
    "hash": "bcaec27d4b3fbe402b5cf52864b7d8420e8044c2f21178d90230bef8f5265334"
   }
  }
 },
 "nbformat": 4,
 "nbformat_minor": 2
}
