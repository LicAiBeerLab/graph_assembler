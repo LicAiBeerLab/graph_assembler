{
 "cells": [
  {
   "cell_type": "code",
   "execution_count": 2,
   "metadata": {},
   "outputs": [],
   "source": [
    "import networkx as nx\n",
    "\n",
    "graph =nx.DiGraph()"
   ]
  },
  {
   "cell_type": "code",
   "execution_count": 9,
   "metadata": {},
   "outputs": [
    {
     "name": "stdout",
     "output_type": "stream",
     "text": [
      "(1, {'Node': 'assdfsa', 'Blocks': 'adfasfas', 'Cocks': 'sfdasddfsafsadfas'})\n"
     ]
    }
   ],
   "source": [
    "graph.add_node(1, Node = \"assdfsa\", Blocks=\"adfasfas\")\n",
    "for node in graph.nodes.items():\n",
    "    node[1][\"Cocks\"]=\"sfdasddfsafsadfas\"\n",
    "\n",
    "for node in graph.nodes.items():\n",
    "    print(node)"
   ]
  }
 ],
 "metadata": {
  "kernelspec": {
   "display_name": "rostok",
   "language": "python",
   "name": "python3"
  },
  "language_info": {
   "codemirror_mode": {
    "name": "ipython",
    "version": 3
   },
   "file_extension": ".py",
   "mimetype": "text/x-python",
   "name": "python",
   "nbconvert_exporter": "python",
   "pygments_lexer": "ipython3",
   "version": "3.9.12"
  },
  "orig_nbformat": 4
 },
 "nbformat": 4,
 "nbformat_minor": 2
}
